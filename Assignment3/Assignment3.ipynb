{
  "nbformat": 4,
  "nbformat_minor": 0,
  "metadata": {
    "colab": {
      "name": "Assignment3.ipynb",
      "provenance": [],
      "collapsed_sections": []
    },
    "kernelspec": {
      "name": "python3",
      "display_name": "Python 3"
    },
    "language_info": {
      "name": "python"
    }
  },
  "cells": [
    {
      "cell_type": "markdown",
      "metadata": {
        "id": "l2upp1zseAVC"
      },
      "source": [
        "#1 Feature engineering\n",
        ">Here, you are going to create features from a very simple dataset: retail transaction data from Kaggle. The dataset provides the customer ID, date of the transaction and transaction amount as shown in the table below. Although this may look like a very simple dataset, you will build a wide range of features. The features will then be used as inputs in several models in upcoming assignments, in which you will try to predict the client's response to a promotion campaign."
      ]
    },
    {
      "cell_type": "markdown",
      "metadata": {
        "id": "FZmfbwQjeZwv"
      },
      "source": [
        "## 1.1 Import the data and create the anchor date columns\n",
        ">In order to create features, you need to create some anchor dates. The most typical for transaction data is the end of the month and the year.\n",
        "1. Import the dataset as txn and identify the number of rows."
      ]
    },
    {
      "cell_type": "code",
      "metadata": {
        "id": "h1W7IL9Gd-ob"
      },
      "source": [
        "import pandas as pd\n",
        "import matplotlib.pyplot as plt\n",
        "from itertools import product"
      ],
      "execution_count": 1,
      "outputs": []
    },
    {
      "cell_type": "code",
      "metadata": {
        "colab": {
          "base_uri": "https://localhost:8080/"
        },
        "id": "9JP74QpvfMQO",
        "outputId": "0542dccf-087c-4400-a06f-bee4766d2377"
      },
      "source": [
        "txn = pd.read_csv('Retail_Data_Transactions.csv')\n",
        "print(f'number of rows:',txn.shape[0])"
      ],
      "execution_count": 2,
      "outputs": [
        {
          "output_type": "stream",
          "name": "stdout",
          "text": [
            "number of rows: 125000\n"
          ]
        }
      ]
    },
    {
      "cell_type": "markdown",
      "metadata": {
        "id": "invR8itff-gv"
      },
      "source": [
        ">2. The date-format in column 'trans date' is not standard. Create a new column 'txn_date' from 'trans_date' with pd.to_datetime and drop the column 'trans_date'."
      ]
    },
    {
      "cell_type": "code",
      "metadata": {
        "colab": {
          "base_uri": "https://localhost:8080/",
          "height": 204
        },
        "id": "oj02j6-_gQEF",
        "outputId": "38273f67-569a-4bc5-fdc3-98c250f99ac5"
      },
      "source": [
        "txn['txn_date'] = pd.to_datetime(txn['trans_date']) \n",
        "txn = txn.drop(['trans_date'],axis=1)\n",
        "txn.head()"
      ],
      "execution_count": 3,
      "outputs": [
        {
          "output_type": "execute_result",
          "data": {
            "text/html": [
              "<div>\n",
              "<style scoped>\n",
              "    .dataframe tbody tr th:only-of-type {\n",
              "        vertical-align: middle;\n",
              "    }\n",
              "\n",
              "    .dataframe tbody tr th {\n",
              "        vertical-align: top;\n",
              "    }\n",
              "\n",
              "    .dataframe thead th {\n",
              "        text-align: right;\n",
              "    }\n",
              "</style>\n",
              "<table border=\"1\" class=\"dataframe\">\n",
              "  <thead>\n",
              "    <tr style=\"text-align: right;\">\n",
              "      <th></th>\n",
              "      <th>customer_id</th>\n",
              "      <th>tran_amount</th>\n",
              "      <th>txn_date</th>\n",
              "    </tr>\n",
              "  </thead>\n",
              "  <tbody>\n",
              "    <tr>\n",
              "      <th>0</th>\n",
              "      <td>CS5295</td>\n",
              "      <td>35</td>\n",
              "      <td>2013-02-11</td>\n",
              "    </tr>\n",
              "    <tr>\n",
              "      <th>1</th>\n",
              "      <td>CS4768</td>\n",
              "      <td>39</td>\n",
              "      <td>2015-03-15</td>\n",
              "    </tr>\n",
              "    <tr>\n",
              "      <th>2</th>\n",
              "      <td>CS2122</td>\n",
              "      <td>52</td>\n",
              "      <td>2013-02-26</td>\n",
              "    </tr>\n",
              "    <tr>\n",
              "      <th>3</th>\n",
              "      <td>CS1217</td>\n",
              "      <td>99</td>\n",
              "      <td>2011-11-16</td>\n",
              "    </tr>\n",
              "    <tr>\n",
              "      <th>4</th>\n",
              "      <td>CS1850</td>\n",
              "      <td>78</td>\n",
              "      <td>2013-11-20</td>\n",
              "    </tr>\n",
              "  </tbody>\n",
              "</table>\n",
              "</div>"
            ],
            "text/plain": [
              "  customer_id  tran_amount   txn_date\n",
              "0      CS5295           35 2013-02-11\n",
              "1      CS4768           39 2015-03-15\n",
              "2      CS2122           52 2013-02-26\n",
              "3      CS1217           99 2011-11-16\n",
              "4      CS1850           78 2013-11-20"
            ]
          },
          "metadata": {},
          "execution_count": 3
        }
      ]
    },
    {
      "cell_type": "markdown",
      "metadata": {
        "id": "YKqj-hVmjEcy"
      },
      "source": [
        ">3. Identify the min() and max() of column 'txn_date'."
      ]
    },
    {
      "cell_type": "code",
      "metadata": {
        "colab": {
          "base_uri": "https://localhost:8080/"
        },
        "id": "PGWC1dQpjJak",
        "outputId": "0caa9850-2b3c-4ed2-918d-4015d2a43630"
      },
      "source": [
        "print(f'min date:',min(txn['txn_date']))\n",
        "print(f'max date:',max(txn['txn_date']))"
      ],
      "execution_count": 4,
      "outputs": [
        {
          "output_type": "stream",
          "name": "stdout",
          "text": [
            "min date: 2011-05-16 00:00:00\n",
            "max date: 2015-03-16 00:00:00\n"
          ]
        }
      ]
    },
    {
      "cell_type": "markdown",
      "metadata": {
        "id": "7BtoYQFEjjfX"
      },
      "source": [
        ">4. Create the column 'ME_DT': the last day of the month in the 'trans_date' column. DateOffset objects is a simple way to do this in pandas."
      ]
    },
    {
      "cell_type": "code",
      "metadata": {
        "colab": {
          "base_uri": "https://localhost:8080/",
          "height": 204
        },
        "id": "Pb_qFeqWjwl5",
        "outputId": "a2a2c5ea-ed52-434d-a0d2-13a9d228239e"
      },
      "source": [
        "txn['ME_DT'] = txn['txn_date'] + pd.offsets.MonthEnd(n=0)\n",
        "txn.head()"
      ],
      "execution_count": 5,
      "outputs": [
        {
          "output_type": "execute_result",
          "data": {
            "text/html": [
              "<div>\n",
              "<style scoped>\n",
              "    .dataframe tbody tr th:only-of-type {\n",
              "        vertical-align: middle;\n",
              "    }\n",
              "\n",
              "    .dataframe tbody tr th {\n",
              "        vertical-align: top;\n",
              "    }\n",
              "\n",
              "    .dataframe thead th {\n",
              "        text-align: right;\n",
              "    }\n",
              "</style>\n",
              "<table border=\"1\" class=\"dataframe\">\n",
              "  <thead>\n",
              "    <tr style=\"text-align: right;\">\n",
              "      <th></th>\n",
              "      <th>customer_id</th>\n",
              "      <th>tran_amount</th>\n",
              "      <th>txn_date</th>\n",
              "      <th>ME_DT</th>\n",
              "    </tr>\n",
              "  </thead>\n",
              "  <tbody>\n",
              "    <tr>\n",
              "      <th>0</th>\n",
              "      <td>CS5295</td>\n",
              "      <td>35</td>\n",
              "      <td>2013-02-11</td>\n",
              "      <td>2013-02-28</td>\n",
              "    </tr>\n",
              "    <tr>\n",
              "      <th>1</th>\n",
              "      <td>CS4768</td>\n",
              "      <td>39</td>\n",
              "      <td>2015-03-15</td>\n",
              "      <td>2015-03-31</td>\n",
              "    </tr>\n",
              "    <tr>\n",
              "      <th>2</th>\n",
              "      <td>CS2122</td>\n",
              "      <td>52</td>\n",
              "      <td>2013-02-26</td>\n",
              "      <td>2013-02-28</td>\n",
              "    </tr>\n",
              "    <tr>\n",
              "      <th>3</th>\n",
              "      <td>CS1217</td>\n",
              "      <td>99</td>\n",
              "      <td>2011-11-16</td>\n",
              "      <td>2011-11-30</td>\n",
              "    </tr>\n",
              "    <tr>\n",
              "      <th>4</th>\n",
              "      <td>CS1850</td>\n",
              "      <td>78</td>\n",
              "      <td>2013-11-20</td>\n",
              "      <td>2013-11-30</td>\n",
              "    </tr>\n",
              "  </tbody>\n",
              "</table>\n",
              "</div>"
            ],
            "text/plain": [
              "  customer_id  tran_amount   txn_date      ME_DT\n",
              "0      CS5295           35 2013-02-11 2013-02-28\n",
              "1      CS4768           39 2015-03-15 2015-03-31\n",
              "2      CS2122           52 2013-02-26 2013-02-28\n",
              "3      CS1217           99 2011-11-16 2011-11-30\n",
              "4      CS1850           78 2013-11-20 2013-11-30"
            ]
          },
          "metadata": {},
          "execution_count": 5
        }
      ]
    },
    {
      "cell_type": "markdown",
      "metadata": {
        "id": "SOEBRo4Gmhm6"
      },
      "source": [
        ">5. Create the column 'YEAR': the year in the 'trans_date' column. DatetimeIndex with\n",
        "attribute .year will help you do so."
      ]
    },
    {
      "cell_type": "code",
      "metadata": {
        "colab": {
          "base_uri": "https://localhost:8080/",
          "height": 204
        },
        "id": "bLkdu_22md71",
        "outputId": "9e8adff2-56ed-4ad3-8435-cb5d6211c5ed"
      },
      "source": [
        "txn['YEAR'] = pd.DatetimeIndex(txn['txn_date']).year\n",
        "txn.iloc[55:60]"
      ],
      "execution_count": 6,
      "outputs": [
        {
          "output_type": "execute_result",
          "data": {
            "text/html": [
              "<div>\n",
              "<style scoped>\n",
              "    .dataframe tbody tr th:only-of-type {\n",
              "        vertical-align: middle;\n",
              "    }\n",
              "\n",
              "    .dataframe tbody tr th {\n",
              "        vertical-align: top;\n",
              "    }\n",
              "\n",
              "    .dataframe thead th {\n",
              "        text-align: right;\n",
              "    }\n",
              "</style>\n",
              "<table border=\"1\" class=\"dataframe\">\n",
              "  <thead>\n",
              "    <tr style=\"text-align: right;\">\n",
              "      <th></th>\n",
              "      <th>customer_id</th>\n",
              "      <th>tran_amount</th>\n",
              "      <th>txn_date</th>\n",
              "      <th>ME_DT</th>\n",
              "      <th>YEAR</th>\n",
              "    </tr>\n",
              "  </thead>\n",
              "  <tbody>\n",
              "    <tr>\n",
              "      <th>55</th>\n",
              "      <td>CS2662</td>\n",
              "      <td>88</td>\n",
              "      <td>2014-08-31</td>\n",
              "      <td>2014-08-31</td>\n",
              "      <td>2014</td>\n",
              "    </tr>\n",
              "    <tr>\n",
              "      <th>56</th>\n",
              "      <td>CS2209</td>\n",
              "      <td>35</td>\n",
              "      <td>2012-03-12</td>\n",
              "      <td>2012-03-31</td>\n",
              "      <td>2012</td>\n",
              "    </tr>\n",
              "    <tr>\n",
              "      <th>57</th>\n",
              "      <td>CS4530</td>\n",
              "      <td>40</td>\n",
              "      <td>2011-06-05</td>\n",
              "      <td>2011-06-30</td>\n",
              "      <td>2011</td>\n",
              "    </tr>\n",
              "    <tr>\n",
              "      <th>58</th>\n",
              "      <td>CS2848</td>\n",
              "      <td>53</td>\n",
              "      <td>2013-02-04</td>\n",
              "      <td>2013-02-28</td>\n",
              "      <td>2013</td>\n",
              "    </tr>\n",
              "    <tr>\n",
              "      <th>59</th>\n",
              "      <td>CS2596</td>\n",
              "      <td>55</td>\n",
              "      <td>2011-09-19</td>\n",
              "      <td>2011-09-30</td>\n",
              "      <td>2011</td>\n",
              "    </tr>\n",
              "  </tbody>\n",
              "</table>\n",
              "</div>"
            ],
            "text/plain": [
              "   customer_id  tran_amount   txn_date      ME_DT  YEAR\n",
              "55      CS2662           88 2014-08-31 2014-08-31  2014\n",
              "56      CS2209           35 2012-03-12 2012-03-31  2012\n",
              "57      CS4530           40 2011-06-05 2011-06-30  2011\n",
              "58      CS2848           53 2013-02-04 2013-02-28  2013\n",
              "59      CS2596           55 2011-09-19 2011-09-30  2011"
            ]
          },
          "metadata": {},
          "execution_count": 6
        }
      ]
    },
    {
      "cell_type": "markdown",
      "metadata": {
        "id": "Cg1KWE1Doaog"
      },
      "source": [
        "##1.2 Create features that capture annual spending\n",
        ">Here the approach is to capture the client's annual spending. The rationale behind this approach is that the clients spend is not very frequent to capture in a monthly aggregation.\n",
        "1. Using groupby and NamedAgg create **clnt_annual_aggregations**, the annual aggregations dataframe: with sum, mean, std, var, sem, max, min, count as the aggregation functions. A snapshot of the output table is shown below. Notice that the output is a typical MultiIndex pandas dataframe."
      ]
    },
    {
      "cell_type": "code",
      "metadata": {
        "colab": {
          "base_uri": "https://localhost:8080/",
          "height": 255
        },
        "id": "1XK_U-wqpItB",
        "outputId": "57f4b05b-674f-4327-851c-7a8c849193ba"
      },
      "source": [
        "clnt_annual_aggregations = txn.groupby([\"customer_id\",'YEAR']).agg(\n",
        "    ann_txn_amt_sum = pd.NamedAgg('tran_amount','sum'),\n",
        "    ann_txn_amt_ave = pd.NamedAgg('tran_amount','mean'),\n",
        "    ann_txn_amt_std = pd.NamedAgg('tran_amount','std'),\n",
        "    ann_txn_amt_var = pd.NamedAgg('tran_amount','var'),\n",
        "    ann_txn_amt_sem = pd.NamedAgg('tran_amount','sem'),\n",
        "    ann_txn_amt_max = pd.NamedAgg('tran_amount','max'),\n",
        "    ann_txn_amt_min = pd.NamedAgg('tran_amount','min'),\n",
        "    ann_txn_amt_cnt = pd.NamedAgg('tran_amount','count')    \n",
        ")\n",
        "clnt_annual_aggregations.head()"
      ],
      "execution_count": 7,
      "outputs": [
        {
          "output_type": "execute_result",
          "data": {
            "text/html": [
              "<div>\n",
              "<style scoped>\n",
              "    .dataframe tbody tr th:only-of-type {\n",
              "        vertical-align: middle;\n",
              "    }\n",
              "\n",
              "    .dataframe tbody tr th {\n",
              "        vertical-align: top;\n",
              "    }\n",
              "\n",
              "    .dataframe thead th {\n",
              "        text-align: right;\n",
              "    }\n",
              "</style>\n",
              "<table border=\"1\" class=\"dataframe\">\n",
              "  <thead>\n",
              "    <tr style=\"text-align: right;\">\n",
              "      <th></th>\n",
              "      <th></th>\n",
              "      <th>ann_txn_amt_sum</th>\n",
              "      <th>ann_txn_amt_ave</th>\n",
              "      <th>ann_txn_amt_std</th>\n",
              "      <th>ann_txn_amt_var</th>\n",
              "      <th>ann_txn_amt_sem</th>\n",
              "      <th>ann_txn_amt_max</th>\n",
              "      <th>ann_txn_amt_min</th>\n",
              "      <th>ann_txn_amt_cnt</th>\n",
              "    </tr>\n",
              "    <tr>\n",
              "      <th>customer_id</th>\n",
              "      <th>YEAR</th>\n",
              "      <th></th>\n",
              "      <th></th>\n",
              "      <th></th>\n",
              "      <th></th>\n",
              "      <th></th>\n",
              "      <th></th>\n",
              "      <th></th>\n",
              "      <th></th>\n",
              "    </tr>\n",
              "  </thead>\n",
              "  <tbody>\n",
              "    <tr>\n",
              "      <th rowspan=\"5\" valign=\"top\">CS1112</th>\n",
              "      <th>2011</th>\n",
              "      <td>212</td>\n",
              "      <td>70.666667</td>\n",
              "      <td>22.030282</td>\n",
              "      <td>485.333333</td>\n",
              "      <td>12.719189</td>\n",
              "      <td>96</td>\n",
              "      <td>56</td>\n",
              "      <td>3</td>\n",
              "    </tr>\n",
              "    <tr>\n",
              "      <th>2012</th>\n",
              "      <td>337</td>\n",
              "      <td>67.400000</td>\n",
              "      <td>12.720063</td>\n",
              "      <td>161.800000</td>\n",
              "      <td>5.688585</td>\n",
              "      <td>81</td>\n",
              "      <td>52</td>\n",
              "      <td>5</td>\n",
              "    </tr>\n",
              "    <tr>\n",
              "      <th>2013</th>\n",
              "      <td>212</td>\n",
              "      <td>70.666667</td>\n",
              "      <td>34.501208</td>\n",
              "      <td>1190.333333</td>\n",
              "      <td>19.919282</td>\n",
              "      <td>105</td>\n",
              "      <td>36</td>\n",
              "      <td>3</td>\n",
              "    </tr>\n",
              "    <tr>\n",
              "      <th>2014</th>\n",
              "      <td>212</td>\n",
              "      <td>70.666667</td>\n",
              "      <td>16.862186</td>\n",
              "      <td>284.333333</td>\n",
              "      <td>9.735388</td>\n",
              "      <td>90</td>\n",
              "      <td>59</td>\n",
              "      <td>3</td>\n",
              "    </tr>\n",
              "    <tr>\n",
              "      <th>2015</th>\n",
              "      <td>39</td>\n",
              "      <td>39.000000</td>\n",
              "      <td>NaN</td>\n",
              "      <td>NaN</td>\n",
              "      <td>NaN</td>\n",
              "      <td>39</td>\n",
              "      <td>39</td>\n",
              "      <td>1</td>\n",
              "    </tr>\n",
              "  </tbody>\n",
              "</table>\n",
              "</div>"
            ],
            "text/plain": [
              "                  ann_txn_amt_sum  ...  ann_txn_amt_cnt\n",
              "customer_id YEAR                   ...                 \n",
              "CS1112      2011              212  ...                3\n",
              "            2012              337  ...                5\n",
              "            2013              212  ...                3\n",
              "            2014              212  ...                3\n",
              "            2015               39  ...                1\n",
              "\n",
              "[5 rows x 8 columns]"
            ]
          },
          "metadata": {},
          "execution_count": 7
        }
      ]
    },
    {
      "cell_type": "markdown",
      "metadata": {
        "id": "4_HsNyFDqicW"
      },
      "source": [
        ">2. Plot the histogram of the sum and count."
      ]
    },
    {
      "cell_type": "code",
      "metadata": {
        "colab": {
          "base_uri": "https://localhost:8080/",
          "height": 545
        },
        "id": "qSeYVG-MqheX",
        "outputId": "61518fa7-5329-427b-d9dd-61b83384eda5"
      },
      "source": [
        "#plot sum\n",
        "plt.hist(clnt_annual_aggregations['ann_txn_amt_sum'])\n",
        "plt.title(\"Histogram of Sum\")\n",
        "plt.show()\n",
        "\n",
        "#plot count\n",
        "plt.hist(clnt_annual_aggregations['ann_txn_amt_cnt'])\n",
        "plt.title(\"Histogram of Count\")\n",
        "plt.show()"
      ],
      "execution_count": 8,
      "outputs": [
        {
          "output_type": "display_data",
          "data": {
            "image/png": "[encoded data removed]",
            "text/plain": [
              "<Figure size 432x288 with 1 Axes>"
            ]
          },
          "metadata": {
            "needs_background": "light"
          }
        },
        {
          "output_type": "display_data",
          "data": {
            "image/png": "[encoded data removed]",
            "text/plain": [
              "<Figure size 432x288 with 1 Axes>"
            ]
          },
          "metadata": {
            "needs_background": "light"
          }
        }
      ]
    },
    {
      "cell_type": "markdown",
      "metadata": {
        "id": "mvyA5dOxsE2K"
      },
      "source": [
        ">3. Reset the index and reshape the table with the pivot table function to create the **clnt_annual_aggregations_pivot** table shown below with 40 columns (why 40?).\n",
        "\n",
        "Beacuse there are 8 aggregated features. For each feature, there are 5 years data. So there are 8 * 5 = 40 columes.\n",
        "\n",
        ">You should expect columns with NaN values. Impute the NaN entries when you perform the pivot table function and explain your choice of values.\n",
        "\n",
        "I fill NANs with 0s. Because if the data is missing indicates that the customer didn't have any transactions."
      ]
    },
    {
      "cell_type": "code",
      "metadata": {
        "colab": {
          "base_uri": "https://localhost:8080/",
          "height": 286
        },
        "id": "QpVQKuAoKm57",
        "outputId": "5cd73308-576b-48cf-ec0d-ff9036c211bb"
      },
      "source": [
        "clnt_annual_aggregations_pivot = clnt_annual_aggregations.pivot_table(columns='YEAR',index='customer_id').fillna(0)\n",
        "clnt_annual_aggregations_pivot.head()"
      ],
      "execution_count": 9,
      "outputs": [
        {
          "output_type": "execute_result",
          "data": {
            "text/html": [
              "<div>\n",
              "<style scoped>\n",
              "    .dataframe tbody tr th:only-of-type {\n",
              "        vertical-align: middle;\n",
              "    }\n",
              "\n",
              "    .dataframe tbody tr th {\n",
              "        vertical-align: top;\n",
              "    }\n",
              "\n",
              "    .dataframe thead tr th {\n",
              "        text-align: left;\n",
              "    }\n",
              "\n",
              "    .dataframe thead tr:last-of-type th {\n",
              "        text-align: right;\n",
              "    }\n",
              "</style>\n",
              "<table border=\"1\" class=\"dataframe\">\n",
              "  <thead>\n",
              "    <tr>\n",
              "      <th></th>\n",
              "      <th colspan=\"5\" halign=\"left\">ann_txn_amt_ave</th>\n",
              "      <th colspan=\"5\" halign=\"left\">ann_txn_amt_cnt</th>\n",
              "      <th colspan=\"5\" halign=\"left\">ann_txn_amt_max</th>\n",
              "      <th colspan=\"5\" halign=\"left\">ann_txn_amt_min</th>\n",
              "      <th colspan=\"5\" halign=\"left\">ann_txn_amt_sem</th>\n",
              "      <th colspan=\"5\" halign=\"left\">ann_txn_amt_std</th>\n",
              "      <th colspan=\"5\" halign=\"left\">ann_txn_amt_sum</th>\n",
              "      <th colspan=\"5\" halign=\"left\">ann_txn_amt_var</th>\n",
              "    </tr>\n",
              "    <tr>\n",
              "      <th>YEAR</th>\n",
              "      <th>2011</th>\n",
              "      <th>2012</th>\n",
              "      <th>2013</th>\n",
              "      <th>2014</th>\n",
              "      <th>2015</th>\n",
              "      <th>2011</th>\n",
              "      <th>2012</th>\n",
              "      <th>2013</th>\n",
              "      <th>2014</th>\n",
              "      <th>2015</th>\n",
              "      <th>2011</th>\n",
              "      <th>2012</th>\n",
              "      <th>2013</th>\n",
              "      <th>2014</th>\n",
              "      <th>2015</th>\n",
              "      <th>2011</th>\n",
              "      <th>2012</th>\n",
              "      <th>2013</th>\n",
              "      <th>2014</th>\n",
              "      <th>2015</th>\n",
              "      <th>2011</th>\n",
              "      <th>2012</th>\n",
              "      <th>2013</th>\n",
              "      <th>2014</th>\n",
              "      <th>2015</th>\n",
              "      <th>2011</th>\n",
              "      <th>2012</th>\n",
              "      <th>2013</th>\n",
              "      <th>2014</th>\n",
              "      <th>2015</th>\n",
              "      <th>2011</th>\n",
              "      <th>2012</th>\n",
              "      <th>2013</th>\n",
              "      <th>2014</th>\n",
              "      <th>2015</th>\n",
              "      <th>2011</th>\n",
              "      <th>2012</th>\n",
              "      <th>2013</th>\n",
              "      <th>2014</th>\n",
              "      <th>2015</th>\n",
              "    </tr>\n",
              "    <tr>\n",
              "      <th>customer_id</th>\n",
              "      <th></th>\n",
              "      <th></th>\n",
              "      <th></th>\n",
              "      <th></th>\n",
              "      <th></th>\n",
              "      <th></th>\n",
              "      <th></th>\n",
              "      <th></th>\n",
              "      <th></th>\n",
              "      <th></th>\n",
              "      <th></th>\n",
              "      <th></th>\n",
              "      <th></th>\n",
              "      <th></th>\n",
              "      <th></th>\n",
              "      <th></th>\n",
              "      <th></th>\n",
              "      <th></th>\n",
              "      <th></th>\n",
              "      <th></th>\n",
              "      <th></th>\n",
              "      <th></th>\n",
              "      <th></th>\n",
              "      <th></th>\n",
              "      <th></th>\n",
              "      <th></th>\n",
              "      <th></th>\n",
              "      <th></th>\n",
              "      <th></th>\n",
              "      <th></th>\n",
              "      <th></th>\n",
              "      <th></th>\n",
              "      <th></th>\n",
              "      <th></th>\n",
              "      <th></th>\n",
              "      <th></th>\n",
              "      <th></th>\n",
              "      <th></th>\n",
              "      <th></th>\n",
              "      <th></th>\n",
              "    </tr>\n",
              "  </thead>\n",
              "  <tbody>\n",
              "    <tr>\n",
              "      <th>CS1112</th>\n",
              "      <td>70.666667</td>\n",
              "      <td>67.400000</td>\n",
              "      <td>70.666667</td>\n",
              "      <td>70.666667</td>\n",
              "      <td>39.000000</td>\n",
              "      <td>3.0</td>\n",
              "      <td>5.0</td>\n",
              "      <td>3.0</td>\n",
              "      <td>3.0</td>\n",
              "      <td>1.0</td>\n",
              "      <td>96.0</td>\n",
              "      <td>81.0</td>\n",
              "      <td>105.0</td>\n",
              "      <td>90.0</td>\n",
              "      <td>39.0</td>\n",
              "      <td>56.0</td>\n",
              "      <td>52.0</td>\n",
              "      <td>36.0</td>\n",
              "      <td>59.0</td>\n",
              "      <td>39.0</td>\n",
              "      <td>12.719189</td>\n",
              "      <td>5.688585</td>\n",
              "      <td>19.919282</td>\n",
              "      <td>9.735388</td>\n",
              "      <td>0.000000</td>\n",
              "      <td>22.030282</td>\n",
              "      <td>12.720063</td>\n",
              "      <td>34.501208</td>\n",
              "      <td>16.862186</td>\n",
              "      <td>0.000000</td>\n",
              "      <td>212.0</td>\n",
              "      <td>337.0</td>\n",
              "      <td>212.0</td>\n",
              "      <td>212.0</td>\n",
              "      <td>39.0</td>\n",
              "      <td>485.333333</td>\n",
              "      <td>161.800000</td>\n",
              "      <td>1190.333333</td>\n",
              "      <td>284.333333</td>\n",
              "      <td>0.000000</td>\n",
              "    </tr>\n",
              "    <tr>\n",
              "      <th>CS1113</th>\n",
              "      <td>81.333333</td>\n",
              "      <td>74.800000</td>\n",
              "      <td>85.200000</td>\n",
              "      <td>56.500000</td>\n",
              "      <td>73.333333</td>\n",
              "      <td>3.0</td>\n",
              "      <td>5.0</td>\n",
              "      <td>5.0</td>\n",
              "      <td>4.0</td>\n",
              "      <td>3.0</td>\n",
              "      <td>94.0</td>\n",
              "      <td>95.0</td>\n",
              "      <td>97.0</td>\n",
              "      <td>97.0</td>\n",
              "      <td>98.0</td>\n",
              "      <td>57.0</td>\n",
              "      <td>51.0</td>\n",
              "      <td>65.0</td>\n",
              "      <td>36.0</td>\n",
              "      <td>44.0</td>\n",
              "      <td>12.170091</td>\n",
              "      <td>7.618399</td>\n",
              "      <td>5.851496</td>\n",
              "      <td>13.979151</td>\n",
              "      <td>15.762121</td>\n",
              "      <td>21.079216</td>\n",
              "      <td>17.035258</td>\n",
              "      <td>13.084342</td>\n",
              "      <td>27.958302</td>\n",
              "      <td>27.300794</td>\n",
              "      <td>244.0</td>\n",
              "      <td>374.0</td>\n",
              "      <td>426.0</td>\n",
              "      <td>226.0</td>\n",
              "      <td>220.0</td>\n",
              "      <td>444.333333</td>\n",
              "      <td>290.200000</td>\n",
              "      <td>171.200000</td>\n",
              "      <td>781.666667</td>\n",
              "      <td>745.333333</td>\n",
              "    </tr>\n",
              "    <tr>\n",
              "      <th>CS1114</th>\n",
              "      <td>85.200000</td>\n",
              "      <td>75.000000</td>\n",
              "      <td>70.400000</td>\n",
              "      <td>70.833333</td>\n",
              "      <td>79.000000</td>\n",
              "      <td>5.0</td>\n",
              "      <td>2.0</td>\n",
              "      <td>5.0</td>\n",
              "      <td>6.0</td>\n",
              "      <td>1.0</td>\n",
              "      <td>97.0</td>\n",
              "      <td>97.0</td>\n",
              "      <td>105.0</td>\n",
              "      <td>95.0</td>\n",
              "      <td>79.0</td>\n",
              "      <td>76.0</td>\n",
              "      <td>53.0</td>\n",
              "      <td>43.0</td>\n",
              "      <td>37.0</td>\n",
              "      <td>79.0</td>\n",
              "      <td>4.352011</td>\n",
              "      <td>22.000000</td>\n",
              "      <td>11.129241</td>\n",
              "      <td>11.001263</td>\n",
              "      <td>0.000000</td>\n",
              "      <td>9.731393</td>\n",
              "      <td>31.112698</td>\n",
              "      <td>24.885739</td>\n",
              "      <td>26.947480</td>\n",
              "      <td>0.000000</td>\n",
              "      <td>426.0</td>\n",
              "      <td>150.0</td>\n",
              "      <td>352.0</td>\n",
              "      <td>425.0</td>\n",
              "      <td>79.0</td>\n",
              "      <td>94.700000</td>\n",
              "      <td>968.000000</td>\n",
              "      <td>619.300000</td>\n",
              "      <td>726.166667</td>\n",
              "      <td>0.000000</td>\n",
              "    </tr>\n",
              "    <tr>\n",
              "      <th>CS1115</th>\n",
              "      <td>87.000000</td>\n",
              "      <td>67.571429</td>\n",
              "      <td>79.571429</td>\n",
              "      <td>78.250000</td>\n",
              "      <td>55.000000</td>\n",
              "      <td>3.0</td>\n",
              "      <td>7.0</td>\n",
              "      <td>7.0</td>\n",
              "      <td>4.0</td>\n",
              "      <td>1.0</td>\n",
              "      <td>102.0</td>\n",
              "      <td>104.0</td>\n",
              "      <td>94.0</td>\n",
              "      <td>98.0</td>\n",
              "      <td>55.0</td>\n",
              "      <td>72.0</td>\n",
              "      <td>41.0</td>\n",
              "      <td>66.0</td>\n",
              "      <td>50.0</td>\n",
              "      <td>55.0</td>\n",
              "      <td>8.660254</td>\n",
              "      <td>8.257341</td>\n",
              "      <td>3.981249</td>\n",
              "      <td>11.316470</td>\n",
              "      <td>0.000000</td>\n",
              "      <td>15.000000</td>\n",
              "      <td>21.846870</td>\n",
              "      <td>10.533394</td>\n",
              "      <td>22.632941</td>\n",
              "      <td>0.000000</td>\n",
              "      <td>261.0</td>\n",
              "      <td>473.0</td>\n",
              "      <td>557.0</td>\n",
              "      <td>313.0</td>\n",
              "      <td>55.0</td>\n",
              "      <td>225.000000</td>\n",
              "      <td>477.285714</td>\n",
              "      <td>110.952381</td>\n",
              "      <td>512.250000</td>\n",
              "      <td>0.000000</td>\n",
              "    </tr>\n",
              "    <tr>\n",
              "      <th>CS1116</th>\n",
              "      <td>58.750000</td>\n",
              "      <td>76.666667</td>\n",
              "      <td>59.000000</td>\n",
              "      <td>66.600000</td>\n",
              "      <td>0.000000</td>\n",
              "      <td>4.0</td>\n",
              "      <td>3.0</td>\n",
              "      <td>1.0</td>\n",
              "      <td>5.0</td>\n",
              "      <td>0.0</td>\n",
              "      <td>87.0</td>\n",
              "      <td>105.0</td>\n",
              "      <td>59.0</td>\n",
              "      <td>96.0</td>\n",
              "      <td>0.0</td>\n",
              "      <td>41.0</td>\n",
              "      <td>45.0</td>\n",
              "      <td>59.0</td>\n",
              "      <td>40.0</td>\n",
              "      <td>0.0</td>\n",
              "      <td>10.601690</td>\n",
              "      <td>17.400511</td>\n",
              "      <td>0.000000</td>\n",
              "      <td>11.285389</td>\n",
              "      <td>0.000000</td>\n",
              "      <td>21.203380</td>\n",
              "      <td>30.138569</td>\n",
              "      <td>0.000000</td>\n",
              "      <td>25.234896</td>\n",
              "      <td>0.000000</td>\n",
              "      <td>235.0</td>\n",
              "      <td>230.0</td>\n",
              "      <td>59.0</td>\n",
              "      <td>333.0</td>\n",
              "      <td>0.0</td>\n",
              "      <td>449.583333</td>\n",
              "      <td>908.333333</td>\n",
              "      <td>0.000000</td>\n",
              "      <td>636.800000</td>\n",
              "      <td>0.000000</td>\n",
              "    </tr>\n",
              "  </tbody>\n",
              "</table>\n",
              "</div>"
            ],
            "text/plain": [
              "            ann_txn_amt_ave             ... ann_txn_amt_var            \n",
              "YEAR                   2011       2012  ...            2014        2015\n",
              "customer_id                             ...                            \n",
              "CS1112            70.666667  67.400000  ...      284.333333    0.000000\n",
              "CS1113            81.333333  74.800000  ...      781.666667  745.333333\n",
              "CS1114            85.200000  75.000000  ...      726.166667    0.000000\n",
              "CS1115            87.000000  67.571429  ...      512.250000    0.000000\n",
              "CS1116            58.750000  76.666667  ...      636.800000    0.000000\n",
              "\n",
              "[5 rows x 40 columns]"
            ]
          },
          "metadata": {},
          "execution_count": 9
        }
      ]
    },
    {
      "cell_type": "markdown",
      "metadata": {
        "id": "I0WGa3pbTGVG"
      },
      "source": [
        ">4. The pivoted object you created is a MultiIndex object with hierarchical indexes. You can see the first level (i.e. 0) in the snapshot above with names 'ann_txn_amt_ave', 'ann_txn_amt_max' (and more as indicated by the ...) and the second level (i.e. 1)\n",
        "with names '2011', '2012', etc. You can confirm the multiple levels of the columns with the following two expressions.\n",
        "\n",
        ">What are your observations regarding the number of levels and the column names?\n",
        "\n",
        "There are two levels, the column name is (level0, level1)."
      ]
    },
    {
      "cell_type": "code",
      "metadata": {
        "colab": {
          "base_uri": "https://localhost:8080/"
        },
        "id": "AApvgam2T5Kg",
        "outputId": "433b2f98-bda4-4349-b65e-342c52e51ccc"
      },
      "source": [
        "print(clnt_annual_aggregations_pivot.columns.nlevels)\n",
        "print(clnt_annual_aggregations_pivot.columns)"
      ],
      "execution_count": 10,
      "outputs": [
        {
          "output_type": "stream",
          "name": "stdout",
          "text": [
            "2\n",
            "MultiIndex([('ann_txn_amt_ave', 2011),\n",
            "            ('ann_txn_amt_ave', 2012),\n",
            "            ('ann_txn_amt_ave', 2013),\n",
            "            ('ann_txn_amt_ave', 2014),\n",
            "            ('ann_txn_amt_ave', 2015),\n",
            "            ('ann_txn_amt_cnt', 2011),\n",
            "            ('ann_txn_amt_cnt', 2012),\n",
            "            ('ann_txn_amt_cnt', 2013),\n",
            "            ('ann_txn_amt_cnt', 2014),\n",
            "            ('ann_txn_amt_cnt', 2015),\n",
            "            ('ann_txn_amt_max', 2011),\n",
            "            ('ann_txn_amt_max', 2012),\n",
            "            ('ann_txn_amt_max', 2013),\n",
            "            ('ann_txn_amt_max', 2014),\n",
            "            ('ann_txn_amt_max', 2015),\n",
            "            ('ann_txn_amt_min', 2011),\n",
            "            ('ann_txn_amt_min', 2012),\n",
            "            ('ann_txn_amt_min', 2013),\n",
            "            ('ann_txn_amt_min', 2014),\n",
            "            ('ann_txn_amt_min', 2015),\n",
            "            ('ann_txn_amt_sem', 2011),\n",
            "            ('ann_txn_amt_sem', 2012),\n",
            "            ('ann_txn_amt_sem', 2013),\n",
            "            ('ann_txn_amt_sem', 2014),\n",
            "            ('ann_txn_amt_sem', 2015),\n",
            "            ('ann_txn_amt_std', 2011),\n",
            "            ('ann_txn_amt_std', 2012),\n",
            "            ('ann_txn_amt_std', 2013),\n",
            "            ('ann_txn_amt_std', 2014),\n",
            "            ('ann_txn_amt_std', 2015),\n",
            "            ('ann_txn_amt_sum', 2011),\n",
            "            ('ann_txn_amt_sum', 2012),\n",
            "            ('ann_txn_amt_sum', 2013),\n",
            "            ('ann_txn_amt_sum', 2014),\n",
            "            ('ann_txn_amt_sum', 2015),\n",
            "            ('ann_txn_amt_var', 2011),\n",
            "            ('ann_txn_amt_var', 2012),\n",
            "            ('ann_txn_amt_var', 2013),\n",
            "            ('ann_txn_amt_var', 2014),\n",
            "            ('ann_txn_amt_var', 2015)],\n",
            "           names=[None, 'YEAR'])\n"
          ]
        }
      ]
    },
    {
      "cell_type": "markdown",
      "metadata": {
        "id": "uddRkwEhXWd6"
      },
      "source": [
        ">5. Finally, you want to save the dataframe **clnt_annual_aggregations_pivot** as an .xlsx file for future use in the machine learning assignment. To do so, you want to remove the two levels in columns and create a single level with column names: 'ann txn_amt_ave_2011', 'ann_txn_amt_ave_2012', etc. To do so, use the code snippet below prior to saving the dataframe as an Excel file."
      ]
    },
    {
      "cell_type": "markdown",
      "metadata": {
        "id": "LjFQYXIFZ4CN"
      },
      "source": [
        ">Describe what each line of code in the box does and save the output dataframe as an Excel file annual features.xlsx. A snapshot of the desired final output is shown\n",
        "below.\n",
        "\n",
        "The first two lines extract the name of level 0 and level 1 and convert them to string. Named them level_0 and level_1. The third line concatenates level 0, '_', and level 1 to get the new column name."
      ]
    },
    {
      "cell_type": "code",
      "metadata": {
        "colab": {
          "base_uri": "https://localhost:8080/",
          "height": 255
        },
        "id": "zFHbwIsBZF3j",
        "outputId": "80905a6e-dc34-424c-c882-3a9a8c8eadbf"
      },
      "source": [
        "#extract the name of level 0 and level 1 and convert them to string. Named them level_0 and level_1.\n",
        "level_0 = clnt_annual_aggregations_pivot.columns.get_level_values(0).astype(str)\n",
        "level_1 = clnt_annual_aggregations_pivot.columns.get_level_values(1).astype(str)\n",
        "#concatenate level 0 and level 1 to get the new column name\n",
        "clnt_annual_aggregations_pivot.columns = level_0 + '_' + level_1\n",
        "clnt_annual_aggregations_pivot.head()"
      ],
      "execution_count": 11,
      "outputs": [
        {
          "output_type": "execute_result",
          "data": {
            "text/html": [
              "<div>\n",
              "<style scoped>\n",
              "    .dataframe tbody tr th:only-of-type {\n",
              "        vertical-align: middle;\n",
              "    }\n",
              "\n",
              "    .dataframe tbody tr th {\n",
              "        vertical-align: top;\n",
              "    }\n",
              "\n",
              "    .dataframe thead th {\n",
              "        text-align: right;\n",
              "    }\n",
              "</style>\n",
              "<table border=\"1\" class=\"dataframe\">\n",
              "  <thead>\n",
              "    <tr style=\"text-align: right;\">\n",
              "      <th></th>\n",
              "      <th>ann_txn_amt_ave_2011</th>\n",
              "      <th>ann_txn_amt_ave_2012</th>\n",
              "      <th>ann_txn_amt_ave_2013</th>\n",
              "      <th>ann_txn_amt_ave_2014</th>\n",
              "      <th>ann_txn_amt_ave_2015</th>\n",
              "      <th>ann_txn_amt_cnt_2011</th>\n",
              "      <th>ann_txn_amt_cnt_2012</th>\n",
              "      <th>ann_txn_amt_cnt_2013</th>\n",
              "      <th>ann_txn_amt_cnt_2014</th>\n",
              "      <th>ann_txn_amt_cnt_2015</th>\n",
              "      <th>ann_txn_amt_max_2011</th>\n",
              "      <th>ann_txn_amt_max_2012</th>\n",
              "      <th>ann_txn_amt_max_2013</th>\n",
              "      <th>ann_txn_amt_max_2014</th>\n",
              "      <th>ann_txn_amt_max_2015</th>\n",
              "      <th>ann_txn_amt_min_2011</th>\n",
              "      <th>ann_txn_amt_min_2012</th>\n",
              "      <th>ann_txn_amt_min_2013</th>\n",
              "      <th>ann_txn_amt_min_2014</th>\n",
              "      <th>ann_txn_amt_min_2015</th>\n",
              "      <th>ann_txn_amt_sem_2011</th>\n",
              "      <th>ann_txn_amt_sem_2012</th>\n",
              "      <th>ann_txn_amt_sem_2013</th>\n",
              "      <th>ann_txn_amt_sem_2014</th>\n",
              "      <th>ann_txn_amt_sem_2015</th>\n",
              "      <th>ann_txn_amt_std_2011</th>\n",
              "      <th>ann_txn_amt_std_2012</th>\n",
              "      <th>ann_txn_amt_std_2013</th>\n",
              "      <th>ann_txn_amt_std_2014</th>\n",
              "      <th>ann_txn_amt_std_2015</th>\n",
              "      <th>ann_txn_amt_sum_2011</th>\n",
              "      <th>ann_txn_amt_sum_2012</th>\n",
              "      <th>ann_txn_amt_sum_2013</th>\n",
              "      <th>ann_txn_amt_sum_2014</th>\n",
              "      <th>ann_txn_amt_sum_2015</th>\n",
              "      <th>ann_txn_amt_var_2011</th>\n",
              "      <th>ann_txn_amt_var_2012</th>\n",
              "      <th>ann_txn_amt_var_2013</th>\n",
              "      <th>ann_txn_amt_var_2014</th>\n",
              "      <th>ann_txn_amt_var_2015</th>\n",
              "    </tr>\n",
              "    <tr>\n",
              "      <th>customer_id</th>\n",
              "      <th></th>\n",
              "      <th></th>\n",
              "      <th></th>\n",
              "      <th></th>\n",
              "      <th></th>\n",
              "      <th></th>\n",
              "      <th></th>\n",
              "      <th></th>\n",
              "      <th></th>\n",
              "      <th></th>\n",
              "      <th></th>\n",
              "      <th></th>\n",
              "      <th></th>\n",
              "      <th></th>\n",
              "      <th></th>\n",
              "      <th></th>\n",
              "      <th></th>\n",
              "      <th></th>\n",
              "      <th></th>\n",
              "      <th></th>\n",
              "      <th></th>\n",
              "      <th></th>\n",
              "      <th></th>\n",
              "      <th></th>\n",
              "      <th></th>\n",
              "      <th></th>\n",
              "      <th></th>\n",
              "      <th></th>\n",
              "      <th></th>\n",
              "      <th></th>\n",
              "      <th></th>\n",
              "      <th></th>\n",
              "      <th></th>\n",
              "      <th></th>\n",
              "      <th></th>\n",
              "      <th></th>\n",
              "      <th></th>\n",
              "      <th></th>\n",
              "      <th></th>\n",
              "      <th></th>\n",
              "    </tr>\n",
              "  </thead>\n",
              "  <tbody>\n",
              "    <tr>\n",
              "      <th>CS1112</th>\n",
              "      <td>70.666667</td>\n",
              "      <td>67.400000</td>\n",
              "      <td>70.666667</td>\n",
              "      <td>70.666667</td>\n",
              "      <td>39.000000</td>\n",
              "      <td>3.0</td>\n",
              "      <td>5.0</td>\n",
              "      <td>3.0</td>\n",
              "      <td>3.0</td>\n",
              "      <td>1.0</td>\n",
              "      <td>96.0</td>\n",
              "      <td>81.0</td>\n",
              "      <td>105.0</td>\n",
              "      <td>90.0</td>\n",
              "      <td>39.0</td>\n",
              "      <td>56.0</td>\n",
              "      <td>52.0</td>\n",
              "      <td>36.0</td>\n",
              "      <td>59.0</td>\n",
              "      <td>39.0</td>\n",
              "      <td>12.719189</td>\n",
              "      <td>5.688585</td>\n",
              "      <td>19.919282</td>\n",
              "      <td>9.735388</td>\n",
              "      <td>0.000000</td>\n",
              "      <td>22.030282</td>\n",
              "      <td>12.720063</td>\n",
              "      <td>34.501208</td>\n",
              "      <td>16.862186</td>\n",
              "      <td>0.000000</td>\n",
              "      <td>212.0</td>\n",
              "      <td>337.0</td>\n",
              "      <td>212.0</td>\n",
              "      <td>212.0</td>\n",
              "      <td>39.0</td>\n",
              "      <td>485.333333</td>\n",
              "      <td>161.800000</td>\n",
              "      <td>1190.333333</td>\n",
              "      <td>284.333333</td>\n",
              "      <td>0.000000</td>\n",
              "    </tr>\n",
              "    <tr>\n",
              "      <th>CS1113</th>\n",
              "      <td>81.333333</td>\n",
              "      <td>74.800000</td>\n",
              "      <td>85.200000</td>\n",
              "      <td>56.500000</td>\n",
              "      <td>73.333333</td>\n",
              "      <td>3.0</td>\n",
              "      <td>5.0</td>\n",
              "      <td>5.0</td>\n",
              "      <td>4.0</td>\n",
              "      <td>3.0</td>\n",
              "      <td>94.0</td>\n",
              "      <td>95.0</td>\n",
              "      <td>97.0</td>\n",
              "      <td>97.0</td>\n",
              "      <td>98.0</td>\n",
              "      <td>57.0</td>\n",
              "      <td>51.0</td>\n",
              "      <td>65.0</td>\n",
              "      <td>36.0</td>\n",
              "      <td>44.0</td>\n",
              "      <td>12.170091</td>\n",
              "      <td>7.618399</td>\n",
              "      <td>5.851496</td>\n",
              "      <td>13.979151</td>\n",
              "      <td>15.762121</td>\n",
              "      <td>21.079216</td>\n",
              "      <td>17.035258</td>\n",
              "      <td>13.084342</td>\n",
              "      <td>27.958302</td>\n",
              "      <td>27.300794</td>\n",
              "      <td>244.0</td>\n",
              "      <td>374.0</td>\n",
              "      <td>426.0</td>\n",
              "      <td>226.0</td>\n",
              "      <td>220.0</td>\n",
              "      <td>444.333333</td>\n",
              "      <td>290.200000</td>\n",
              "      <td>171.200000</td>\n",
              "      <td>781.666667</td>\n",
              "      <td>745.333333</td>\n",
              "    </tr>\n",
              "    <tr>\n",
              "      <th>CS1114</th>\n",
              "      <td>85.200000</td>\n",
              "      <td>75.000000</td>\n",
              "      <td>70.400000</td>\n",
              "      <td>70.833333</td>\n",
              "      <td>79.000000</td>\n",
              "      <td>5.0</td>\n",
              "      <td>2.0</td>\n",
              "      <td>5.0</td>\n",
              "      <td>6.0</td>\n",
              "      <td>1.0</td>\n",
              "      <td>97.0</td>\n",
              "      <td>97.0</td>\n",
              "      <td>105.0</td>\n",
              "      <td>95.0</td>\n",
              "      <td>79.0</td>\n",
              "      <td>76.0</td>\n",
              "      <td>53.0</td>\n",
              "      <td>43.0</td>\n",
              "      <td>37.0</td>\n",
              "      <td>79.0</td>\n",
              "      <td>4.352011</td>\n",
              "      <td>22.000000</td>\n",
              "      <td>11.129241</td>\n",
              "      <td>11.001263</td>\n",
              "      <td>0.000000</td>\n",
              "      <td>9.731393</td>\n",
              "      <td>31.112698</td>\n",
              "      <td>24.885739</td>\n",
              "      <td>26.947480</td>\n",
              "      <td>0.000000</td>\n",
              "      <td>426.0</td>\n",
              "      <td>150.0</td>\n",
              "      <td>352.0</td>\n",
              "      <td>425.0</td>\n",
              "      <td>79.0</td>\n",
              "      <td>94.700000</td>\n",
              "      <td>968.000000</td>\n",
              "      <td>619.300000</td>\n",
              "      <td>726.166667</td>\n",
              "      <td>0.000000</td>\n",
              "    </tr>\n",
              "    <tr>\n",
              "      <th>CS1115</th>\n",
              "      <td>87.000000</td>\n",
              "      <td>67.571429</td>\n",
              "      <td>79.571429</td>\n",
              "      <td>78.250000</td>\n",
              "      <td>55.000000</td>\n",
              "      <td>3.0</td>\n",
              "      <td>7.0</td>\n",
              "      <td>7.0</td>\n",
              "      <td>4.0</td>\n",
              "      <td>1.0</td>\n",
              "      <td>102.0</td>\n",
              "      <td>104.0</td>\n",
              "      <td>94.0</td>\n",
              "      <td>98.0</td>\n",
              "      <td>55.0</td>\n",
              "      <td>72.0</td>\n",
              "      <td>41.0</td>\n",
              "      <td>66.0</td>\n",
              "      <td>50.0</td>\n",
              "      <td>55.0</td>\n",
              "      <td>8.660254</td>\n",
              "      <td>8.257341</td>\n",
              "      <td>3.981249</td>\n",
              "      <td>11.316470</td>\n",
              "      <td>0.000000</td>\n",
              "      <td>15.000000</td>\n",
              "      <td>21.846870</td>\n",
              "      <td>10.533394</td>\n",
              "      <td>22.632941</td>\n",
              "      <td>0.000000</td>\n",
              "      <td>261.0</td>\n",
              "      <td>473.0</td>\n",
              "      <td>557.0</td>\n",
              "      <td>313.0</td>\n",
              "      <td>55.0</td>\n",
              "      <td>225.000000</td>\n",
              "      <td>477.285714</td>\n",
              "      <td>110.952381</td>\n",
              "      <td>512.250000</td>\n",
              "      <td>0.000000</td>\n",
              "    </tr>\n",
              "    <tr>\n",
              "      <th>CS1116</th>\n",
              "      <td>58.750000</td>\n",
              "      <td>76.666667</td>\n",
              "      <td>59.000000</td>\n",
              "      <td>66.600000</td>\n",
              "      <td>0.000000</td>\n",
              "      <td>4.0</td>\n",
              "      <td>3.0</td>\n",
              "      <td>1.0</td>\n",
              "      <td>5.0</td>\n",
              "      <td>0.0</td>\n",
              "      <td>87.0</td>\n",
              "      <td>105.0</td>\n",
              "      <td>59.0</td>\n",
              "      <td>96.0</td>\n",
              "      <td>0.0</td>\n",
              "      <td>41.0</td>\n",
              "      <td>45.0</td>\n",
              "      <td>59.0</td>\n",
              "      <td>40.0</td>\n",
              "      <td>0.0</td>\n",
              "      <td>10.601690</td>\n",
              "      <td>17.400511</td>\n",
              "      <td>0.000000</td>\n",
              "      <td>11.285389</td>\n",
              "      <td>0.000000</td>\n",
              "      <td>21.203380</td>\n",
              "      <td>30.138569</td>\n",
              "      <td>0.000000</td>\n",
              "      <td>25.234896</td>\n",
              "      <td>0.000000</td>\n",
              "      <td>235.0</td>\n",
              "      <td>230.0</td>\n",
              "      <td>59.0</td>\n",
              "      <td>333.0</td>\n",
              "      <td>0.0</td>\n",
              "      <td>449.583333</td>\n",
              "      <td>908.333333</td>\n",
              "      <td>0.000000</td>\n",
              "      <td>636.800000</td>\n",
              "      <td>0.000000</td>\n",
              "    </tr>\n",
              "  </tbody>\n",
              "</table>\n",
              "</div>"
            ],
            "text/plain": [
              "             ann_txn_amt_ave_2011  ...  ann_txn_amt_var_2015\n",
              "customer_id                        ...                      \n",
              "CS1112                  70.666667  ...              0.000000\n",
              "CS1113                  81.333333  ...            745.333333\n",
              "CS1114                  85.200000  ...              0.000000\n",
              "CS1115                  87.000000  ...              0.000000\n",
              "CS1116                  58.750000  ...              0.000000\n",
              "\n",
              "[5 rows x 40 columns]"
            ]
          },
          "metadata": {},
          "execution_count": 11
        }
      ]
    },
    {
      "cell_type": "code",
      "metadata": {
        "id": "pf5Hb1lPZ3IU"
      },
      "source": [
        "#save the output dataframe as an Excel file annual_features.xlsx\n",
        "clnt_annual_aggregations_pivot.to_excel(\"annual_features.xlsx\")"
      ],
      "execution_count": 12,
      "outputs": []
    },
    {
      "cell_type": "markdown",
      "metadata": {
        "id": "e89C5QP8caDz"
      },
      "source": [
        "6. What are the possible disadvantages in capturing client transaction behavior with the\n",
        "annual features described in this section (if any)?\n",
        "\n",
        "I think that annual data is too general. To better find patterns of selling, the data can be more detailed like using weekly or monthly data."
      ]
    },
    {
      "cell_type": "markdown",
      "metadata": {
        "id": "fsfcCOEzqmMu"
      },
      "source": [
        "##1.3 Create monthly aggregations\n",
        ">Here, you want to explore the monthly sum of amounts and count of clients transactions.\n",
        "1. Create the dataframe that captures the monthly sum and count of transactions per client (name\n",
        "it **clnt_monthly_aggregations**). Use the groupby function with the Named Aggregation feature which was introduced in pandas version 0.25.0. Make sure that you name the columns\n",
        "as shown in the  gure sample on the right."
      ]
    },
    {
      "cell_type": "code",
      "metadata": {
        "colab": {
          "base_uri": "https://localhost:8080/",
          "height": 235
        },
        "id": "qABOS39Ljra9",
        "outputId": "44f98aad-819c-47bb-a83b-102f234d6d72"
      },
      "source": [
        "clnt_monthly_aggregations = txn.groupby([\"customer_id\",'ME_DT']).agg(\n",
        "    mth_txn_amt_sum = pd.NamedAgg('tran_amount','sum'),\n",
        "    mth_txn_cnt = pd.NamedAgg('tran_amount','count')    \n",
        ")\n",
        "clnt_monthly_aggregations.head()"
      ],
      "execution_count": 13,
      "outputs": [
        {
          "output_type": "execute_result",
          "data": {
            "text/html": [
              "<div>\n",
              "<style scoped>\n",
              "    .dataframe tbody tr th:only-of-type {\n",
              "        vertical-align: middle;\n",
              "    }\n",
              "\n",
              "    .dataframe tbody tr th {\n",
              "        vertical-align: top;\n",
              "    }\n",
              "\n",
              "    .dataframe thead th {\n",
              "        text-align: right;\n",
              "    }\n",
              "</style>\n",
              "<table border=\"1\" class=\"dataframe\">\n",
              "  <thead>\n",
              "    <tr style=\"text-align: right;\">\n",
              "      <th></th>\n",
              "      <th></th>\n",
              "      <th>mth_txn_amt_sum</th>\n",
              "      <th>mth_txn_cnt</th>\n",
              "    </tr>\n",
              "    <tr>\n",
              "      <th>customer_id</th>\n",
              "      <th>ME_DT</th>\n",
              "      <th></th>\n",
              "      <th></th>\n",
              "    </tr>\n",
              "  </thead>\n",
              "  <tbody>\n",
              "    <tr>\n",
              "      <th rowspan=\"5\" valign=\"top\">CS1112</th>\n",
              "      <th>2011-06-30</th>\n",
              "      <td>56</td>\n",
              "      <td>1</td>\n",
              "    </tr>\n",
              "    <tr>\n",
              "      <th>2011-08-31</th>\n",
              "      <td>96</td>\n",
              "      <td>1</td>\n",
              "    </tr>\n",
              "    <tr>\n",
              "      <th>2011-10-31</th>\n",
              "      <td>60</td>\n",
              "      <td>1</td>\n",
              "    </tr>\n",
              "    <tr>\n",
              "      <th>2012-04-30</th>\n",
              "      <td>56</td>\n",
              "      <td>1</td>\n",
              "    </tr>\n",
              "    <tr>\n",
              "      <th>2012-06-30</th>\n",
              "      <td>52</td>\n",
              "      <td>1</td>\n",
              "    </tr>\n",
              "  </tbody>\n",
              "</table>\n",
              "</div>"
            ],
            "text/plain": [
              "                        mth_txn_amt_sum  mth_txn_cnt\n",
              "customer_id ME_DT                                   \n",
              "CS1112      2011-06-30               56            1\n",
              "            2011-08-31               96            1\n",
              "            2011-10-31               60            1\n",
              "            2012-04-30               56            1\n",
              "            2012-06-30               52            1"
            ]
          },
          "metadata": {},
          "execution_count": 13
        }
      ]
    },
    {
      "cell_type": "markdown",
      "metadata": {
        "id": "VAcQOPcCtcYu"
      },
      "source": [
        ">2. Create a histogram of both columns you created. What are your observations? What are the most common and maximum values for each column? How do they compare with the ones in section 1.2?\n",
        "\n",
        "The majority of customer has only one transaction per month. Compared with the annual figure, we can find that both figures are skewed right distributed. Monthly graphs had a smaller x-axis scale. "
      ]
    },
    {
      "cell_type": "code",
      "metadata": {
        "colab": {
          "base_uri": "https://localhost:8080/",
          "height": 613
        },
        "id": "qaKXFReEtw1Q",
        "outputId": "06a3c406-6a4c-45d7-e055-5a98850eefcc"
      },
      "source": [
        "#plot sum\n",
        "plt.hist(clnt_monthly_aggregations['mth_txn_amt_sum'])\n",
        "plt.title(\"Histogram of Sum\")\n",
        "plt.show()\n",
        "\n",
        "#plot count\n",
        "plt.hist(clnt_monthly_aggregations['mth_txn_cnt'])\n",
        "plt.title(\"Histogram of Count\")\n",
        "plt.show()\n",
        "\n",
        "print('Most Common Value for sum:',clnt_monthly_aggregations['mth_txn_amt_sum'].mode()[0])\n",
        "print('Maximum Value for sum:',clnt_monthly_aggregations['mth_txn_amt_sum'].max())\n",
        "print('Most Common Value for count:',clnt_monthly_aggregations['mth_txn_cnt'].mode()[0])\n",
        "print('Maximum Value for count:',clnt_monthly_aggregations['mth_txn_cnt'].max())"
      ],
      "execution_count": 14,
      "outputs": [
        {
          "output_type": "display_data",
          "data": {
            "image/png": "[encoded data removed]",
            "text/plain": [
              "<Figure size 432x288 with 1 Axes>"
            ]
          },
          "metadata": {
            "needs_background": "light"
          }
        },
        {
          "output_type": "display_data",
          "data": {
            "image/png": "[encoded data removed]",
            "text/plain": [
              "<Figure size 432x288 with 1 Axes>"
            ]
          },
          "metadata": {
            "needs_background": "light"
          }
        },
        {
          "output_type": "stream",
          "name": "stdout",
          "text": [
            "Most Common Value for sum: 77\n",
            "Maximum Value for sum: 460\n",
            "Most Common Value for count: 1\n",
            "Maximum Value for count: 6\n"
          ]
        }
      ]
    },
    {
      "cell_type": "markdown",
      "metadata": {
        "id": "Ssc91l3UNFnN"
      },
      "source": [
        "##1.4 Create the base table for the rolling window features\n",
        ">1. Create the numpy array of the unique elements in columns 'customer id' and 'ME DT' of the txn table you created in section 1.1. Confirm that you have 6,889 unique clients and 47 unique month-end-dates."
      ]
    },
    {
      "cell_type": "code",
      "metadata": {
        "colab": {
          "base_uri": "https://localhost:8080/"
        },
        "id": "Ipgqo-ChNyXg",
        "outputId": "e52d2c70-d9ed-4889-ce90-b3f527c059b2"
      },
      "source": [
        "clnt_no = txn['customer_id'].unique()\n",
        "me_dt = txn['ME_DT'].unique()\n",
        "print(\"number of unique clients:\", len(clnt_no))\n",
        "print(\"number of unique month-end-dates:\", len(me_dt))"
      ],
      "execution_count": 15,
      "outputs": [
        {
          "output_type": "stream",
          "name": "stdout",
          "text": [
            "number of unique clients: 6889\n",
            "number of unique month-end-dates: 47\n"
          ]
        }
      ]
    },
    {
      "cell_type": "markdown",
      "metadata": {
        "id": "MWpB90hxylH-"
      },
      "source": [
        ">2. Use itertools.product to generate all the possible combinations of 'customer_id' and\n",
        "'ME_DT'. Itertools is a Python module that iterates over data in a computationally effcient way. You can perform the same task with a for-loop, but the execution may be inefficient. For a brief overview of the Itertools module see here. If you\n",
        "named the numpy arrays with the unique elements: **clnt_no** and **me_dt**, then the code below will create an itertools.product object (you can con rm this by running:\n",
        "type(base table))."
      ]
    },
    {
      "cell_type": "code",
      "metadata": {
        "id": "p4RQg0yFyXIA"
      },
      "source": [
        "base_table = product (clnt_no, me_dt)"
      ],
      "execution_count": 16,
      "outputs": []
    },
    {
      "cell_type": "markdown",
      "metadata": {
        "id": "KFmUYeUUPUUP"
      },
      "source": [
        "3. Next, you want to convert the itertools.product object base table into a pandas object called **base_table_pd**. To do so, use pd.DataFrame.from records and name the columns 'CLNT_NO' and 'ME_DT'."
      ]
    },
    {
      "cell_type": "code",
      "metadata": {
        "id": "xFZwTuUWSyDI"
      },
      "source": [
        "base_table_pd = pd.DataFrame.from_records(base_table)\n",
        "base_table_pd.columns = ['CLNT_NO', 'ME_DT']"
      ],
      "execution_count": 17,
      "outputs": []
    },
    {
      "cell_type": "markdown",
      "metadata": {
        "id": "pCP10b2IURam"
      },
      "source": [
        ">4. Finally, you want to validate that you created the table you originally wanted. There are two checks you want to perform:\n",
        "* Filter client CS1112 and confirm that the dates fall between the min and max month-dates you identified in section 1.1. Also, confirm that the snapshot of client CS1112 has 47 rows, one for each month in the dataset.\n",
        "\n",
        "From 1.1, we have min date: 2011-05-16 00:00:00, max date: 2015-03-16 00:00:00. Dates of client CS1112 fall between the min and max month-dates."
      ]
    },
    {
      "cell_type": "code",
      "metadata": {
        "colab": {
          "base_uri": "https://localhost:8080/"
        },
        "id": "rZBiiUqPWgBK",
        "outputId": "6a64cfb4-5741-4351-c82f-8d56044756b4"
      },
      "source": [
        "cs1112 = base_table_pd[base_table_pd['CLNT_NO'] == 'CS1112']\n",
        "print('min month-dates of CS1112:', min(cs1112['ME_DT']))\n",
        "print('max month-dates of CS1112:', max(cs1112['ME_DT']))\n",
        "print(f'CS1112 has {len(cs1112)} rows')"
      ],
      "execution_count": 18,
      "outputs": [
        {
          "output_type": "stream",
          "name": "stdout",
          "text": [
            "min month-dates of CS1112: 2011-05-31 00:00:00\n",
            "max month-dates of CS1112: 2015-03-31 00:00:00\n",
            "CS1112 has 47 rows\n"
          ]
        }
      ]
    },
    {
      "cell_type": "markdown",
      "metadata": {
        "id": "lNf2WhqAWgkJ"
      },
      "source": [
        ">* Confirm that the **base_table_pd** has 323,783 rows, which is the expected value of combinations for 6,889 unique clients and 47 unique month-end dates."
      ]
    },
    {
      "cell_type": "code",
      "metadata": {
        "colab": {
          "base_uri": "https://localhost:8080/"
        },
        "id": "F4q_1pMFabIo",
        "outputId": "49be9523-9051-4a1f-f07e-d942d0449ad8"
      },
      "source": [
        "print(f'base_table_pd has {base_table_pd.shape[0]} rows.')"
      ],
      "execution_count": 19,
      "outputs": [
        {
          "output_type": "stream",
          "name": "stdout",
          "text": [
            "base_table_pd has 323783 rows.\n"
          ]
        }
      ]
    },
    {
      "cell_type": "markdown",
      "metadata": {
        "id": "EH6X3Xvnax8d"
      },
      "source": [
        "##1.5 Create the monthly rolling window features\n",
        ">1. Left-join the **base_table_pd** with the **clnt_monthly_aggregations** table from section 1.3 on [CLNT_NO, ME_DT] to create the table **base_clnt_mth**."
      ]
    },
    {
      "cell_type": "code",
      "metadata": {
        "colab": {
          "base_uri": "https://localhost:8080/",
          "height": 204
        },
        "id": "ttlBBeABxKbF",
        "outputId": "aefd4723-7c5c-4836-c587-e4d0759b50e2"
      },
      "source": [
        "clnt_monthly_aggregations.index.set_names(['CLNT_NO','ME_DT'],inplace=True)\n",
        "base_clnt_mth = base_table_pd.merge(clnt_monthly_aggregations, on = ['CLNT_NO', 'ME_DT'], how = 'left')\n",
        "base_clnt_mth.head()"
      ],
      "execution_count": 20,
      "outputs": [
        {
          "output_type": "execute_result",
          "data": {
            "text/html": [
              "<div>\n",
              "<style scoped>\n",
              "    .dataframe tbody tr th:only-of-type {\n",
              "        vertical-align: middle;\n",
              "    }\n",
              "\n",
              "    .dataframe tbody tr th {\n",
              "        vertical-align: top;\n",
              "    }\n",
              "\n",
              "    .dataframe thead th {\n",
              "        text-align: right;\n",
              "    }\n",
              "</style>\n",
              "<table border=\"1\" class=\"dataframe\">\n",
              "  <thead>\n",
              "    <tr style=\"text-align: right;\">\n",
              "      <th></th>\n",
              "      <th>CLNT_NO</th>\n",
              "      <th>ME_DT</th>\n",
              "      <th>mth_txn_amt_sum</th>\n",
              "      <th>mth_txn_cnt</th>\n",
              "    </tr>\n",
              "  </thead>\n",
              "  <tbody>\n",
              "    <tr>\n",
              "      <th>0</th>\n",
              "      <td>CS5295</td>\n",
              "      <td>2013-02-28</td>\n",
              "      <td>35.0</td>\n",
              "      <td>1.0</td>\n",
              "    </tr>\n",
              "    <tr>\n",
              "      <th>1</th>\n",
              "      <td>CS5295</td>\n",
              "      <td>2015-03-31</td>\n",
              "      <td>NaN</td>\n",
              "      <td>NaN</td>\n",
              "    </tr>\n",
              "    <tr>\n",
              "      <th>2</th>\n",
              "      <td>CS5295</td>\n",
              "      <td>2011-11-30</td>\n",
              "      <td>132.0</td>\n",
              "      <td>2.0</td>\n",
              "    </tr>\n",
              "    <tr>\n",
              "      <th>3</th>\n",
              "      <td>CS5295</td>\n",
              "      <td>2013-11-30</td>\n",
              "      <td>NaN</td>\n",
              "      <td>NaN</td>\n",
              "    </tr>\n",
              "    <tr>\n",
              "      <th>4</th>\n",
              "      <td>CS5295</td>\n",
              "      <td>2014-03-31</td>\n",
              "      <td>NaN</td>\n",
              "      <td>NaN</td>\n",
              "    </tr>\n",
              "  </tbody>\n",
              "</table>\n",
              "</div>"
            ],
            "text/plain": [
              "  CLNT_NO      ME_DT  mth_txn_amt_sum  mth_txn_cnt\n",
              "0  CS5295 2013-02-28             35.0          1.0\n",
              "1  CS5295 2015-03-31              NaN          NaN\n",
              "2  CS5295 2011-11-30            132.0          2.0\n",
              "3  CS5295 2013-11-30              NaN          NaN\n",
              "4  CS5295 2014-03-31              NaN          NaN"
            ]
          },
          "metadata": {},
          "execution_count": 20
        }
      ]
    },
    {
      "cell_type": "markdown",
      "metadata": {
        "id": "oDevmWHxiJJ4"
      },
      "source": [
        ">Comment on the following questions in Markdown:\n",
        "* Why do some rows have NaN values?\n",
        "\n",
        "The base_table_pd has 323783 rows, while the right table clnt_monthly_aggregations only has 103234 rows. Because clnt_monthly_aggregations table doesn't have records matched in the base_table_pd, some rows will have NaN values.\n",
        "\n",
        ">* What values will you choose to impute NaN values in the sum and count columns? Perform the imputation you suggest.\n",
        "\n",
        "I will fill NaN values with 0s since it indicates that the customer had no transaction at that month."
      ]
    },
    {
      "cell_type": "code",
      "metadata": {
        "colab": {
          "base_uri": "https://localhost:8080/",
          "height": 204
        },
        "id": "6-y8-NnC2w7Q",
        "outputId": "c528f691-99b7-4d86-9343-6b43056d3c0e"
      },
      "source": [
        "base_clnt_mth.fillna(0, inplace = True)\n",
        "base_clnt_mth.head()"
      ],
      "execution_count": 21,
      "outputs": [
        {
          "output_type": "execute_result",
          "data": {
            "text/html": [
              "<div>\n",
              "<style scoped>\n",
              "    .dataframe tbody tr th:only-of-type {\n",
              "        vertical-align: middle;\n",
              "    }\n",
              "\n",
              "    .dataframe tbody tr th {\n",
              "        vertical-align: top;\n",
              "    }\n",
              "\n",
              "    .dataframe thead th {\n",
              "        text-align: right;\n",
              "    }\n",
              "</style>\n",
              "<table border=\"1\" class=\"dataframe\">\n",
              "  <thead>\n",
              "    <tr style=\"text-align: right;\">\n",
              "      <th></th>\n",
              "      <th>CLNT_NO</th>\n",
              "      <th>ME_DT</th>\n",
              "      <th>mth_txn_amt_sum</th>\n",
              "      <th>mth_txn_cnt</th>\n",
              "    </tr>\n",
              "  </thead>\n",
              "  <tbody>\n",
              "    <tr>\n",
              "      <th>0</th>\n",
              "      <td>CS5295</td>\n",
              "      <td>2013-02-28</td>\n",
              "      <td>35.0</td>\n",
              "      <td>1.0</td>\n",
              "    </tr>\n",
              "    <tr>\n",
              "      <th>1</th>\n",
              "      <td>CS5295</td>\n",
              "      <td>2015-03-31</td>\n",
              "      <td>0.0</td>\n",
              "      <td>0.0</td>\n",
              "    </tr>\n",
              "    <tr>\n",
              "      <th>2</th>\n",
              "      <td>CS5295</td>\n",
              "      <td>2011-11-30</td>\n",
              "      <td>132.0</td>\n",
              "      <td>2.0</td>\n",
              "    </tr>\n",
              "    <tr>\n",
              "      <th>3</th>\n",
              "      <td>CS5295</td>\n",
              "      <td>2013-11-30</td>\n",
              "      <td>0.0</td>\n",
              "      <td>0.0</td>\n",
              "    </tr>\n",
              "    <tr>\n",
              "      <th>4</th>\n",
              "      <td>CS5295</td>\n",
              "      <td>2014-03-31</td>\n",
              "      <td>0.0</td>\n",
              "      <td>0.0</td>\n",
              "    </tr>\n",
              "  </tbody>\n",
              "</table>\n",
              "</div>"
            ],
            "text/plain": [
              "  CLNT_NO      ME_DT  mth_txn_amt_sum  mth_txn_cnt\n",
              "0  CS5295 2013-02-28             35.0          1.0\n",
              "1  CS5295 2015-03-31              0.0          0.0\n",
              "2  CS5295 2011-11-30            132.0          2.0\n",
              "3  CS5295 2013-11-30              0.0          0.0\n",
              "4  CS5295 2014-03-31              0.0          0.0"
            ]
          },
          "metadata": {},
          "execution_count": 21
        }
      ]
    },
    {
      "cell_type": "markdown",
      "metadata": {
        "id": "nk1BhygU2sWu"
      },
      "source": [
        ">* Confirm that the number of rows is what you expect. What is the value?\n",
        "\n",
        "The number of rows I expected is 323783 which matches the number of rows in the base_table_pd.\n"
      ]
    },
    {
      "cell_type": "code",
      "metadata": {
        "colab": {
          "base_uri": "https://localhost:8080/"
        },
        "id": "AN05HE3l3l28",
        "outputId": "f0f6479e-07a6-4f88-d489-17e2a9cc9058"
      },
      "source": [
        "print(f'base_clnt_mth has {len(base_clnt_mth)} rows.')"
      ],
      "execution_count": 22,
      "outputs": [
        {
          "output_type": "stream",
          "name": "stdout",
          "text": [
            "base_clnt_mth has 323783 rows.\n"
          ]
        }
      ]
    },
    {
      "cell_type": "markdown",
      "metadata": {
        "id": "ywQh7PcJ3kL-"
      },
      "source": [
        ">* How are tables **base_clnt_mth** and **clnt_monthly_aggregations** different? Comment on the number of rows and the content of each table.\n",
        "\n",
        "clnt_monthly_aggregations has 103234 rows, it only contains the record of customers' transactions.\n",
        "base_clnt_mth has 323783 rows, including all the combinations of customers and months. It contains all records for both transaction and non-transaction.\n",
        "\n",
        ">2. For the next step, the calculation of the rolling window features, you need to sort the\n",
        "data first by 'CLNT_NO' and then by 'ME_DT' in ascending order. This is necessary to create the order for rolling windows, e.g. 2011-05-31, 2011-06-30, etc."
      ]
    },
    {
      "cell_type": "code",
      "metadata": {
        "colab": {
          "base_uri": "https://localhost:8080/",
          "height": 204
        },
        "id": "6N_NyHjK5qvu",
        "outputId": "6ed09ea6-6edc-40d7-8211-2a03389a54d3"
      },
      "source": [
        "base_clnt_mth = base_clnt_mth.sort_values(['CLNT_NO','ME_DT'],ascending = True)\n",
        "base_clnt_mth.head()"
      ],
      "execution_count": 23,
      "outputs": [
        {
          "output_type": "execute_result",
          "data": {
            "text/html": [
              "<div>\n",
              "<style scoped>\n",
              "    .dataframe tbody tr th:only-of-type {\n",
              "        vertical-align: middle;\n",
              "    }\n",
              "\n",
              "    .dataframe tbody tr th {\n",
              "        vertical-align: top;\n",
              "    }\n",
              "\n",
              "    .dataframe thead th {\n",
              "        text-align: right;\n",
              "    }\n",
              "</style>\n",
              "<table border=\"1\" class=\"dataframe\">\n",
              "  <thead>\n",
              "    <tr style=\"text-align: right;\">\n",
              "      <th></th>\n",
              "      <th>CLNT_NO</th>\n",
              "      <th>ME_DT</th>\n",
              "      <th>mth_txn_amt_sum</th>\n",
              "      <th>mth_txn_cnt</th>\n",
              "    </tr>\n",
              "  </thead>\n",
              "  <tbody>\n",
              "    <tr>\n",
              "      <th>157064</th>\n",
              "      <td>CS1112</td>\n",
              "      <td>2011-05-31</td>\n",
              "      <td>0.0</td>\n",
              "      <td>0.0</td>\n",
              "    </tr>\n",
              "    <tr>\n",
              "      <th>157058</th>\n",
              "      <td>CS1112</td>\n",
              "      <td>2011-06-30</td>\n",
              "      <td>56.0</td>\n",
              "      <td>1.0</td>\n",
              "    </tr>\n",
              "    <tr>\n",
              "      <th>157044</th>\n",
              "      <td>CS1112</td>\n",
              "      <td>2011-07-31</td>\n",
              "      <td>0.0</td>\n",
              "      <td>0.0</td>\n",
              "    </tr>\n",
              "    <tr>\n",
              "      <th>157069</th>\n",
              "      <td>CS1112</td>\n",
              "      <td>2011-08-31</td>\n",
              "      <td>96.0</td>\n",
              "      <td>1.0</td>\n",
              "    </tr>\n",
              "    <tr>\n",
              "      <th>157060</th>\n",
              "      <td>CS1112</td>\n",
              "      <td>2011-09-30</td>\n",
              "      <td>0.0</td>\n",
              "      <td>0.0</td>\n",
              "    </tr>\n",
              "  </tbody>\n",
              "</table>\n",
              "</div>"
            ],
            "text/plain": [
              "       CLNT_NO      ME_DT  mth_txn_amt_sum  mth_txn_cnt\n",
              "157064  CS1112 2011-05-31              0.0          0.0\n",
              "157058  CS1112 2011-06-30             56.0          1.0\n",
              "157044  CS1112 2011-07-31              0.0          0.0\n",
              "157069  CS1112 2011-08-31             96.0          1.0\n",
              "157060  CS1112 2011-09-30              0.0          0.0"
            ]
          },
          "metadata": {},
          "execution_count": 23
        }
      ]
    },
    {
      "cell_type": "markdown",
      "metadata": {
        "id": "LUF_7lqR6I17"
      },
      "source": [
        "> 3.Here, you have to calculate separately the 3, 6 and 12-month rolling window features\n",
        "(tables: **rolling_features_3M**, **rolling_features_6M**, **rolling_features_12M**) for every client that calculates the aggregations 'sum', mean' and 'max' for both columns\n",
        "'mth_txn_amt_sum' and 'mth_txn_cnt'. The steps to achieve this with **base_clnt_mth** as the starting dataframe are:\n",
        ">* groupby the client number\n",
        ">* select the two columns you want to aggregate\n",
        ">* use the rolling function with the appropriate windows\n",
        ">* aggregate with 'sum', 'mean' and 'max'"
      ]
    },
    {
      "cell_type": "code",
      "metadata": {
        "colab": {
          "base_uri": "https://localhost:8080/",
          "height": 266
        },
        "id": "6zzK4mbBmn97",
        "outputId": "ac61ccfd-e4bc-4f54-9a0a-f3c9bb5bca0d"
      },
      "source": [
        "#calculate the 3, 6 and 12-month rolling window features\n",
        "rolling_features_3M = base_clnt_mth.groupby(['CLNT_NO'])[['mth_txn_amt_sum','mth_txn_cnt']].rolling(3).agg(['sum', 'mean', 'max'])\n",
        "rolling_features_6M = base_clnt_mth.groupby(['CLNT_NO'])[['mth_txn_amt_sum','mth_txn_cnt']].rolling(6).agg(['sum', 'mean', 'max'])\n",
        "rolling_features_12M = base_clnt_mth.groupby(['CLNT_NO'])[['mth_txn_amt_sum','mth_txn_cnt']].rolling(12).agg(['sum', 'mean', 'max'])\n",
        "rolling_features_3M.head()"
      ],
      "execution_count": 24,
      "outputs": [
        {
          "output_type": "execute_result",
          "data": {
            "text/html": [
              "<div>\n",
              "<style scoped>\n",
              "    .dataframe tbody tr th:only-of-type {\n",
              "        vertical-align: middle;\n",
              "    }\n",
              "\n",
              "    .dataframe tbody tr th {\n",
              "        vertical-align: top;\n",
              "    }\n",
              "\n",
              "    .dataframe thead tr th {\n",
              "        text-align: left;\n",
              "    }\n",
              "\n",
              "    .dataframe thead tr:last-of-type th {\n",
              "        text-align: right;\n",
              "    }\n",
              "</style>\n",
              "<table border=\"1\" class=\"dataframe\">\n",
              "  <thead>\n",
              "    <tr>\n",
              "      <th></th>\n",
              "      <th></th>\n",
              "      <th colspan=\"3\" halign=\"left\">mth_txn_amt_sum</th>\n",
              "      <th colspan=\"3\" halign=\"left\">mth_txn_cnt</th>\n",
              "    </tr>\n",
              "    <tr>\n",
              "      <th></th>\n",
              "      <th></th>\n",
              "      <th>sum</th>\n",
              "      <th>mean</th>\n",
              "      <th>max</th>\n",
              "      <th>sum</th>\n",
              "      <th>mean</th>\n",
              "      <th>max</th>\n",
              "    </tr>\n",
              "    <tr>\n",
              "      <th>CLNT_NO</th>\n",
              "      <th></th>\n",
              "      <th></th>\n",
              "      <th></th>\n",
              "      <th></th>\n",
              "      <th></th>\n",
              "      <th></th>\n",
              "      <th></th>\n",
              "    </tr>\n",
              "  </thead>\n",
              "  <tbody>\n",
              "    <tr>\n",
              "      <th rowspan=\"5\" valign=\"top\">CS1112</th>\n",
              "      <th>157064</th>\n",
              "      <td>NaN</td>\n",
              "      <td>NaN</td>\n",
              "      <td>NaN</td>\n",
              "      <td>NaN</td>\n",
              "      <td>NaN</td>\n",
              "      <td>NaN</td>\n",
              "    </tr>\n",
              "    <tr>\n",
              "      <th>157058</th>\n",
              "      <td>NaN</td>\n",
              "      <td>NaN</td>\n",
              "      <td>NaN</td>\n",
              "      <td>NaN</td>\n",
              "      <td>NaN</td>\n",
              "      <td>NaN</td>\n",
              "    </tr>\n",
              "    <tr>\n",
              "      <th>157044</th>\n",
              "      <td>56.0</td>\n",
              "      <td>18.666667</td>\n",
              "      <td>56.0</td>\n",
              "      <td>1.0</td>\n",
              "      <td>0.333333</td>\n",
              "      <td>1.0</td>\n",
              "    </tr>\n",
              "    <tr>\n",
              "      <th>157069</th>\n",
              "      <td>152.0</td>\n",
              "      <td>50.666667</td>\n",
              "      <td>96.0</td>\n",
              "      <td>2.0</td>\n",
              "      <td>0.666667</td>\n",
              "      <td>1.0</td>\n",
              "    </tr>\n",
              "    <tr>\n",
              "      <th>157060</th>\n",
              "      <td>96.0</td>\n",
              "      <td>32.000000</td>\n",
              "      <td>96.0</td>\n",
              "      <td>1.0</td>\n",
              "      <td>0.333333</td>\n",
              "      <td>1.0</td>\n",
              "    </tr>\n",
              "  </tbody>\n",
              "</table>\n",
              "</div>"
            ],
            "text/plain": [
              "               mth_txn_amt_sum                  mth_txn_cnt               \n",
              "                           sum       mean   max         sum      mean  max\n",
              "CLNT_NO                                                                   \n",
              "CS1112  157064             NaN        NaN   NaN         NaN       NaN  NaN\n",
              "        157058             NaN        NaN   NaN         NaN       NaN  NaN\n",
              "        157044            56.0  18.666667  56.0         1.0  0.333333  1.0\n",
              "        157069           152.0  50.666667  96.0         2.0  0.666667  1.0\n",
              "        157060            96.0  32.000000  96.0         1.0  0.333333  1.0"
            ]
          },
          "metadata": {},
          "execution_count": 24
        }
      ]
    },
    {
      "cell_type": "markdown",
      "metadata": {
        "id": "QZX4ukaK9n4d"
      },
      "source": [
        ">Also, answer the following questions in the .ipynb notebook as Markdown comments.\n",
        ">* How many rows appear with NaN values at the beginning of each client for 3, 6 and 12-month windows, respectively? Why do they appear?\n",
        "\n",
        "2, 5, 11 rows respectively. Because the rolling window function computes n rows which makes top n-1 rows don't have enough data to calculate the numbers.\n",
        "\n",
        ">* How many levels do the index and columns have? Are these MultiIndex dataframes?\n",
        "\n",
        "Both index and columns have 2 levels, so they are MultiIndex dataframe."
      ]
    },
    {
      "cell_type": "code",
      "metadata": {
        "colab": {
          "base_uri": "https://localhost:8080/"
        },
        "id": "1poiuUljH3aK",
        "outputId": "38bfb976-3223-4658-9e76-e873ac69622d"
      },
      "source": [
        "print (\"Index levels:\",rolling_features_3M.index.nlevels)\n",
        "print (\"Columns levels:\",rolling_features_3M.columns.nlevels)"
      ],
      "execution_count": 25,
      "outputs": [
        {
          "output_type": "stream",
          "name": "stdout",
          "text": [
            "Index levels: 2\n",
            "Columns levels: 2\n"
          ]
        }
      ]
    },
    {
      "cell_type": "markdown",
      "metadata": {
        "id": "eJxf1eG7Hxd_"
      },
      "source": [
        ">* Rename the columns as following: 'amt_sum_3M', 'amt_mean_3M', 'amt_max_3M',\n",
        "'txn_cnt_sum_3M', 'txn_cnt_mean_3M', 'txn_cnt_max_3M' and follow the same naming convention for 6M and 12M."
      ]
    },
    {
      "cell_type": "code",
      "metadata": {
        "id": "luSfG2ZwQNH5"
      },
      "source": [
        "rolling_features_3M.columns = ['amt_sum_3M', 'amt_mean_3M', 'amt_max_3M', 'txn_cnt_sum_3M', 'txn_cnt_mean_3M', 'txn_cnt_max_3M']\n",
        "rolling_features_6M.columns = ['amt_sum_6M', 'amt_mean_6M', 'amt_max_6M', 'txn_cnt_sum_6M', 'txn_cnt_mean_6M', 'txn_cnt_max_6M']\n",
        "rolling_features_12M.columns = ['amt_sum_12M', 'amt_mean_12M', 'amt_max_12M', 'txn_cnt_sum_12M', 'txn_cnt_mean_12M', 'txn_cnt_max_12M']"
      ],
      "execution_count": 26,
      "outputs": []
    },
    {
      "cell_type": "markdown",
      "metadata": {
        "id": "gw_ieP7gQY1H"
      },
      "source": [
        "> 4. Merge the 4 tables: **base_clnt_mth**, **rolling_features_3M**, **rolling_features_6M**, **rolling_features_12M** in the output **all_rolling_features**. It is recommended to drop the level:0 of the rolling features MultiIndex table and join with **base_clnt_mth**\n",
        "on the indexes.\n",
        "\n",
        "> Make sure you understand why joining on the indexes preserves the CLNT_NO and ME_DT for each index."
      ]
    },
    {
      "cell_type": "code",
      "metadata": {
        "colab": {
          "base_uri": "https://localhost:8080/",
          "height": 343
        },
        "id": "ImIb1PaVRoC4",
        "outputId": "34f65ad6-b6c7-49b0-ed23-748e717a323e"
      },
      "source": [
        "rolling_features_3M.index = rolling_features_3M.index.droplevel(0)\n",
        "rolling_features_6M.index = rolling_features_6M.index.droplevel(0)\n",
        "rolling_features_12M.index = rolling_features_12M.index.droplevel(0)\n",
        "all_rolling_features = base_clnt_mth.join(rolling_features_3M).join(rolling_features_6M).join(rolling_features_12M)\n",
        "all_rolling_features.head()"
      ],
      "execution_count": 28,
      "outputs": [
        {
          "output_type": "execute_result",
          "data": {
            "text/html": [
              "<div>\n",
              "<style scoped>\n",
              "    .dataframe tbody tr th:only-of-type {\n",
              "        vertical-align: middle;\n",
              "    }\n",
              "\n",
              "    .dataframe tbody tr th {\n",
              "        vertical-align: top;\n",
              "    }\n",
              "\n",
              "    .dataframe thead th {\n",
              "        text-align: right;\n",
              "    }\n",
              "</style>\n",
              "<table border=\"1\" class=\"dataframe\">\n",
              "  <thead>\n",
              "    <tr style=\"text-align: right;\">\n",
              "      <th></th>\n",
              "      <th>CLNT_NO</th>\n",
              "      <th>ME_DT</th>\n",
              "      <th>mth_txn_amt_sum</th>\n",
              "      <th>mth_txn_cnt</th>\n",
              "      <th>amt_sum_3M</th>\n",
              "      <th>amt_mean_3M</th>\n",
              "      <th>amt_max_3M</th>\n",
              "      <th>txn_cnt_sum_3M</th>\n",
              "      <th>txn_cnt_mean_3M</th>\n",
              "      <th>txn_cnt_max_3M</th>\n",
              "      <th>amt_sum_6M</th>\n",
              "      <th>amt_mean_6M</th>\n",
              "      <th>amt_max_6M</th>\n",
              "      <th>txn_cnt_sum_6M</th>\n",
              "      <th>txn_cnt_mean_6M</th>\n",
              "      <th>txn_cnt_max_6M</th>\n",
              "      <th>amt_sum_12M</th>\n",
              "      <th>amt_mean_12M</th>\n",
              "      <th>amt_max_12M</th>\n",
              "      <th>txn_cnt_sum_12M</th>\n",
              "      <th>txn_cnt_mean_12M</th>\n",
              "      <th>txn_cnt_max_12M</th>\n",
              "    </tr>\n",
              "  </thead>\n",
              "  <tbody>\n",
              "    <tr>\n",
              "      <th>157064</th>\n",
              "      <td>CS1112</td>\n",
              "      <td>2011-05-31</td>\n",
              "      <td>0.0</td>\n",
              "      <td>0.0</td>\n",
              "      <td>NaN</td>\n",
              "      <td>NaN</td>\n",
              "      <td>NaN</td>\n",
              "      <td>NaN</td>\n",
              "      <td>NaN</td>\n",
              "      <td>NaN</td>\n",
              "      <td>NaN</td>\n",
              "      <td>NaN</td>\n",
              "      <td>NaN</td>\n",
              "      <td>NaN</td>\n",
              "      <td>NaN</td>\n",
              "      <td>NaN</td>\n",
              "      <td>NaN</td>\n",
              "      <td>NaN</td>\n",
              "      <td>NaN</td>\n",
              "      <td>NaN</td>\n",
              "      <td>NaN</td>\n",
              "      <td>NaN</td>\n",
              "    </tr>\n",
              "    <tr>\n",
              "      <th>157058</th>\n",
              "      <td>CS1112</td>\n",
              "      <td>2011-06-30</td>\n",
              "      <td>56.0</td>\n",
              "      <td>1.0</td>\n",
              "      <td>NaN</td>\n",
              "      <td>NaN</td>\n",
              "      <td>NaN</td>\n",
              "      <td>NaN</td>\n",
              "      <td>NaN</td>\n",
              "      <td>NaN</td>\n",
              "      <td>NaN</td>\n",
              "      <td>NaN</td>\n",
              "      <td>NaN</td>\n",
              "      <td>NaN</td>\n",
              "      <td>NaN</td>\n",
              "      <td>NaN</td>\n",
              "      <td>NaN</td>\n",
              "      <td>NaN</td>\n",
              "      <td>NaN</td>\n",
              "      <td>NaN</td>\n",
              "      <td>NaN</td>\n",
              "      <td>NaN</td>\n",
              "    </tr>\n",
              "    <tr>\n",
              "      <th>157044</th>\n",
              "      <td>CS1112</td>\n",
              "      <td>2011-07-31</td>\n",
              "      <td>0.0</td>\n",
              "      <td>0.0</td>\n",
              "      <td>56.0</td>\n",
              "      <td>18.666667</td>\n",
              "      <td>56.0</td>\n",
              "      <td>1.0</td>\n",
              "      <td>0.333333</td>\n",
              "      <td>1.0</td>\n",
              "      <td>NaN</td>\n",
              "      <td>NaN</td>\n",
              "      <td>NaN</td>\n",
              "      <td>NaN</td>\n",
              "      <td>NaN</td>\n",
              "      <td>NaN</td>\n",
              "      <td>NaN</td>\n",
              "      <td>NaN</td>\n",
              "      <td>NaN</td>\n",
              "      <td>NaN</td>\n",
              "      <td>NaN</td>\n",
              "      <td>NaN</td>\n",
              "    </tr>\n",
              "    <tr>\n",
              "      <th>157069</th>\n",
              "      <td>CS1112</td>\n",
              "      <td>2011-08-31</td>\n",
              "      <td>96.0</td>\n",
              "      <td>1.0</td>\n",
              "      <td>152.0</td>\n",
              "      <td>50.666667</td>\n",
              "      <td>96.0</td>\n",
              "      <td>2.0</td>\n",
              "      <td>0.666667</td>\n",
              "      <td>1.0</td>\n",
              "      <td>NaN</td>\n",
              "      <td>NaN</td>\n",
              "      <td>NaN</td>\n",
              "      <td>NaN</td>\n",
              "      <td>NaN</td>\n",
              "      <td>NaN</td>\n",
              "      <td>NaN</td>\n",
              "      <td>NaN</td>\n",
              "      <td>NaN</td>\n",
              "      <td>NaN</td>\n",
              "      <td>NaN</td>\n",
              "      <td>NaN</td>\n",
              "    </tr>\n",
              "    <tr>\n",
              "      <th>157060</th>\n",
              "      <td>CS1112</td>\n",
              "      <td>2011-09-30</td>\n",
              "      <td>0.0</td>\n",
              "      <td>0.0</td>\n",
              "      <td>96.0</td>\n",
              "      <td>32.000000</td>\n",
              "      <td>96.0</td>\n",
              "      <td>1.0</td>\n",
              "      <td>0.333333</td>\n",
              "      <td>1.0</td>\n",
              "      <td>NaN</td>\n",
              "      <td>NaN</td>\n",
              "      <td>NaN</td>\n",
              "      <td>NaN</td>\n",
              "      <td>NaN</td>\n",
              "      <td>NaN</td>\n",
              "      <td>NaN</td>\n",
              "      <td>NaN</td>\n",
              "      <td>NaN</td>\n",
              "      <td>NaN</td>\n",
              "      <td>NaN</td>\n",
              "      <td>NaN</td>\n",
              "    </tr>\n",
              "  </tbody>\n",
              "</table>\n",
              "</div>"
            ],
            "text/plain": [
              "       CLNT_NO      ME_DT  ...  txn_cnt_mean_12M  txn_cnt_max_12M\n",
              "157064  CS1112 2011-05-31  ...               NaN              NaN\n",
              "157058  CS1112 2011-06-30  ...               NaN              NaN\n",
              "157044  CS1112 2011-07-31  ...               NaN              NaN\n",
              "157069  CS1112 2011-08-31  ...               NaN              NaN\n",
              "157060  CS1112 2011-09-30  ...               NaN              NaN\n",
              "\n",
              "[5 rows x 22 columns]"
            ]
          },
          "metadata": {},
          "execution_count": 28
        }
      ]
    },
    {
      "cell_type": "markdown",
      "metadata": {
        "id": "bp5GCuvLULfa"
      },
      "source": [
        "> 5. Confirm that your final output **all_rolling_features** has 323,783 rows and 22 columns and save it as **mth_rolling_features.xlsx**."
      ]
    },
    {
      "cell_type": "code",
      "metadata": {
        "colab": {
          "base_uri": "https://localhost:8080/"
        },
        "id": "lgkN06-WUUEW",
        "outputId": "5d1fca68-1e16-45aa-b06f-13c21d12e374"
      },
      "source": [
        "print(f\"all_rolling_features has {all_rolling_features.shape[0]} rows.\")\n",
        "print(f\"all_rolling_features has {all_rolling_features.shape[1]} columns.\")\n",
        "all_rolling_features.to_excel(\"mth_rolling_features.xlsx\")"
      ],
      "execution_count": 29,
      "outputs": [
        {
          "output_type": "stream",
          "name": "stdout",
          "text": [
            "all_rolling_features has 323783 rows.\n",
            "all_rolling_features has 22 columns.\n"
          ]
        }
      ]
    },
    {
      "cell_type": "markdown",
      "metadata": {
        "id": "qcpFFl-QVGJ9"
      },
      "source": [
        "## 1.6 Date-related features: date of the week\n",
        "> In this section, you will create the date-related features that capture information about the\n",
        "day of the week the transactions were performed.\n",
        "> 1. The DatetimeIndex object you used earlier allows you to extract many components of a DateTime object. Here, you want to use the attributes **dt.dayofweek** and/or **dt.day_name()** to extract the day of the week from column 'txn_date' of the txn table (with Monday=0, Sunday=6). The expected output below shows both columns."
      ]
    },
    {
      "cell_type": "code",
      "metadata": {
        "colab": {
          "base_uri": "https://localhost:8080/",
          "height": 204
        },
        "id": "7CrsgAjxX8yy",
        "outputId": "0b27e204-9467-4e77-d14e-d0897c88a003"
      },
      "source": [
        "txn['day_of_the_week'] = txn['txn_date'].dt.dayofweek\n",
        "txn['day_name'] = txn['txn_date'].dt.day_name()\n",
        "txn.head()"
      ],
      "execution_count": 32,
      "outputs": [
        {
          "output_type": "execute_result",
          "data": {
            "text/html": [
              "<div>\n",
              "<style scoped>\n",
              "    .dataframe tbody tr th:only-of-type {\n",
              "        vertical-align: middle;\n",
              "    }\n",
              "\n",
              "    .dataframe tbody tr th {\n",
              "        vertical-align: top;\n",
              "    }\n",
              "\n",
              "    .dataframe thead th {\n",
              "        text-align: right;\n",
              "    }\n",
              "</style>\n",
              "<table border=\"1\" class=\"dataframe\">\n",
              "  <thead>\n",
              "    <tr style=\"text-align: right;\">\n",
              "      <th></th>\n",
              "      <th>customer_id</th>\n",
              "      <th>tran_amount</th>\n",
              "      <th>txn_date</th>\n",
              "      <th>ME_DT</th>\n",
              "      <th>YEAR</th>\n",
              "      <th>day_of_the_week</th>\n",
              "      <th>day_name</th>\n",
              "    </tr>\n",
              "  </thead>\n",
              "  <tbody>\n",
              "    <tr>\n",
              "      <th>0</th>\n",
              "      <td>CS5295</td>\n",
              "      <td>35</td>\n",
              "      <td>2013-02-11</td>\n",
              "      <td>2013-02-28</td>\n",
              "      <td>2013</td>\n",
              "      <td>0</td>\n",
              "      <td>Monday</td>\n",
              "    </tr>\n",
              "    <tr>\n",
              "      <th>1</th>\n",
              "      <td>CS4768</td>\n",
              "      <td>39</td>\n",
              "      <td>2015-03-15</td>\n",
              "      <td>2015-03-31</td>\n",
              "      <td>2015</td>\n",
              "      <td>6</td>\n",
              "      <td>Sunday</td>\n",
              "    </tr>\n",
              "    <tr>\n",
              "      <th>2</th>\n",
              "      <td>CS2122</td>\n",
              "      <td>52</td>\n",
              "      <td>2013-02-26</td>\n",
              "      <td>2013-02-28</td>\n",
              "      <td>2013</td>\n",
              "      <td>1</td>\n",
              "      <td>Tuesday</td>\n",
              "    </tr>\n",
              "    <tr>\n",
              "      <th>3</th>\n",
              "      <td>CS1217</td>\n",
              "      <td>99</td>\n",
              "      <td>2011-11-16</td>\n",
              "      <td>2011-11-30</td>\n",
              "      <td>2011</td>\n",
              "      <td>2</td>\n",
              "      <td>Wednesday</td>\n",
              "    </tr>\n",
              "    <tr>\n",
              "      <th>4</th>\n",
              "      <td>CS1850</td>\n",
              "      <td>78</td>\n",
              "      <td>2013-11-20</td>\n",
              "      <td>2013-11-30</td>\n",
              "      <td>2013</td>\n",
              "      <td>2</td>\n",
              "      <td>Wednesday</td>\n",
              "    </tr>\n",
              "  </tbody>\n",
              "</table>\n",
              "</div>"
            ],
            "text/plain": [
              "  customer_id  tran_amount   txn_date  ...  YEAR  day_of_the_week   day_name\n",
              "0      CS5295           35 2013-02-11  ...  2013                0     Monday\n",
              "1      CS4768           39 2015-03-15  ...  2015                6     Sunday\n",
              "2      CS2122           52 2013-02-26  ...  2013                1    Tuesday\n",
              "3      CS1217           99 2011-11-16  ...  2011                2  Wednesday\n",
              "4      CS1850           78 2013-11-20  ...  2013                2  Wednesday\n",
              "\n",
              "[5 rows x 7 columns]"
            ]
          },
          "metadata": {},
          "execution_count": 32
        }
      ]
    },
    {
      "cell_type": "markdown",
      "metadata": {
        "id": "rRfWgaBOdApd"
      },
      "source": [
        "> 2. Create the bar plot that shows the count of transactions per day of the week."
      ]
    },
    {
      "cell_type": "code",
      "metadata": {
        "colab": {
          "base_uri": "https://localhost:8080/",
          "height": 328
        },
        "id": "0o03Mnl4dIr5",
        "outputId": "8a3718dc-f06d-465a-af34-e21b248f1bce"
      },
      "source": [
        "txn.groupby('day_name')['customer_id'].count().plot.bar()\n",
        "plt.show()"
      ],
      "execution_count": 33,
      "outputs": [
        {
          "output_type": "display_data",
          "data": {
            "image/png": "[encoded data removed]",
            "text/plain": [
              "<Figure size 432x288 with 1 Axes>"
            ]
          },
          "metadata": {
            "needs_background": "light"
          }
        }
      ]
    },
    {
      "cell_type": "markdown",
      "metadata": {
        "id": "mG6ummnkeDfH"
      },
      "source": [
        "> 3. Following the same logic as in section 1.2, generate the features that capture the count of transactions per client, year and day of the week. The intermediate MultiIndex dataframe (with nlevels=3) and the final pivoted output with a single index are shown\n",
        "in the snapshots below."
      ]
    },
    {
      "cell_type": "code",
      "metadata": {
        "colab": {
          "base_uri": "https://localhost:8080/",
          "height": 317
        },
        "id": "cnpsJ0jlfxcQ",
        "outputId": "1fc610f0-848a-436a-a16f-283c75ec0d44"
      },
      "source": [
        "annual_day_of_week_counts = txn.groupby(['customer_id', 'day_name', 'YEAR'])['tran_amount'].count()\n",
        "annual_day_of_week_counts = pd.DataFrame(annual_day_of_week_counts) \n",
        "annual_day_of_week_counts.columns = ['cnt']\n",
        "annual_day_of_week_counts_pivot = annual_day_of_week_counts.pivot_table(index = 'customer_id',columns=['YEAR','day_name']).fillna(0).astype(int)\n",
        "annual_day_of_week_counts_pivot.head()"
      ],
      "execution_count": 45,
      "outputs": [
        {
          "output_type": "execute_result",
          "data": {
            "text/html": [
              "<div>\n",
              "<style scoped>\n",
              "    .dataframe tbody tr th:only-of-type {\n",
              "        vertical-align: middle;\n",
              "    }\n",
              "\n",
              "    .dataframe tbody tr th {\n",
              "        vertical-align: top;\n",
              "    }\n",
              "\n",
              "    .dataframe thead tr th {\n",
              "        text-align: left;\n",
              "    }\n",
              "\n",
              "    .dataframe thead tr:last-of-type th {\n",
              "        text-align: right;\n",
              "    }\n",
              "</style>\n",
              "<table border=\"1\" class=\"dataframe\">\n",
              "  <thead>\n",
              "    <tr>\n",
              "      <th></th>\n",
              "      <th colspan=\"35\" halign=\"left\">cnt</th>\n",
              "    </tr>\n",
              "    <tr>\n",
              "      <th>YEAR</th>\n",
              "      <th colspan=\"7\" halign=\"left\">2011</th>\n",
              "      <th colspan=\"7\" halign=\"left\">2012</th>\n",
              "      <th colspan=\"7\" halign=\"left\">2013</th>\n",
              "      <th colspan=\"7\" halign=\"left\">2014</th>\n",
              "      <th colspan=\"7\" halign=\"left\">2015</th>\n",
              "    </tr>\n",
              "    <tr>\n",
              "      <th>day_name</th>\n",
              "      <th>Friday</th>\n",
              "      <th>Monday</th>\n",
              "      <th>Saturday</th>\n",
              "      <th>Sunday</th>\n",
              "      <th>Thursday</th>\n",
              "      <th>Tuesday</th>\n",
              "      <th>Wednesday</th>\n",
              "      <th>Friday</th>\n",
              "      <th>Monday</th>\n",
              "      <th>Saturday</th>\n",
              "      <th>Sunday</th>\n",
              "      <th>Thursday</th>\n",
              "      <th>Tuesday</th>\n",
              "      <th>Wednesday</th>\n",
              "      <th>Friday</th>\n",
              "      <th>Monday</th>\n",
              "      <th>Saturday</th>\n",
              "      <th>Sunday</th>\n",
              "      <th>Thursday</th>\n",
              "      <th>Tuesday</th>\n",
              "      <th>Wednesday</th>\n",
              "      <th>Friday</th>\n",
              "      <th>Monday</th>\n",
              "      <th>Saturday</th>\n",
              "      <th>Sunday</th>\n",
              "      <th>Thursday</th>\n",
              "      <th>Tuesday</th>\n",
              "      <th>Wednesday</th>\n",
              "      <th>Friday</th>\n",
              "      <th>Monday</th>\n",
              "      <th>Saturday</th>\n",
              "      <th>Sunday</th>\n",
              "      <th>Thursday</th>\n",
              "      <th>Tuesday</th>\n",
              "      <th>Wednesday</th>\n",
              "    </tr>\n",
              "    <tr>\n",
              "      <th>customer_id</th>\n",
              "      <th></th>\n",
              "      <th></th>\n",
              "      <th></th>\n",
              "      <th></th>\n",
              "      <th></th>\n",
              "      <th></th>\n",
              "      <th></th>\n",
              "      <th></th>\n",
              "      <th></th>\n",
              "      <th></th>\n",
              "      <th></th>\n",
              "      <th></th>\n",
              "      <th></th>\n",
              "      <th></th>\n",
              "      <th></th>\n",
              "      <th></th>\n",
              "      <th></th>\n",
              "      <th></th>\n",
              "      <th></th>\n",
              "      <th></th>\n",
              "      <th></th>\n",
              "      <th></th>\n",
              "      <th></th>\n",
              "      <th></th>\n",
              "      <th></th>\n",
              "      <th></th>\n",
              "      <th></th>\n",
              "      <th></th>\n",
              "      <th></th>\n",
              "      <th></th>\n",
              "      <th></th>\n",
              "      <th></th>\n",
              "      <th></th>\n",
              "      <th></th>\n",
              "      <th></th>\n",
              "    </tr>\n",
              "  </thead>\n",
              "  <tbody>\n",
              "    <tr>\n",
              "      <th>CS1112</th>\n",
              "      <td>1</td>\n",
              "      <td>0</td>\n",
              "      <td>0</td>\n",
              "      <td>1</td>\n",
              "      <td>0</td>\n",
              "      <td>0</td>\n",
              "      <td>1</td>\n",
              "      <td>0</td>\n",
              "      <td>0</td>\n",
              "      <td>1</td>\n",
              "      <td>3</td>\n",
              "      <td>0</td>\n",
              "      <td>1</td>\n",
              "      <td>0</td>\n",
              "      <td>1</td>\n",
              "      <td>1</td>\n",
              "      <td>0</td>\n",
              "      <td>0</td>\n",
              "      <td>0</td>\n",
              "      <td>0</td>\n",
              "      <td>1</td>\n",
              "      <td>0</td>\n",
              "      <td>0</td>\n",
              "      <td>0</td>\n",
              "      <td>0</td>\n",
              "      <td>1</td>\n",
              "      <td>1</td>\n",
              "      <td>1</td>\n",
              "      <td>0</td>\n",
              "      <td>0</td>\n",
              "      <td>0</td>\n",
              "      <td>0</td>\n",
              "      <td>0</td>\n",
              "      <td>0</td>\n",
              "      <td>1</td>\n",
              "    </tr>\n",
              "    <tr>\n",
              "      <th>CS1113</th>\n",
              "      <td>1</td>\n",
              "      <td>1</td>\n",
              "      <td>0</td>\n",
              "      <td>1</td>\n",
              "      <td>0</td>\n",
              "      <td>0</td>\n",
              "      <td>0</td>\n",
              "      <td>2</td>\n",
              "      <td>1</td>\n",
              "      <td>0</td>\n",
              "      <td>0</td>\n",
              "      <td>0</td>\n",
              "      <td>1</td>\n",
              "      <td>1</td>\n",
              "      <td>0</td>\n",
              "      <td>1</td>\n",
              "      <td>1</td>\n",
              "      <td>0</td>\n",
              "      <td>0</td>\n",
              "      <td>2</td>\n",
              "      <td>1</td>\n",
              "      <td>0</td>\n",
              "      <td>0</td>\n",
              "      <td>1</td>\n",
              "      <td>0</td>\n",
              "      <td>0</td>\n",
              "      <td>3</td>\n",
              "      <td>0</td>\n",
              "      <td>0</td>\n",
              "      <td>2</td>\n",
              "      <td>0</td>\n",
              "      <td>0</td>\n",
              "      <td>0</td>\n",
              "      <td>0</td>\n",
              "      <td>1</td>\n",
              "    </tr>\n",
              "    <tr>\n",
              "      <th>CS1114</th>\n",
              "      <td>0</td>\n",
              "      <td>1</td>\n",
              "      <td>0</td>\n",
              "      <td>1</td>\n",
              "      <td>1</td>\n",
              "      <td>0</td>\n",
              "      <td>2</td>\n",
              "      <td>0</td>\n",
              "      <td>0</td>\n",
              "      <td>1</td>\n",
              "      <td>1</td>\n",
              "      <td>0</td>\n",
              "      <td>0</td>\n",
              "      <td>0</td>\n",
              "      <td>0</td>\n",
              "      <td>1</td>\n",
              "      <td>0</td>\n",
              "      <td>1</td>\n",
              "      <td>2</td>\n",
              "      <td>0</td>\n",
              "      <td>1</td>\n",
              "      <td>1</td>\n",
              "      <td>1</td>\n",
              "      <td>1</td>\n",
              "      <td>1</td>\n",
              "      <td>0</td>\n",
              "      <td>1</td>\n",
              "      <td>1</td>\n",
              "      <td>0</td>\n",
              "      <td>0</td>\n",
              "      <td>0</td>\n",
              "      <td>0</td>\n",
              "      <td>1</td>\n",
              "      <td>0</td>\n",
              "      <td>0</td>\n",
              "    </tr>\n",
              "    <tr>\n",
              "      <th>CS1115</th>\n",
              "      <td>0</td>\n",
              "      <td>0</td>\n",
              "      <td>1</td>\n",
              "      <td>1</td>\n",
              "      <td>0</td>\n",
              "      <td>0</td>\n",
              "      <td>1</td>\n",
              "      <td>1</td>\n",
              "      <td>1</td>\n",
              "      <td>0</td>\n",
              "      <td>2</td>\n",
              "      <td>1</td>\n",
              "      <td>1</td>\n",
              "      <td>1</td>\n",
              "      <td>0</td>\n",
              "      <td>1</td>\n",
              "      <td>2</td>\n",
              "      <td>0</td>\n",
              "      <td>2</td>\n",
              "      <td>0</td>\n",
              "      <td>2</td>\n",
              "      <td>0</td>\n",
              "      <td>0</td>\n",
              "      <td>0</td>\n",
              "      <td>0</td>\n",
              "      <td>2</td>\n",
              "      <td>0</td>\n",
              "      <td>2</td>\n",
              "      <td>0</td>\n",
              "      <td>0</td>\n",
              "      <td>0</td>\n",
              "      <td>0</td>\n",
              "      <td>1</td>\n",
              "      <td>0</td>\n",
              "      <td>0</td>\n",
              "    </tr>\n",
              "    <tr>\n",
              "      <th>CS1116</th>\n",
              "      <td>1</td>\n",
              "      <td>1</td>\n",
              "      <td>0</td>\n",
              "      <td>0</td>\n",
              "      <td>1</td>\n",
              "      <td>1</td>\n",
              "      <td>0</td>\n",
              "      <td>1</td>\n",
              "      <td>0</td>\n",
              "      <td>0</td>\n",
              "      <td>0</td>\n",
              "      <td>1</td>\n",
              "      <td>1</td>\n",
              "      <td>0</td>\n",
              "      <td>1</td>\n",
              "      <td>0</td>\n",
              "      <td>0</td>\n",
              "      <td>0</td>\n",
              "      <td>0</td>\n",
              "      <td>0</td>\n",
              "      <td>0</td>\n",
              "      <td>3</td>\n",
              "      <td>1</td>\n",
              "      <td>0</td>\n",
              "      <td>1</td>\n",
              "      <td>0</td>\n",
              "      <td>0</td>\n",
              "      <td>0</td>\n",
              "      <td>0</td>\n",
              "      <td>0</td>\n",
              "      <td>0</td>\n",
              "      <td>0</td>\n",
              "      <td>0</td>\n",
              "      <td>0</td>\n",
              "      <td>0</td>\n",
              "    </tr>\n",
              "  </tbody>\n",
              "</table>\n",
              "</div>"
            ],
            "text/plain": [
              "               cnt                         ...                                  \n",
              "YEAR          2011                         ...   2015                           \n",
              "day_name    Friday Monday Saturday Sunday  ... Sunday Thursday Tuesday Wednesday\n",
              "customer_id                                ...                                  \n",
              "CS1112           1      0        0      1  ...      0        0       0         1\n",
              "CS1113           1      1        0      1  ...      0        0       0         1\n",
              "CS1114           0      1        0      1  ...      0        1       0         0\n",
              "CS1115           0      0        1      1  ...      0        1       0         0\n",
              "CS1116           1      1        0      0  ...      0        0       0         0\n",
              "\n",
              "[5 rows x 35 columns]"
            ]
          },
          "metadata": {},
          "execution_count": 45
        }
      ]
    },
    {
      "cell_type": "code",
      "metadata": {
        "colab": {
          "base_uri": "https://localhost:8080/",
          "height": 255
        },
        "id": "DxhJBtIzjwVd",
        "outputId": "4d9ac9d3-8439-46e4-aa32-6616ea585aca"
      },
      "source": [
        "#extract the name of level 0, level 1 and level 2 and convert them to string. Named them level_0 and level_1.\n",
        "level_0 = annual_day_of_week_counts_pivot.columns.get_level_values(0).astype(str)\n",
        "level_1 = annual_day_of_week_counts_pivot.columns.get_level_values(1).astype(str)\n",
        "level_2 = annual_day_of_week_counts_pivot.columns.get_level_values(2).astype(str)\n",
        "#concatenate level 0, level 1 and level 2 to get the new column name\n",
        "annual_day_of_week_counts_pivot.columns = level_0 + '_' + level_1 + '_' + level_2\n",
        "annual_day_of_week_counts_pivot.head()"
      ],
      "execution_count": 46,
      "outputs": [
        {
          "output_type": "execute_result",
          "data": {
            "text/html": [
              "<div>\n",
              "<style scoped>\n",
              "    .dataframe tbody tr th:only-of-type {\n",
              "        vertical-align: middle;\n",
              "    }\n",
              "\n",
              "    .dataframe tbody tr th {\n",
              "        vertical-align: top;\n",
              "    }\n",
              "\n",
              "    .dataframe thead th {\n",
              "        text-align: right;\n",
              "    }\n",
              "</style>\n",
              "<table border=\"1\" class=\"dataframe\">\n",
              "  <thead>\n",
              "    <tr style=\"text-align: right;\">\n",
              "      <th></th>\n",
              "      <th>cnt_2011_Friday</th>\n",
              "      <th>cnt_2011_Monday</th>\n",
              "      <th>cnt_2011_Saturday</th>\n",
              "      <th>cnt_2011_Sunday</th>\n",
              "      <th>cnt_2011_Thursday</th>\n",
              "      <th>cnt_2011_Tuesday</th>\n",
              "      <th>cnt_2011_Wednesday</th>\n",
              "      <th>cnt_2012_Friday</th>\n",
              "      <th>cnt_2012_Monday</th>\n",
              "      <th>cnt_2012_Saturday</th>\n",
              "      <th>cnt_2012_Sunday</th>\n",
              "      <th>cnt_2012_Thursday</th>\n",
              "      <th>cnt_2012_Tuesday</th>\n",
              "      <th>cnt_2012_Wednesday</th>\n",
              "      <th>cnt_2013_Friday</th>\n",
              "      <th>cnt_2013_Monday</th>\n",
              "      <th>cnt_2013_Saturday</th>\n",
              "      <th>cnt_2013_Sunday</th>\n",
              "      <th>cnt_2013_Thursday</th>\n",
              "      <th>cnt_2013_Tuesday</th>\n",
              "      <th>cnt_2013_Wednesday</th>\n",
              "      <th>cnt_2014_Friday</th>\n",
              "      <th>cnt_2014_Monday</th>\n",
              "      <th>cnt_2014_Saturday</th>\n",
              "      <th>cnt_2014_Sunday</th>\n",
              "      <th>cnt_2014_Thursday</th>\n",
              "      <th>cnt_2014_Tuesday</th>\n",
              "      <th>cnt_2014_Wednesday</th>\n",
              "      <th>cnt_2015_Friday</th>\n",
              "      <th>cnt_2015_Monday</th>\n",
              "      <th>cnt_2015_Saturday</th>\n",
              "      <th>cnt_2015_Sunday</th>\n",
              "      <th>cnt_2015_Thursday</th>\n",
              "      <th>cnt_2015_Tuesday</th>\n",
              "      <th>cnt_2015_Wednesday</th>\n",
              "    </tr>\n",
              "    <tr>\n",
              "      <th>customer_id</th>\n",
              "      <th></th>\n",
              "      <th></th>\n",
              "      <th></th>\n",
              "      <th></th>\n",
              "      <th></th>\n",
              "      <th></th>\n",
              "      <th></th>\n",
              "      <th></th>\n",
              "      <th></th>\n",
              "      <th></th>\n",
              "      <th></th>\n",
              "      <th></th>\n",
              "      <th></th>\n",
              "      <th></th>\n",
              "      <th></th>\n",
              "      <th></th>\n",
              "      <th></th>\n",
              "      <th></th>\n",
              "      <th></th>\n",
              "      <th></th>\n",
              "      <th></th>\n",
              "      <th></th>\n",
              "      <th></th>\n",
              "      <th></th>\n",
              "      <th></th>\n",
              "      <th></th>\n",
              "      <th></th>\n",
              "      <th></th>\n",
              "      <th></th>\n",
              "      <th></th>\n",
              "      <th></th>\n",
              "      <th></th>\n",
              "      <th></th>\n",
              "      <th></th>\n",
              "      <th></th>\n",
              "    </tr>\n",
              "  </thead>\n",
              "  <tbody>\n",
              "    <tr>\n",
              "      <th>CS1112</th>\n",
              "      <td>1</td>\n",
              "      <td>0</td>\n",
              "      <td>0</td>\n",
              "      <td>1</td>\n",
              "      <td>0</td>\n",
              "      <td>0</td>\n",
              "      <td>1</td>\n",
              "      <td>0</td>\n",
              "      <td>0</td>\n",
              "      <td>1</td>\n",
              "      <td>3</td>\n",
              "      <td>0</td>\n",
              "      <td>1</td>\n",
              "      <td>0</td>\n",
              "      <td>1</td>\n",
              "      <td>1</td>\n",
              "      <td>0</td>\n",
              "      <td>0</td>\n",
              "      <td>0</td>\n",
              "      <td>0</td>\n",
              "      <td>1</td>\n",
              "      <td>0</td>\n",
              "      <td>0</td>\n",
              "      <td>0</td>\n",
              "      <td>0</td>\n",
              "      <td>1</td>\n",
              "      <td>1</td>\n",
              "      <td>1</td>\n",
              "      <td>0</td>\n",
              "      <td>0</td>\n",
              "      <td>0</td>\n",
              "      <td>0</td>\n",
              "      <td>0</td>\n",
              "      <td>0</td>\n",
              "      <td>1</td>\n",
              "    </tr>\n",
              "    <tr>\n",
              "      <th>CS1113</th>\n",
              "      <td>1</td>\n",
              "      <td>1</td>\n",
              "      <td>0</td>\n",
              "      <td>1</td>\n",
              "      <td>0</td>\n",
              "      <td>0</td>\n",
              "      <td>0</td>\n",
              "      <td>2</td>\n",
              "      <td>1</td>\n",
              "      <td>0</td>\n",
              "      <td>0</td>\n",
              "      <td>0</td>\n",
              "      <td>1</td>\n",
              "      <td>1</td>\n",
              "      <td>0</td>\n",
              "      <td>1</td>\n",
              "      <td>1</td>\n",
              "      <td>0</td>\n",
              "      <td>0</td>\n",
              "      <td>2</td>\n",
              "      <td>1</td>\n",
              "      <td>0</td>\n",
              "      <td>0</td>\n",
              "      <td>1</td>\n",
              "      <td>0</td>\n",
              "      <td>0</td>\n",
              "      <td>3</td>\n",
              "      <td>0</td>\n",
              "      <td>0</td>\n",
              "      <td>2</td>\n",
              "      <td>0</td>\n",
              "      <td>0</td>\n",
              "      <td>0</td>\n",
              "      <td>0</td>\n",
              "      <td>1</td>\n",
              "    </tr>\n",
              "    <tr>\n",
              "      <th>CS1114</th>\n",
              "      <td>0</td>\n",
              "      <td>1</td>\n",
              "      <td>0</td>\n",
              "      <td>1</td>\n",
              "      <td>1</td>\n",
              "      <td>0</td>\n",
              "      <td>2</td>\n",
              "      <td>0</td>\n",
              "      <td>0</td>\n",
              "      <td>1</td>\n",
              "      <td>1</td>\n",
              "      <td>0</td>\n",
              "      <td>0</td>\n",
              "      <td>0</td>\n",
              "      <td>0</td>\n",
              "      <td>1</td>\n",
              "      <td>0</td>\n",
              "      <td>1</td>\n",
              "      <td>2</td>\n",
              "      <td>0</td>\n",
              "      <td>1</td>\n",
              "      <td>1</td>\n",
              "      <td>1</td>\n",
              "      <td>1</td>\n",
              "      <td>1</td>\n",
              "      <td>0</td>\n",
              "      <td>1</td>\n",
              "      <td>1</td>\n",
              "      <td>0</td>\n",
              "      <td>0</td>\n",
              "      <td>0</td>\n",
              "      <td>0</td>\n",
              "      <td>1</td>\n",
              "      <td>0</td>\n",
              "      <td>0</td>\n",
              "    </tr>\n",
              "    <tr>\n",
              "      <th>CS1115</th>\n",
              "      <td>0</td>\n",
              "      <td>0</td>\n",
              "      <td>1</td>\n",
              "      <td>1</td>\n",
              "      <td>0</td>\n",
              "      <td>0</td>\n",
              "      <td>1</td>\n",
              "      <td>1</td>\n",
              "      <td>1</td>\n",
              "      <td>0</td>\n",
              "      <td>2</td>\n",
              "      <td>1</td>\n",
              "      <td>1</td>\n",
              "      <td>1</td>\n",
              "      <td>0</td>\n",
              "      <td>1</td>\n",
              "      <td>2</td>\n",
              "      <td>0</td>\n",
              "      <td>2</td>\n",
              "      <td>0</td>\n",
              "      <td>2</td>\n",
              "      <td>0</td>\n",
              "      <td>0</td>\n",
              "      <td>0</td>\n",
              "      <td>0</td>\n",
              "      <td>2</td>\n",
              "      <td>0</td>\n",
              "      <td>2</td>\n",
              "      <td>0</td>\n",
              "      <td>0</td>\n",
              "      <td>0</td>\n",
              "      <td>0</td>\n",
              "      <td>1</td>\n",
              "      <td>0</td>\n",
              "      <td>0</td>\n",
              "    </tr>\n",
              "    <tr>\n",
              "      <th>CS1116</th>\n",
              "      <td>1</td>\n",
              "      <td>1</td>\n",
              "      <td>0</td>\n",
              "      <td>0</td>\n",
              "      <td>1</td>\n",
              "      <td>1</td>\n",
              "      <td>0</td>\n",
              "      <td>1</td>\n",
              "      <td>0</td>\n",
              "      <td>0</td>\n",
              "      <td>0</td>\n",
              "      <td>1</td>\n",
              "      <td>1</td>\n",
              "      <td>0</td>\n",
              "      <td>1</td>\n",
              "      <td>0</td>\n",
              "      <td>0</td>\n",
              "      <td>0</td>\n",
              "      <td>0</td>\n",
              "      <td>0</td>\n",
              "      <td>0</td>\n",
              "      <td>3</td>\n",
              "      <td>1</td>\n",
              "      <td>0</td>\n",
              "      <td>1</td>\n",
              "      <td>0</td>\n",
              "      <td>0</td>\n",
              "      <td>0</td>\n",
              "      <td>0</td>\n",
              "      <td>0</td>\n",
              "      <td>0</td>\n",
              "      <td>0</td>\n",
              "      <td>0</td>\n",
              "      <td>0</td>\n",
              "      <td>0</td>\n",
              "    </tr>\n",
              "  </tbody>\n",
              "</table>\n",
              "</div>"
            ],
            "text/plain": [
              "             cnt_2011_Friday  ...  cnt_2015_Wednesday\n",
              "customer_id                   ...                    \n",
              "CS1112                     1  ...                   1\n",
              "CS1113                     1  ...                   1\n",
              "CS1114                     0  ...                   0\n",
              "CS1115                     0  ...                   0\n",
              "CS1116                     1  ...                   0\n",
              "\n",
              "[5 rows x 35 columns]"
            ]
          },
          "metadata": {},
          "execution_count": 46
        }
      ]
    },
    {
      "cell_type": "markdown",
      "metadata": {
        "id": "RClhxcV4lkoy"
      },
      "source": [
        "> 4. Confirm that your output has the same number of rows as the final output in section 1.2 and save it as **annual_day_of_week_counts_pivot.xlsx.** How many features/columns did you create in this section?\n",
        "\n"
      ]
    },
    {
      "cell_type": "code",
      "metadata": {
        "colab": {
          "base_uri": "https://localhost:8080/"
        },
        "id": "fUrZHCNioDZW",
        "outputId": "2aa65622-50cf-49cc-cb42-36d6ee8e87ef"
      },
      "source": [
        "print(f'annual_day_of_week_counts_pivot has {annual_day_of_week_counts_pivot.shape[0]} rows.')\n",
        "print(\"annual_day_of_week_counts_pivot has same number of rows as final output in section 1.2:\",\n",
        "       annual_day_of_week_counts_pivot.shape[0] == len(clnt_annual_aggregations_pivot))\n",
        "print(f\"number of features/columns create: {annual_day_of_week_counts_pivot.shape[1]}\")\n",
        "annual_day_of_week_counts_pivot.to_excel('annual_day_of_week_counts_pivot.xlsx')"
      ],
      "execution_count": 50,
      "outputs": [
        {
          "output_type": "stream",
          "name": "stdout",
          "text": [
            "annual_day_of_week_counts_pivot has 6889 rows.\n",
            "annual_day_of_week_counts_pivot has same number of rows as final output in section 1.2: True\n",
            "number of features/columns create: 35\n"
          ]
        }
      ]
    }
  ]
}