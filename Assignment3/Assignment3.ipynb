{
  "nbformat": 4,
  "nbformat_minor": 0,
  "metadata": {
    "colab": {
      "name": "Assignment3.ipynb",
      "provenance": []
    },
    "kernelspec": {
      "name": "python3",
      "display_name": "Python 3"
    },
    "language_info": {
      "name": "python"
    }
  },
  "cells": [
    {
      "cell_type": "markdown",
      "metadata": {
        "id": "l2upp1zseAVC"
      },
      "source": [
        "#1 Feature engineering\n",
        ">Here, you are going to create features from a very simple dataset: retail transaction data from Kaggle. The dataset provides the customer ID, date of the transaction and transaction amount as shown in the table below. Although this may look like a very simple dataset, you will build a wide range of features. The features will then be used as inputs in several models in upcoming assignments, in which you will try to predict the client's response to a promotion campaign."
      ]
    },
    {
      "cell_type": "markdown",
      "metadata": {
        "id": "FZmfbwQjeZwv"
      },
      "source": [
        "## 1.1 Import the data and create the anchor date columns\n",
        ">In order to create features, you need to create some anchor dates. The most typical for transaction data is the end of the month and the year.\n",
        "1. Import the dataset as txn and identify the number of rows."
      ]
    },
    {
      "cell_type": "code",
      "metadata": {
        "id": "h1W7IL9Gd-ob"
      },
      "source": [
        "import pandas as pd\n",
        "import matplotlib.pyplot as plt\n",
        "from itertools import product"
      ],
      "execution_count": 26,
      "outputs": []
    },
    {
      "cell_type": "code",
      "metadata": {
        "colab": {
          "base_uri": "https://localhost:8080/"
        },
        "id": "9JP74QpvfMQO",
        "outputId": "5fa684ce-b805-4376-f4df-7115ce1fd2b1"
      },
      "source": [
        "txn = pd.read_csv('Retail_Data_Transactions.csv')\n",
        "print(f'number of rows:',txn.shape[0])"
      ],
      "execution_count": 3,
      "outputs": [
        {
          "output_type": "stream",
          "name": "stdout",
          "text": [
            "number of rows: 125000\n"
          ]
        }
      ]
    },
    {
      "cell_type": "markdown",
      "metadata": {
        "id": "invR8itff-gv"
      },
      "source": [
        ">2. The date-format in column 'trans date' is not standard. Create a new column 'txn_date' from 'trans_date' with pd.to_datetime and drop the column 'trans_date'."
      ]
    },
    {
      "cell_type": "code",
      "metadata": {
        "colab": {
          "base_uri": "https://localhost:8080/",
          "height": 204
        },
        "id": "oj02j6-_gQEF",
        "outputId": "96405f5a-c8a2-47c9-e6df-9fd5b8f7ab4f"
      },
      "source": [
        "txn['txn_date'] = pd.to_datetime(txn['trans_date']) \n",
        "txn = txn.drop(['trans_date'],axis=1)\n",
        "txn.head()"
      ],
      "execution_count": 4,
      "outputs": [
        {
          "output_type": "execute_result",
          "data": {
            "text/html": [
              "<div>\n",
              "<style scoped>\n",
              "    .dataframe tbody tr th:only-of-type {\n",
              "        vertical-align: middle;\n",
              "    }\n",
              "\n",
              "    .dataframe tbody tr th {\n",
              "        vertical-align: top;\n",
              "    }\n",
              "\n",
              "    .dataframe thead th {\n",
              "        text-align: right;\n",
              "    }\n",
              "</style>\n",
              "<table border=\"1\" class=\"dataframe\">\n",
              "  <thead>\n",
              "    <tr style=\"text-align: right;\">\n",
              "      <th></th>\n",
              "      <th>customer_id</th>\n",
              "      <th>tran_amount</th>\n",
              "      <th>txn_date</th>\n",
              "    </tr>\n",
              "  </thead>\n",
              "  <tbody>\n",
              "    <tr>\n",
              "      <th>0</th>\n",
              "      <td>CS5295</td>\n",
              "      <td>35</td>\n",
              "      <td>2013-02-11</td>\n",
              "    </tr>\n",
              "    <tr>\n",
              "      <th>1</th>\n",
              "      <td>CS4768</td>\n",
              "      <td>39</td>\n",
              "      <td>2015-03-15</td>\n",
              "    </tr>\n",
              "    <tr>\n",
              "      <th>2</th>\n",
              "      <td>CS2122</td>\n",
              "      <td>52</td>\n",
              "      <td>2013-02-26</td>\n",
              "    </tr>\n",
              "    <tr>\n",
              "      <th>3</th>\n",
              "      <td>CS1217</td>\n",
              "      <td>99</td>\n",
              "      <td>2011-11-16</td>\n",
              "    </tr>\n",
              "    <tr>\n",
              "      <th>4</th>\n",
              "      <td>CS1850</td>\n",
              "      <td>78</td>\n",
              "      <td>2013-11-20</td>\n",
              "    </tr>\n",
              "  </tbody>\n",
              "</table>\n",
              "</div>"
            ],
            "text/plain": [
              "  customer_id  tran_amount   txn_date\n",
              "0      CS5295           35 2013-02-11\n",
              "1      CS4768           39 2015-03-15\n",
              "2      CS2122           52 2013-02-26\n",
              "3      CS1217           99 2011-11-16\n",
              "4      CS1850           78 2013-11-20"
            ]
          },
          "metadata": {},
          "execution_count": 4
        }
      ]
    },
    {
      "cell_type": "markdown",
      "metadata": {
        "id": "YKqj-hVmjEcy"
      },
      "source": [
        ">3. Identify the min() and max() of column 'txn_date'."
      ]
    },
    {
      "cell_type": "code",
      "metadata": {
        "colab": {
          "base_uri": "https://localhost:8080/"
        },
        "id": "PGWC1dQpjJak",
        "outputId": "bbf368e0-2a15-40ce-83fb-8b4d468a06cd"
      },
      "source": [
        "print(f'min date:',min(txn['txn_date']))\n",
        "print(f'max date:',max(txn['txn_date']))"
      ],
      "execution_count": 5,
      "outputs": [
        {
          "output_type": "stream",
          "name": "stdout",
          "text": [
            "min date: 2011-05-16 00:00:00\n",
            "max date: 2015-03-16 00:00:00\n"
          ]
        }
      ]
    },
    {
      "cell_type": "markdown",
      "metadata": {
        "id": "7BtoYQFEjjfX"
      },
      "source": [
        ">4. Create the column 'ME_DT': the last day of the month in the 'trans_date' column. DateOffset objects is a simple way to do this in pandas."
      ]
    },
    {
      "cell_type": "code",
      "metadata": {
        "colab": {
          "base_uri": "https://localhost:8080/",
          "height": 204
        },
        "id": "Pb_qFeqWjwl5",
        "outputId": "8a5cb432-9096-4789-cb8f-8db1e0980b75"
      },
      "source": [
        "txn['ME_DT'] = txn['txn_date'] + pd.offsets.MonthEnd(n=0)\n",
        "txn.head()"
      ],
      "execution_count": 6,
      "outputs": [
        {
          "output_type": "execute_result",
          "data": {
            "text/html": [
              "<div>\n",
              "<style scoped>\n",
              "    .dataframe tbody tr th:only-of-type {\n",
              "        vertical-align: middle;\n",
              "    }\n",
              "\n",
              "    .dataframe tbody tr th {\n",
              "        vertical-align: top;\n",
              "    }\n",
              "\n",
              "    .dataframe thead th {\n",
              "        text-align: right;\n",
              "    }\n",
              "</style>\n",
              "<table border=\"1\" class=\"dataframe\">\n",
              "  <thead>\n",
              "    <tr style=\"text-align: right;\">\n",
              "      <th></th>\n",
              "      <th>customer_id</th>\n",
              "      <th>tran_amount</th>\n",
              "      <th>txn_date</th>\n",
              "      <th>ME_DT</th>\n",
              "    </tr>\n",
              "  </thead>\n",
              "  <tbody>\n",
              "    <tr>\n",
              "      <th>0</th>\n",
              "      <td>CS5295</td>\n",
              "      <td>35</td>\n",
              "      <td>2013-02-11</td>\n",
              "      <td>2013-02-28</td>\n",
              "    </tr>\n",
              "    <tr>\n",
              "      <th>1</th>\n",
              "      <td>CS4768</td>\n",
              "      <td>39</td>\n",
              "      <td>2015-03-15</td>\n",
              "      <td>2015-03-31</td>\n",
              "    </tr>\n",
              "    <tr>\n",
              "      <th>2</th>\n",
              "      <td>CS2122</td>\n",
              "      <td>52</td>\n",
              "      <td>2013-02-26</td>\n",
              "      <td>2013-02-28</td>\n",
              "    </tr>\n",
              "    <tr>\n",
              "      <th>3</th>\n",
              "      <td>CS1217</td>\n",
              "      <td>99</td>\n",
              "      <td>2011-11-16</td>\n",
              "      <td>2011-11-30</td>\n",
              "    </tr>\n",
              "    <tr>\n",
              "      <th>4</th>\n",
              "      <td>CS1850</td>\n",
              "      <td>78</td>\n",
              "      <td>2013-11-20</td>\n",
              "      <td>2013-11-30</td>\n",
              "    </tr>\n",
              "  </tbody>\n",
              "</table>\n",
              "</div>"
            ],
            "text/plain": [
              "  customer_id  tran_amount   txn_date      ME_DT\n",
              "0      CS5295           35 2013-02-11 2013-02-28\n",
              "1      CS4768           39 2015-03-15 2015-03-31\n",
              "2      CS2122           52 2013-02-26 2013-02-28\n",
              "3      CS1217           99 2011-11-16 2011-11-30\n",
              "4      CS1850           78 2013-11-20 2013-11-30"
            ]
          },
          "metadata": {},
          "execution_count": 6
        }
      ]
    },
    {
      "cell_type": "markdown",
      "metadata": {
        "id": "SOEBRo4Gmhm6"
      },
      "source": [
        ">5. Create the column 'YEAR': the year in the 'trans_date' column. DatetimeIndex with\n",
        "attribute .year will help you do so."
      ]
    },
    {
      "cell_type": "code",
      "metadata": {
        "colab": {
          "base_uri": "https://localhost:8080/",
          "height": 204
        },
        "id": "bLkdu_22md71",
        "outputId": "d3678290-02cf-41b4-a60b-65f81f759446"
      },
      "source": [
        "txn['YEAR'] = pd.DatetimeIndex(txn['txn_date']).year\n",
        "txn.iloc[55:60]"
      ],
      "execution_count": 7,
      "outputs": [
        {
          "output_type": "execute_result",
          "data": {
            "text/html": [
              "<div>\n",
              "<style scoped>\n",
              "    .dataframe tbody tr th:only-of-type {\n",
              "        vertical-align: middle;\n",
              "    }\n",
              "\n",
              "    .dataframe tbody tr th {\n",
              "        vertical-align: top;\n",
              "    }\n",
              "\n",
              "    .dataframe thead th {\n",
              "        text-align: right;\n",
              "    }\n",
              "</style>\n",
              "<table border=\"1\" class=\"dataframe\">\n",
              "  <thead>\n",
              "    <tr style=\"text-align: right;\">\n",
              "      <th></th>\n",
              "      <th>customer_id</th>\n",
              "      <th>tran_amount</th>\n",
              "      <th>txn_date</th>\n",
              "      <th>ME_DT</th>\n",
              "      <th>YEAR</th>\n",
              "    </tr>\n",
              "  </thead>\n",
              "  <tbody>\n",
              "    <tr>\n",
              "      <th>55</th>\n",
              "      <td>CS2662</td>\n",
              "      <td>88</td>\n",
              "      <td>2014-08-31</td>\n",
              "      <td>2014-08-31</td>\n",
              "      <td>2014</td>\n",
              "    </tr>\n",
              "    <tr>\n",
              "      <th>56</th>\n",
              "      <td>CS2209</td>\n",
              "      <td>35</td>\n",
              "      <td>2012-03-12</td>\n",
              "      <td>2012-03-31</td>\n",
              "      <td>2012</td>\n",
              "    </tr>\n",
              "    <tr>\n",
              "      <th>57</th>\n",
              "      <td>CS4530</td>\n",
              "      <td>40</td>\n",
              "      <td>2011-06-05</td>\n",
              "      <td>2011-06-30</td>\n",
              "      <td>2011</td>\n",
              "    </tr>\n",
              "    <tr>\n",
              "      <th>58</th>\n",
              "      <td>CS2848</td>\n",
              "      <td>53</td>\n",
              "      <td>2013-02-04</td>\n",
              "      <td>2013-02-28</td>\n",
              "      <td>2013</td>\n",
              "    </tr>\n",
              "    <tr>\n",
              "      <th>59</th>\n",
              "      <td>CS2596</td>\n",
              "      <td>55</td>\n",
              "      <td>2011-09-19</td>\n",
              "      <td>2011-09-30</td>\n",
              "      <td>2011</td>\n",
              "    </tr>\n",
              "  </tbody>\n",
              "</table>\n",
              "</div>"
            ],
            "text/plain": [
              "   customer_id  tran_amount   txn_date      ME_DT  YEAR\n",
              "55      CS2662           88 2014-08-31 2014-08-31  2014\n",
              "56      CS2209           35 2012-03-12 2012-03-31  2012\n",
              "57      CS4530           40 2011-06-05 2011-06-30  2011\n",
              "58      CS2848           53 2013-02-04 2013-02-28  2013\n",
              "59      CS2596           55 2011-09-19 2011-09-30  2011"
            ]
          },
          "metadata": {},
          "execution_count": 7
        }
      ]
    },
    {
      "cell_type": "markdown",
      "metadata": {
        "id": "Cg1KWE1Doaog"
      },
      "source": [
        "##1.2 Create features that capture annual spending\n",
        ">Here the approach is to capture the client's annual spending. The rationale behind this approach is that the clients spend is not very frequent to capture in a monthly aggregation.\n",
        "1. Using groupby and NamedAgg create **clnt_annual_aggregations**, the annual aggregations dataframe: with sum, mean, std, var, sem, max, min, count as the aggregation functions. A snapshot of the output table is shown below. Notice that the output is a typical MultiIndex pandas dataframe."
      ]
    },
    {
      "cell_type": "code",
      "metadata": {
        "colab": {
          "base_uri": "https://localhost:8080/",
          "height": 255
        },
        "id": "1XK_U-wqpItB",
        "outputId": "9e83414c-996a-4df9-cc30-bce8a8c048f2"
      },
      "source": [
        "clnt_annual_aggregations = txn.groupby([\"customer_id\",'YEAR']).agg(\n",
        "    ann_txn_amt_sum = pd.NamedAgg('tran_amount','sum'),\n",
        "    ann_txn_amt_ave = pd.NamedAgg('tran_amount','mean'),\n",
        "    ann_txn_amt_std = pd.NamedAgg('tran_amount','std'),\n",
        "    ann_txn_amt_var = pd.NamedAgg('tran_amount','var'),\n",
        "    ann_txn_amt_sem = pd.NamedAgg('tran_amount','sem'),\n",
        "    ann_txn_amt_max = pd.NamedAgg('tran_amount','max'),\n",
        "    ann_txn_amt_min = pd.NamedAgg('tran_amount','min'),\n",
        "    ann_txn_amt_cnt = pd.NamedAgg('tran_amount','count')    \n",
        ")\n",
        "clnt_annual_aggregations.head()"
      ],
      "execution_count": 8,
      "outputs": [
        {
          "output_type": "execute_result",
          "data": {
            "text/html": [
              "<div>\n",
              "<style scoped>\n",
              "    .dataframe tbody tr th:only-of-type {\n",
              "        vertical-align: middle;\n",
              "    }\n",
              "\n",
              "    .dataframe tbody tr th {\n",
              "        vertical-align: top;\n",
              "    }\n",
              "\n",
              "    .dataframe thead th {\n",
              "        text-align: right;\n",
              "    }\n",
              "</style>\n",
              "<table border=\"1\" class=\"dataframe\">\n",
              "  <thead>\n",
              "    <tr style=\"text-align: right;\">\n",
              "      <th></th>\n",
              "      <th></th>\n",
              "      <th>ann_txn_amt_sum</th>\n",
              "      <th>ann_txn_amt_ave</th>\n",
              "      <th>ann_txn_amt_std</th>\n",
              "      <th>ann_txn_amt_var</th>\n",
              "      <th>ann_txn_amt_sem</th>\n",
              "      <th>ann_txn_amt_max</th>\n",
              "      <th>ann_txn_amt_min</th>\n",
              "      <th>ann_txn_amt_cnt</th>\n",
              "    </tr>\n",
              "    <tr>\n",
              "      <th>customer_id</th>\n",
              "      <th>YEAR</th>\n",
              "      <th></th>\n",
              "      <th></th>\n",
              "      <th></th>\n",
              "      <th></th>\n",
              "      <th></th>\n",
              "      <th></th>\n",
              "      <th></th>\n",
              "      <th></th>\n",
              "    </tr>\n",
              "  </thead>\n",
              "  <tbody>\n",
              "    <tr>\n",
              "      <th rowspan=\"5\" valign=\"top\">CS1112</th>\n",
              "      <th>2011</th>\n",
              "      <td>212</td>\n",
              "      <td>70.666667</td>\n",
              "      <td>22.030282</td>\n",
              "      <td>485.333333</td>\n",
              "      <td>12.719189</td>\n",
              "      <td>96</td>\n",
              "      <td>56</td>\n",
              "      <td>3</td>\n",
              "    </tr>\n",
              "    <tr>\n",
              "      <th>2012</th>\n",
              "      <td>337</td>\n",
              "      <td>67.400000</td>\n",
              "      <td>12.720063</td>\n",
              "      <td>161.800000</td>\n",
              "      <td>5.688585</td>\n",
              "      <td>81</td>\n",
              "      <td>52</td>\n",
              "      <td>5</td>\n",
              "    </tr>\n",
              "    <tr>\n",
              "      <th>2013</th>\n",
              "      <td>212</td>\n",
              "      <td>70.666667</td>\n",
              "      <td>34.501208</td>\n",
              "      <td>1190.333333</td>\n",
              "      <td>19.919282</td>\n",
              "      <td>105</td>\n",
              "      <td>36</td>\n",
              "      <td>3</td>\n",
              "    </tr>\n",
              "    <tr>\n",
              "      <th>2014</th>\n",
              "      <td>212</td>\n",
              "      <td>70.666667</td>\n",
              "      <td>16.862186</td>\n",
              "      <td>284.333333</td>\n",
              "      <td>9.735388</td>\n",
              "      <td>90</td>\n",
              "      <td>59</td>\n",
              "      <td>3</td>\n",
              "    </tr>\n",
              "    <tr>\n",
              "      <th>2015</th>\n",
              "      <td>39</td>\n",
              "      <td>39.000000</td>\n",
              "      <td>NaN</td>\n",
              "      <td>NaN</td>\n",
              "      <td>NaN</td>\n",
              "      <td>39</td>\n",
              "      <td>39</td>\n",
              "      <td>1</td>\n",
              "    </tr>\n",
              "  </tbody>\n",
              "</table>\n",
              "</div>"
            ],
            "text/plain": [
              "                  ann_txn_amt_sum  ...  ann_txn_amt_cnt\n",
              "customer_id YEAR                   ...                 \n",
              "CS1112      2011              212  ...                3\n",
              "            2012              337  ...                5\n",
              "            2013              212  ...                3\n",
              "            2014              212  ...                3\n",
              "            2015               39  ...                1\n",
              "\n",
              "[5 rows x 8 columns]"
            ]
          },
          "metadata": {},
          "execution_count": 8
        }
      ]
    },
    {
      "cell_type": "markdown",
      "metadata": {
        "id": "4_HsNyFDqicW"
      },
      "source": [
        ">2. Plot the histogram of the sum and count."
      ]
    },
    {
      "cell_type": "code",
      "metadata": {
        "colab": {
          "base_uri": "https://localhost:8080/",
          "height": 545
        },
        "id": "qSeYVG-MqheX",
        "outputId": "bf95a606-d9ac-44ca-808e-463f1fd4329c"
      },
      "source": [
        "#plot sum\n",
        "plt.hist(clnt_annual_aggregations['ann_txn_amt_sum'])\n",
        "plt.title(\"Histogram of Sum\")\n",
        "plt.show()\n",
        "\n",
        "#plot count\n",
        "plt.hist(clnt_annual_aggregations['ann_txn_amt_cnt'])\n",
        "plt.title(\"Histogram of Count\")\n",
        "plt.show()"
      ],
      "execution_count": 29,
      "outputs": [
        {
          "output_type": "display_data",
          "data": {
            "image/png": "[encoded data removed]",
            "text/plain": [
              "<Figure size 432x288 with 1 Axes>"
            ]
          },
          "metadata": {
            "needs_background": "light"
          }
        },
        {
          "output_type": "display_data",
          "data": {
            "image/png": "[encoded data removed]",
            "text/plain": [
              "<Figure size 432x288 with 1 Axes>"
            ]
          },
          "metadata": {
            "needs_background": "light"
          }
        }
      ]
    },
    {
      "cell_type": "markdown",
      "metadata": {
        "id": "mvyA5dOxsE2K"
      },
      "source": [
        ">3. Reset the index and reshape the table with the pivot table function to create the **clnt_annual_aggregations_pivot** table shown below with 40 columns (why 40?).\n",
        "\n",
        "Beacuse there are 8 aggregated features. For each feature, there are 5 years data. So there are 8 * 5 = 40 columes.\n",
        "\n",
        ">You should expect columns with NaN values. Impute the NaN entries when you perform the pivot table function and explain your choice of values.\n",
        "\n",
        "I fill NANs with 0s. Because if the data is missing indicates that the customer didn't have any transactions."
      ]
    },
    {
      "cell_type": "code",
      "metadata": {
        "colab": {
          "base_uri": "https://localhost:8080/",
          "height": 286
        },
        "id": "QpVQKuAoKm57",
        "outputId": "0a3e57f8-86d3-4600-c9d5-d3b8757b407b"
      },
      "source": [
        "clnt_annual_aggregations_pivot = clnt_annual_aggregations.pivot_table(columns='YEAR',index='customer_id').fillna(0)\n",
        "clnt_annual_aggregations_pivot.head()"
      ],
      "execution_count": 9,
      "outputs": [
        {
          "output_type": "execute_result",
          "data": {
            "text/html": [
              "<div>\n",
              "<style scoped>\n",
              "    .dataframe tbody tr th:only-of-type {\n",
              "        vertical-align: middle;\n",
              "    }\n",
              "\n",
              "    .dataframe tbody tr th {\n",
              "        vertical-align: top;\n",
              "    }\n",
              "\n",
              "    .dataframe thead tr th {\n",
              "        text-align: left;\n",
              "    }\n",
              "\n",
              "    .dataframe thead tr:last-of-type th {\n",
              "        text-align: right;\n",
              "    }\n",
              "</style>\n",
              "<table border=\"1\" class=\"dataframe\">\n",
              "  <thead>\n",
              "    <tr>\n",
              "      <th></th>\n",
              "      <th colspan=\"5\" halign=\"left\">ann_txn_amt_ave</th>\n",
              "      <th colspan=\"5\" halign=\"left\">ann_txn_amt_cnt</th>\n",
              "      <th colspan=\"5\" halign=\"left\">ann_txn_amt_max</th>\n",
              "      <th colspan=\"5\" halign=\"left\">ann_txn_amt_min</th>\n",
              "      <th colspan=\"5\" halign=\"left\">ann_txn_amt_sem</th>\n",
              "      <th colspan=\"5\" halign=\"left\">ann_txn_amt_std</th>\n",
              "      <th colspan=\"5\" halign=\"left\">ann_txn_amt_sum</th>\n",
              "      <th colspan=\"5\" halign=\"left\">ann_txn_amt_var</th>\n",
              "    </tr>\n",
              "    <tr>\n",
              "      <th>YEAR</th>\n",
              "      <th>2011</th>\n",
              "      <th>2012</th>\n",
              "      <th>2013</th>\n",
              "      <th>2014</th>\n",
              "      <th>2015</th>\n",
              "      <th>2011</th>\n",
              "      <th>2012</th>\n",
              "      <th>2013</th>\n",
              "      <th>2014</th>\n",
              "      <th>2015</th>\n",
              "      <th>2011</th>\n",
              "      <th>2012</th>\n",
              "      <th>2013</th>\n",
              "      <th>2014</th>\n",
              "      <th>2015</th>\n",
              "      <th>2011</th>\n",
              "      <th>2012</th>\n",
              "      <th>2013</th>\n",
              "      <th>2014</th>\n",
              "      <th>2015</th>\n",
              "      <th>2011</th>\n",
              "      <th>2012</th>\n",
              "      <th>2013</th>\n",
              "      <th>2014</th>\n",
              "      <th>2015</th>\n",
              "      <th>2011</th>\n",
              "      <th>2012</th>\n",
              "      <th>2013</th>\n",
              "      <th>2014</th>\n",
              "      <th>2015</th>\n",
              "      <th>2011</th>\n",
              "      <th>2012</th>\n",
              "      <th>2013</th>\n",
              "      <th>2014</th>\n",
              "      <th>2015</th>\n",
              "      <th>2011</th>\n",
              "      <th>2012</th>\n",
              "      <th>2013</th>\n",
              "      <th>2014</th>\n",
              "      <th>2015</th>\n",
              "    </tr>\n",
              "    <tr>\n",
              "      <th>customer_id</th>\n",
              "      <th></th>\n",
              "      <th></th>\n",
              "      <th></th>\n",
              "      <th></th>\n",
              "      <th></th>\n",
              "      <th></th>\n",
              "      <th></th>\n",
              "      <th></th>\n",
              "      <th></th>\n",
              "      <th></th>\n",
              "      <th></th>\n",
              "      <th></th>\n",
              "      <th></th>\n",
              "      <th></th>\n",
              "      <th></th>\n",
              "      <th></th>\n",
              "      <th></th>\n",
              "      <th></th>\n",
              "      <th></th>\n",
              "      <th></th>\n",
              "      <th></th>\n",
              "      <th></th>\n",
              "      <th></th>\n",
              "      <th></th>\n",
              "      <th></th>\n",
              "      <th></th>\n",
              "      <th></th>\n",
              "      <th></th>\n",
              "      <th></th>\n",
              "      <th></th>\n",
              "      <th></th>\n",
              "      <th></th>\n",
              "      <th></th>\n",
              "      <th></th>\n",
              "      <th></th>\n",
              "      <th></th>\n",
              "      <th></th>\n",
              "      <th></th>\n",
              "      <th></th>\n",
              "      <th></th>\n",
              "    </tr>\n",
              "  </thead>\n",
              "  <tbody>\n",
              "    <tr>\n",
              "      <th>CS1112</th>\n",
              "      <td>70.666667</td>\n",
              "      <td>67.400000</td>\n",
              "      <td>70.666667</td>\n",
              "      <td>70.666667</td>\n",
              "      <td>39.000000</td>\n",
              "      <td>3.0</td>\n",
              "      <td>5.0</td>\n",
              "      <td>3.0</td>\n",
              "      <td>3.0</td>\n",
              "      <td>1.0</td>\n",
              "      <td>96.0</td>\n",
              "      <td>81.0</td>\n",
              "      <td>105.0</td>\n",
              "      <td>90.0</td>\n",
              "      <td>39.0</td>\n",
              "      <td>56.0</td>\n",
              "      <td>52.0</td>\n",
              "      <td>36.0</td>\n",
              "      <td>59.0</td>\n",
              "      <td>39.0</td>\n",
              "      <td>12.719189</td>\n",
              "      <td>5.688585</td>\n",
              "      <td>19.919282</td>\n",
              "      <td>9.735388</td>\n",
              "      <td>0.000000</td>\n",
              "      <td>22.030282</td>\n",
              "      <td>12.720063</td>\n",
              "      <td>34.501208</td>\n",
              "      <td>16.862186</td>\n",
              "      <td>0.000000</td>\n",
              "      <td>212.0</td>\n",
              "      <td>337.0</td>\n",
              "      <td>212.0</td>\n",
              "      <td>212.0</td>\n",
              "      <td>39.0</td>\n",
              "      <td>485.333333</td>\n",
              "      <td>161.800000</td>\n",
              "      <td>1190.333333</td>\n",
              "      <td>284.333333</td>\n",
              "      <td>0.000000</td>\n",
              "    </tr>\n",
              "    <tr>\n",
              "      <th>CS1113</th>\n",
              "      <td>81.333333</td>\n",
              "      <td>74.800000</td>\n",
              "      <td>85.200000</td>\n",
              "      <td>56.500000</td>\n",
              "      <td>73.333333</td>\n",
              "      <td>3.0</td>\n",
              "      <td>5.0</td>\n",
              "      <td>5.0</td>\n",
              "      <td>4.0</td>\n",
              "      <td>3.0</td>\n",
              "      <td>94.0</td>\n",
              "      <td>95.0</td>\n",
              "      <td>97.0</td>\n",
              "      <td>97.0</td>\n",
              "      <td>98.0</td>\n",
              "      <td>57.0</td>\n",
              "      <td>51.0</td>\n",
              "      <td>65.0</td>\n",
              "      <td>36.0</td>\n",
              "      <td>44.0</td>\n",
              "      <td>12.170091</td>\n",
              "      <td>7.618399</td>\n",
              "      <td>5.851496</td>\n",
              "      <td>13.979151</td>\n",
              "      <td>15.762121</td>\n",
              "      <td>21.079216</td>\n",
              "      <td>17.035258</td>\n",
              "      <td>13.084342</td>\n",
              "      <td>27.958302</td>\n",
              "      <td>27.300794</td>\n",
              "      <td>244.0</td>\n",
              "      <td>374.0</td>\n",
              "      <td>426.0</td>\n",
              "      <td>226.0</td>\n",
              "      <td>220.0</td>\n",
              "      <td>444.333333</td>\n",
              "      <td>290.200000</td>\n",
              "      <td>171.200000</td>\n",
              "      <td>781.666667</td>\n",
              "      <td>745.333333</td>\n",
              "    </tr>\n",
              "    <tr>\n",
              "      <th>CS1114</th>\n",
              "      <td>85.200000</td>\n",
              "      <td>75.000000</td>\n",
              "      <td>70.400000</td>\n",
              "      <td>70.833333</td>\n",
              "      <td>79.000000</td>\n",
              "      <td>5.0</td>\n",
              "      <td>2.0</td>\n",
              "      <td>5.0</td>\n",
              "      <td>6.0</td>\n",
              "      <td>1.0</td>\n",
              "      <td>97.0</td>\n",
              "      <td>97.0</td>\n",
              "      <td>105.0</td>\n",
              "      <td>95.0</td>\n",
              "      <td>79.0</td>\n",
              "      <td>76.0</td>\n",
              "      <td>53.0</td>\n",
              "      <td>43.0</td>\n",
              "      <td>37.0</td>\n",
              "      <td>79.0</td>\n",
              "      <td>4.352011</td>\n",
              "      <td>22.000000</td>\n",
              "      <td>11.129241</td>\n",
              "      <td>11.001263</td>\n",
              "      <td>0.000000</td>\n",
              "      <td>9.731393</td>\n",
              "      <td>31.112698</td>\n",
              "      <td>24.885739</td>\n",
              "      <td>26.947480</td>\n",
              "      <td>0.000000</td>\n",
              "      <td>426.0</td>\n",
              "      <td>150.0</td>\n",
              "      <td>352.0</td>\n",
              "      <td>425.0</td>\n",
              "      <td>79.0</td>\n",
              "      <td>94.700000</td>\n",
              "      <td>968.000000</td>\n",
              "      <td>619.300000</td>\n",
              "      <td>726.166667</td>\n",
              "      <td>0.000000</td>\n",
              "    </tr>\n",
              "    <tr>\n",
              "      <th>CS1115</th>\n",
              "      <td>87.000000</td>\n",
              "      <td>67.571429</td>\n",
              "      <td>79.571429</td>\n",
              "      <td>78.250000</td>\n",
              "      <td>55.000000</td>\n",
              "      <td>3.0</td>\n",
              "      <td>7.0</td>\n",
              "      <td>7.0</td>\n",
              "      <td>4.0</td>\n",
              "      <td>1.0</td>\n",
              "      <td>102.0</td>\n",
              "      <td>104.0</td>\n",
              "      <td>94.0</td>\n",
              "      <td>98.0</td>\n",
              "      <td>55.0</td>\n",
              "      <td>72.0</td>\n",
              "      <td>41.0</td>\n",
              "      <td>66.0</td>\n",
              "      <td>50.0</td>\n",
              "      <td>55.0</td>\n",
              "      <td>8.660254</td>\n",
              "      <td>8.257341</td>\n",
              "      <td>3.981249</td>\n",
              "      <td>11.316470</td>\n",
              "      <td>0.000000</td>\n",
              "      <td>15.000000</td>\n",
              "      <td>21.846870</td>\n",
              "      <td>10.533394</td>\n",
              "      <td>22.632941</td>\n",
              "      <td>0.000000</td>\n",
              "      <td>261.0</td>\n",
              "      <td>473.0</td>\n",
              "      <td>557.0</td>\n",
              "      <td>313.0</td>\n",
              "      <td>55.0</td>\n",
              "      <td>225.000000</td>\n",
              "      <td>477.285714</td>\n",
              "      <td>110.952381</td>\n",
              "      <td>512.250000</td>\n",
              "      <td>0.000000</td>\n",
              "    </tr>\n",
              "    <tr>\n",
              "      <th>CS1116</th>\n",
              "      <td>58.750000</td>\n",
              "      <td>76.666667</td>\n",
              "      <td>59.000000</td>\n",
              "      <td>66.600000</td>\n",
              "      <td>0.000000</td>\n",
              "      <td>4.0</td>\n",
              "      <td>3.0</td>\n",
              "      <td>1.0</td>\n",
              "      <td>5.0</td>\n",
              "      <td>0.0</td>\n",
              "      <td>87.0</td>\n",
              "      <td>105.0</td>\n",
              "      <td>59.0</td>\n",
              "      <td>96.0</td>\n",
              "      <td>0.0</td>\n",
              "      <td>41.0</td>\n",
              "      <td>45.0</td>\n",
              "      <td>59.0</td>\n",
              "      <td>40.0</td>\n",
              "      <td>0.0</td>\n",
              "      <td>10.601690</td>\n",
              "      <td>17.400511</td>\n",
              "      <td>0.000000</td>\n",
              "      <td>11.285389</td>\n",
              "      <td>0.000000</td>\n",
              "      <td>21.203380</td>\n",
              "      <td>30.138569</td>\n",
              "      <td>0.000000</td>\n",
              "      <td>25.234896</td>\n",
              "      <td>0.000000</td>\n",
              "      <td>235.0</td>\n",
              "      <td>230.0</td>\n",
              "      <td>59.0</td>\n",
              "      <td>333.0</td>\n",
              "      <td>0.0</td>\n",
              "      <td>449.583333</td>\n",
              "      <td>908.333333</td>\n",
              "      <td>0.000000</td>\n",
              "      <td>636.800000</td>\n",
              "      <td>0.000000</td>\n",
              "    </tr>\n",
              "  </tbody>\n",
              "</table>\n",
              "</div>"
            ],
            "text/plain": [
              "            ann_txn_amt_ave             ... ann_txn_amt_var            \n",
              "YEAR                   2011       2012  ...            2014        2015\n",
              "customer_id                             ...                            \n",
              "CS1112            70.666667  67.400000  ...      284.333333    0.000000\n",
              "CS1113            81.333333  74.800000  ...      781.666667  745.333333\n",
              "CS1114            85.200000  75.000000  ...      726.166667    0.000000\n",
              "CS1115            87.000000  67.571429  ...      512.250000    0.000000\n",
              "CS1116            58.750000  76.666667  ...      636.800000    0.000000\n",
              "\n",
              "[5 rows x 40 columns]"
            ]
          },
          "metadata": {},
          "execution_count": 9
        }
      ]
    },
    {
      "cell_type": "markdown",
      "metadata": {
        "id": "I0WGa3pbTGVG"
      },
      "source": [
        ">4. The pivoted object you created is a MultiIndex object with hierarchical indexes. You can see the first level (i.e. 0) in the snapshot above with names 'ann_txn_amt_ave', 'ann_txn_amt_max' (and more as indicated by the ...) and the second level (i.e. 1)\n",
        "with names '2011', '2012', etc. You can confirm the multiple levels of the columns with the following two expressions.\n",
        "\n",
        ">What are your observations regarding the number of levels and the column names?\n",
        "\n",
        "There are two levels, the column name is (level0, level1)."
      ]
    },
    {
      "cell_type": "code",
      "metadata": {
        "colab": {
          "base_uri": "https://localhost:8080/"
        },
        "id": "AApvgam2T5Kg",
        "outputId": "ec182aef-88fe-40de-d06c-a67575dd9b29"
      },
      "source": [
        "print(clnt_annual_aggregations_pivot.columns.nlevels)\n",
        "print(clnt_annual_aggregations_pivot.columns)"
      ],
      "execution_count": 10,
      "outputs": [
        {
          "output_type": "stream",
          "name": "stdout",
          "text": [
            "2\n",
            "MultiIndex([('ann_txn_amt_ave', 2011),\n",
            "            ('ann_txn_amt_ave', 2012),\n",
            "            ('ann_txn_amt_ave', 2013),\n",
            "            ('ann_txn_amt_ave', 2014),\n",
            "            ('ann_txn_amt_ave', 2015),\n",
            "            ('ann_txn_amt_cnt', 2011),\n",
            "            ('ann_txn_amt_cnt', 2012),\n",
            "            ('ann_txn_amt_cnt', 2013),\n",
            "            ('ann_txn_amt_cnt', 2014),\n",
            "            ('ann_txn_amt_cnt', 2015),\n",
            "            ('ann_txn_amt_max', 2011),\n",
            "            ('ann_txn_amt_max', 2012),\n",
            "            ('ann_txn_amt_max', 2013),\n",
            "            ('ann_txn_amt_max', 2014),\n",
            "            ('ann_txn_amt_max', 2015),\n",
            "            ('ann_txn_amt_min', 2011),\n",
            "            ('ann_txn_amt_min', 2012),\n",
            "            ('ann_txn_amt_min', 2013),\n",
            "            ('ann_txn_amt_min', 2014),\n",
            "            ('ann_txn_amt_min', 2015),\n",
            "            ('ann_txn_amt_sem', 2011),\n",
            "            ('ann_txn_amt_sem', 2012),\n",
            "            ('ann_txn_amt_sem', 2013),\n",
            "            ('ann_txn_amt_sem', 2014),\n",
            "            ('ann_txn_amt_sem', 2015),\n",
            "            ('ann_txn_amt_std', 2011),\n",
            "            ('ann_txn_amt_std', 2012),\n",
            "            ('ann_txn_amt_std', 2013),\n",
            "            ('ann_txn_amt_std', 2014),\n",
            "            ('ann_txn_amt_std', 2015),\n",
            "            ('ann_txn_amt_sum', 2011),\n",
            "            ('ann_txn_amt_sum', 2012),\n",
            "            ('ann_txn_amt_sum', 2013),\n",
            "            ('ann_txn_amt_sum', 2014),\n",
            "            ('ann_txn_amt_sum', 2015),\n",
            "            ('ann_txn_amt_var', 2011),\n",
            "            ('ann_txn_amt_var', 2012),\n",
            "            ('ann_txn_amt_var', 2013),\n",
            "            ('ann_txn_amt_var', 2014),\n",
            "            ('ann_txn_amt_var', 2015)],\n",
            "           names=[None, 'YEAR'])\n"
          ]
        }
      ]
    },
    {
      "cell_type": "markdown",
      "metadata": {
        "id": "uddRkwEhXWd6"
      },
      "source": [
        ">5. Finally, you want to save the dataframe **clnt_annual_aggregations_pivot** as an .xlsx file for future use in the machine learning assignment. To do so, you want to remove the two levels in columns and create a single level with column names: 'ann txn_amt_ave_2011', 'ann_txn_amt_ave_2012', etc. To do so, use the code snippet below prior to saving the dataframe as an Excel file."
      ]
    },
    {
      "cell_type": "markdown",
      "metadata": {
        "id": "LjFQYXIFZ4CN"
      },
      "source": [
        ">Describe what each line of code in the box does and save the output dataframe as an Excel file annual features.xlsx. A snapshot of the desired final output is shown\n",
        "below.\n",
        "\n",
        "The first two lines extract the name of level 0 and level 1 and convert them to string. Named them level_0 and level_1. The third line concatenates level 0, '_', and level 1 to get the new column name."
      ]
    },
    {
      "cell_type": "code",
      "metadata": {
        "colab": {
          "base_uri": "https://localhost:8080/",
          "height": 255
        },
        "id": "zFHbwIsBZF3j",
        "outputId": "53ce5849-c52c-48cd-c59c-c458e5108763"
      },
      "source": [
        "#extract the name of level 0 and level 1 and convert them to string. Named them level_0 and level_1.\n",
        "level_0 = clnt_annual_aggregations_pivot.columns.get_level_values(0).astype(str)\n",
        "level_1 = clnt_annual_aggregations_pivot.columns.get_level_values(1).astype(str)\n",
        "#concatenate level 0 and level 1 to get the new column name\n",
        "clnt_annual_aggregations_pivot.columns = level_0 + '_' + level_1\n",
        "clnt_annual_aggregations_pivot.head()"
      ],
      "execution_count": 16,
      "outputs": [
        {
          "output_type": "execute_result",
          "data": {
            "text/html": [
              "<div>\n",
              "<style scoped>\n",
              "    .dataframe tbody tr th:only-of-type {\n",
              "        vertical-align: middle;\n",
              "    }\n",
              "\n",
              "    .dataframe tbody tr th {\n",
              "        vertical-align: top;\n",
              "    }\n",
              "\n",
              "    .dataframe thead th {\n",
              "        text-align: right;\n",
              "    }\n",
              "</style>\n",
              "<table border=\"1\" class=\"dataframe\">\n",
              "  <thead>\n",
              "    <tr style=\"text-align: right;\">\n",
              "      <th></th>\n",
              "      <th>ann_txn_amt_ave_2011</th>\n",
              "      <th>ann_txn_amt_ave_2012</th>\n",
              "      <th>ann_txn_amt_ave_2013</th>\n",
              "      <th>ann_txn_amt_ave_2014</th>\n",
              "      <th>ann_txn_amt_ave_2015</th>\n",
              "      <th>ann_txn_amt_cnt_2011</th>\n",
              "      <th>ann_txn_amt_cnt_2012</th>\n",
              "      <th>ann_txn_amt_cnt_2013</th>\n",
              "      <th>ann_txn_amt_cnt_2014</th>\n",
              "      <th>ann_txn_amt_cnt_2015</th>\n",
              "      <th>ann_txn_amt_max_2011</th>\n",
              "      <th>ann_txn_amt_max_2012</th>\n",
              "      <th>ann_txn_amt_max_2013</th>\n",
              "      <th>ann_txn_amt_max_2014</th>\n",
              "      <th>ann_txn_amt_max_2015</th>\n",
              "      <th>ann_txn_amt_min_2011</th>\n",
              "      <th>ann_txn_amt_min_2012</th>\n",
              "      <th>ann_txn_amt_min_2013</th>\n",
              "      <th>ann_txn_amt_min_2014</th>\n",
              "      <th>ann_txn_amt_min_2015</th>\n",
              "      <th>ann_txn_amt_sem_2011</th>\n",
              "      <th>ann_txn_amt_sem_2012</th>\n",
              "      <th>ann_txn_amt_sem_2013</th>\n",
              "      <th>ann_txn_amt_sem_2014</th>\n",
              "      <th>ann_txn_amt_sem_2015</th>\n",
              "      <th>ann_txn_amt_std_2011</th>\n",
              "      <th>ann_txn_amt_std_2012</th>\n",
              "      <th>ann_txn_amt_std_2013</th>\n",
              "      <th>ann_txn_amt_std_2014</th>\n",
              "      <th>ann_txn_amt_std_2015</th>\n",
              "      <th>ann_txn_amt_sum_2011</th>\n",
              "      <th>ann_txn_amt_sum_2012</th>\n",
              "      <th>ann_txn_amt_sum_2013</th>\n",
              "      <th>ann_txn_amt_sum_2014</th>\n",
              "      <th>ann_txn_amt_sum_2015</th>\n",
              "      <th>ann_txn_amt_var_2011</th>\n",
              "      <th>ann_txn_amt_var_2012</th>\n",
              "      <th>ann_txn_amt_var_2013</th>\n",
              "      <th>ann_txn_amt_var_2014</th>\n",
              "      <th>ann_txn_amt_var_2015</th>\n",
              "    </tr>\n",
              "    <tr>\n",
              "      <th>customer_id</th>\n",
              "      <th></th>\n",
              "      <th></th>\n",
              "      <th></th>\n",
              "      <th></th>\n",
              "      <th></th>\n",
              "      <th></th>\n",
              "      <th></th>\n",
              "      <th></th>\n",
              "      <th></th>\n",
              "      <th></th>\n",
              "      <th></th>\n",
              "      <th></th>\n",
              "      <th></th>\n",
              "      <th></th>\n",
              "      <th></th>\n",
              "      <th></th>\n",
              "      <th></th>\n",
              "      <th></th>\n",
              "      <th></th>\n",
              "      <th></th>\n",
              "      <th></th>\n",
              "      <th></th>\n",
              "      <th></th>\n",
              "      <th></th>\n",
              "      <th></th>\n",
              "      <th></th>\n",
              "      <th></th>\n",
              "      <th></th>\n",
              "      <th></th>\n",
              "      <th></th>\n",
              "      <th></th>\n",
              "      <th></th>\n",
              "      <th></th>\n",
              "      <th></th>\n",
              "      <th></th>\n",
              "      <th></th>\n",
              "      <th></th>\n",
              "      <th></th>\n",
              "      <th></th>\n",
              "      <th></th>\n",
              "    </tr>\n",
              "  </thead>\n",
              "  <tbody>\n",
              "    <tr>\n",
              "      <th>CS1112</th>\n",
              "      <td>70.666667</td>\n",
              "      <td>67.400000</td>\n",
              "      <td>70.666667</td>\n",
              "      <td>70.666667</td>\n",
              "      <td>39.000000</td>\n",
              "      <td>3.0</td>\n",
              "      <td>5.0</td>\n",
              "      <td>3.0</td>\n",
              "      <td>3.0</td>\n",
              "      <td>1.0</td>\n",
              "      <td>96.0</td>\n",
              "      <td>81.0</td>\n",
              "      <td>105.0</td>\n",
              "      <td>90.0</td>\n",
              "      <td>39.0</td>\n",
              "      <td>56.0</td>\n",
              "      <td>52.0</td>\n",
              "      <td>36.0</td>\n",
              "      <td>59.0</td>\n",
              "      <td>39.0</td>\n",
              "      <td>12.719189</td>\n",
              "      <td>5.688585</td>\n",
              "      <td>19.919282</td>\n",
              "      <td>9.735388</td>\n",
              "      <td>0.000000</td>\n",
              "      <td>22.030282</td>\n",
              "      <td>12.720063</td>\n",
              "      <td>34.501208</td>\n",
              "      <td>16.862186</td>\n",
              "      <td>0.000000</td>\n",
              "      <td>212.0</td>\n",
              "      <td>337.0</td>\n",
              "      <td>212.0</td>\n",
              "      <td>212.0</td>\n",
              "      <td>39.0</td>\n",
              "      <td>485.333333</td>\n",
              "      <td>161.800000</td>\n",
              "      <td>1190.333333</td>\n",
              "      <td>284.333333</td>\n",
              "      <td>0.000000</td>\n",
              "    </tr>\n",
              "    <tr>\n",
              "      <th>CS1113</th>\n",
              "      <td>81.333333</td>\n",
              "      <td>74.800000</td>\n",
              "      <td>85.200000</td>\n",
              "      <td>56.500000</td>\n",
              "      <td>73.333333</td>\n",
              "      <td>3.0</td>\n",
              "      <td>5.0</td>\n",
              "      <td>5.0</td>\n",
              "      <td>4.0</td>\n",
              "      <td>3.0</td>\n",
              "      <td>94.0</td>\n",
              "      <td>95.0</td>\n",
              "      <td>97.0</td>\n",
              "      <td>97.0</td>\n",
              "      <td>98.0</td>\n",
              "      <td>57.0</td>\n",
              "      <td>51.0</td>\n",
              "      <td>65.0</td>\n",
              "      <td>36.0</td>\n",
              "      <td>44.0</td>\n",
              "      <td>12.170091</td>\n",
              "      <td>7.618399</td>\n",
              "      <td>5.851496</td>\n",
              "      <td>13.979151</td>\n",
              "      <td>15.762121</td>\n",
              "      <td>21.079216</td>\n",
              "      <td>17.035258</td>\n",
              "      <td>13.084342</td>\n",
              "      <td>27.958302</td>\n",
              "      <td>27.300794</td>\n",
              "      <td>244.0</td>\n",
              "      <td>374.0</td>\n",
              "      <td>426.0</td>\n",
              "      <td>226.0</td>\n",
              "      <td>220.0</td>\n",
              "      <td>444.333333</td>\n",
              "      <td>290.200000</td>\n",
              "      <td>171.200000</td>\n",
              "      <td>781.666667</td>\n",
              "      <td>745.333333</td>\n",
              "    </tr>\n",
              "    <tr>\n",
              "      <th>CS1114</th>\n",
              "      <td>85.200000</td>\n",
              "      <td>75.000000</td>\n",
              "      <td>70.400000</td>\n",
              "      <td>70.833333</td>\n",
              "      <td>79.000000</td>\n",
              "      <td>5.0</td>\n",
              "      <td>2.0</td>\n",
              "      <td>5.0</td>\n",
              "      <td>6.0</td>\n",
              "      <td>1.0</td>\n",
              "      <td>97.0</td>\n",
              "      <td>97.0</td>\n",
              "      <td>105.0</td>\n",
              "      <td>95.0</td>\n",
              "      <td>79.0</td>\n",
              "      <td>76.0</td>\n",
              "      <td>53.0</td>\n",
              "      <td>43.0</td>\n",
              "      <td>37.0</td>\n",
              "      <td>79.0</td>\n",
              "      <td>4.352011</td>\n",
              "      <td>22.000000</td>\n",
              "      <td>11.129241</td>\n",
              "      <td>11.001263</td>\n",
              "      <td>0.000000</td>\n",
              "      <td>9.731393</td>\n",
              "      <td>31.112698</td>\n",
              "      <td>24.885739</td>\n",
              "      <td>26.947480</td>\n",
              "      <td>0.000000</td>\n",
              "      <td>426.0</td>\n",
              "      <td>150.0</td>\n",
              "      <td>352.0</td>\n",
              "      <td>425.0</td>\n",
              "      <td>79.0</td>\n",
              "      <td>94.700000</td>\n",
              "      <td>968.000000</td>\n",
              "      <td>619.300000</td>\n",
              "      <td>726.166667</td>\n",
              "      <td>0.000000</td>\n",
              "    </tr>\n",
              "    <tr>\n",
              "      <th>CS1115</th>\n",
              "      <td>87.000000</td>\n",
              "      <td>67.571429</td>\n",
              "      <td>79.571429</td>\n",
              "      <td>78.250000</td>\n",
              "      <td>55.000000</td>\n",
              "      <td>3.0</td>\n",
              "      <td>7.0</td>\n",
              "      <td>7.0</td>\n",
              "      <td>4.0</td>\n",
              "      <td>1.0</td>\n",
              "      <td>102.0</td>\n",
              "      <td>104.0</td>\n",
              "      <td>94.0</td>\n",
              "      <td>98.0</td>\n",
              "      <td>55.0</td>\n",
              "      <td>72.0</td>\n",
              "      <td>41.0</td>\n",
              "      <td>66.0</td>\n",
              "      <td>50.0</td>\n",
              "      <td>55.0</td>\n",
              "      <td>8.660254</td>\n",
              "      <td>8.257341</td>\n",
              "      <td>3.981249</td>\n",
              "      <td>11.316470</td>\n",
              "      <td>0.000000</td>\n",
              "      <td>15.000000</td>\n",
              "      <td>21.846870</td>\n",
              "      <td>10.533394</td>\n",
              "      <td>22.632941</td>\n",
              "      <td>0.000000</td>\n",
              "      <td>261.0</td>\n",
              "      <td>473.0</td>\n",
              "      <td>557.0</td>\n",
              "      <td>313.0</td>\n",
              "      <td>55.0</td>\n",
              "      <td>225.000000</td>\n",
              "      <td>477.285714</td>\n",
              "      <td>110.952381</td>\n",
              "      <td>512.250000</td>\n",
              "      <td>0.000000</td>\n",
              "    </tr>\n",
              "    <tr>\n",
              "      <th>CS1116</th>\n",
              "      <td>58.750000</td>\n",
              "      <td>76.666667</td>\n",
              "      <td>59.000000</td>\n",
              "      <td>66.600000</td>\n",
              "      <td>0.000000</td>\n",
              "      <td>4.0</td>\n",
              "      <td>3.0</td>\n",
              "      <td>1.0</td>\n",
              "      <td>5.0</td>\n",
              "      <td>0.0</td>\n",
              "      <td>87.0</td>\n",
              "      <td>105.0</td>\n",
              "      <td>59.0</td>\n",
              "      <td>96.0</td>\n",
              "      <td>0.0</td>\n",
              "      <td>41.0</td>\n",
              "      <td>45.0</td>\n",
              "      <td>59.0</td>\n",
              "      <td>40.0</td>\n",
              "      <td>0.0</td>\n",
              "      <td>10.601690</td>\n",
              "      <td>17.400511</td>\n",
              "      <td>0.000000</td>\n",
              "      <td>11.285389</td>\n",
              "      <td>0.000000</td>\n",
              "      <td>21.203380</td>\n",
              "      <td>30.138569</td>\n",
              "      <td>0.000000</td>\n",
              "      <td>25.234896</td>\n",
              "      <td>0.000000</td>\n",
              "      <td>235.0</td>\n",
              "      <td>230.0</td>\n",
              "      <td>59.0</td>\n",
              "      <td>333.0</td>\n",
              "      <td>0.0</td>\n",
              "      <td>449.583333</td>\n",
              "      <td>908.333333</td>\n",
              "      <td>0.000000</td>\n",
              "      <td>636.800000</td>\n",
              "      <td>0.000000</td>\n",
              "    </tr>\n",
              "  </tbody>\n",
              "</table>\n",
              "</div>"
            ],
            "text/plain": [
              "             ann_txn_amt_ave_2011  ...  ann_txn_amt_var_2015\n",
              "customer_id                        ...                      \n",
              "CS1112                  70.666667  ...              0.000000\n",
              "CS1113                  81.333333  ...            745.333333\n",
              "CS1114                  85.200000  ...              0.000000\n",
              "CS1115                  87.000000  ...              0.000000\n",
              "CS1116                  58.750000  ...              0.000000\n",
              "\n",
              "[5 rows x 40 columns]"
            ]
          },
          "metadata": {},
          "execution_count": 16
        }
      ]
    },
    {
      "cell_type": "code",
      "metadata": {
        "id": "pf5Hb1lPZ3IU"
      },
      "source": [
        "#save the output dataframe as an Excel file annual_features.xlsx\n",
        "clnt_annual_aggregations_pivot.to_excel(\"annual_features.xlsx\")"
      ],
      "execution_count": 17,
      "outputs": []
    },
    {
      "cell_type": "markdown",
      "metadata": {
        "id": "e89C5QP8caDz"
      },
      "source": [
        "6. What are the possible disadvantages in capturing client transaction behavior with the\n",
        "annual features described in this section (if any)?\n",
        "\n",
        "I think that annual data is too general. To better find patterns of selling, the data can be more detailed like using weekly or monthly data."
      ]
    },
    {
      "cell_type": "markdown",
      "metadata": {
        "id": "fsfcCOEzqmMu"
      },
      "source": [
        "##1.3 Create monthly aggregations\n",
        ">Here, you want to explore the monthly sum of amounts and count of clients transactions.\n",
        "1. Create the dataframe that captures the monthly sum and count of transactions per client (name\n",
        "it **clnt_monthly_aggregations**). Use the groupby function with the Named Aggregation feature which was introduced in pandas version 0.25.0. Make sure that you name the columns\n",
        "as shown in the  gure sample on the right."
      ]
    },
    {
      "cell_type": "code",
      "metadata": {
        "colab": {
          "base_uri": "https://localhost:8080/",
          "height": 235
        },
        "id": "qABOS39Ljra9",
        "outputId": "6e597699-998a-4dec-c4ea-abe9684fbc69"
      },
      "source": [
        "clnt_monthly_aggregations = txn.groupby([\"customer_id\",'ME_DT']).agg(\n",
        "    mth_txn_amt_sum = pd.NamedAgg('tran_amount','sum'),\n",
        "    mth_txn_amt_cnt = pd.NamedAgg('tran_amount','count')    \n",
        ")\n",
        "clnt_monthly_aggregations.head()"
      ],
      "execution_count": 19,
      "outputs": [
        {
          "output_type": "execute_result",
          "data": {
            "text/html": [
              "<div>\n",
              "<style scoped>\n",
              "    .dataframe tbody tr th:only-of-type {\n",
              "        vertical-align: middle;\n",
              "    }\n",
              "\n",
              "    .dataframe tbody tr th {\n",
              "        vertical-align: top;\n",
              "    }\n",
              "\n",
              "    .dataframe thead th {\n",
              "        text-align: right;\n",
              "    }\n",
              "</style>\n",
              "<table border=\"1\" class=\"dataframe\">\n",
              "  <thead>\n",
              "    <tr style=\"text-align: right;\">\n",
              "      <th></th>\n",
              "      <th></th>\n",
              "      <th>mth_txn_amt_sum</th>\n",
              "      <th>mth_txn_amt_cnt</th>\n",
              "    </tr>\n",
              "    <tr>\n",
              "      <th>customer_id</th>\n",
              "      <th>ME_DT</th>\n",
              "      <th></th>\n",
              "      <th></th>\n",
              "    </tr>\n",
              "  </thead>\n",
              "  <tbody>\n",
              "    <tr>\n",
              "      <th rowspan=\"5\" valign=\"top\">CS1112</th>\n",
              "      <th>2011-06-30</th>\n",
              "      <td>56</td>\n",
              "      <td>1</td>\n",
              "    </tr>\n",
              "    <tr>\n",
              "      <th>2011-08-31</th>\n",
              "      <td>96</td>\n",
              "      <td>1</td>\n",
              "    </tr>\n",
              "    <tr>\n",
              "      <th>2011-10-31</th>\n",
              "      <td>60</td>\n",
              "      <td>1</td>\n",
              "    </tr>\n",
              "    <tr>\n",
              "      <th>2012-04-30</th>\n",
              "      <td>56</td>\n",
              "      <td>1</td>\n",
              "    </tr>\n",
              "    <tr>\n",
              "      <th>2012-06-30</th>\n",
              "      <td>52</td>\n",
              "      <td>1</td>\n",
              "    </tr>\n",
              "  </tbody>\n",
              "</table>\n",
              "</div>"
            ],
            "text/plain": [
              "                        mth_txn_amt_sum  mth_txn_amt_cnt\n",
              "customer_id ME_DT                                       \n",
              "CS1112      2011-06-30               56                1\n",
              "            2011-08-31               96                1\n",
              "            2011-10-31               60                1\n",
              "            2012-04-30               56                1\n",
              "            2012-06-30               52                1"
            ]
          },
          "metadata": {},
          "execution_count": 19
        }
      ]
    },
    {
      "cell_type": "markdown",
      "metadata": {
        "id": "VAcQOPcCtcYu"
      },
      "source": [
        ">2. Create a histogram of both columns you created. What are your observations? What are the most common and maximum values for each column? How do they compare with the ones in section 1.2?\n",
        "\n",
        "The majority of customer has only one transaction per month. Compared with the annual figure, we can find that both figures are skewed right distributed. Monthly graphs had a smaller x-axis scale. "
      ]
    },
    {
      "cell_type": "code",
      "metadata": {
        "colab": {
          "base_uri": "https://localhost:8080/",
          "height": 613
        },
        "id": "qaKXFReEtw1Q",
        "outputId": "74b6c882-b575-47fc-d543-d4e14bcd8b84"
      },
      "source": [
        "#plot sum\n",
        "plt.hist(clnt_monthly_aggregations['mth_txn_amt_sum'])\n",
        "plt.title(\"Histogram of Sum\")\n",
        "plt.show()\n",
        "\n",
        "#plot count\n",
        "plt.hist(clnt_monthly_aggregations['mth_txn_amt_cnt'])\n",
        "plt.title(\"Histogram of Count\")\n",
        "plt.show()\n",
        "\n",
        "print('Most Common Value for sum:',clnt_monthly_aggregations['mth_txn_amt_sum'].mode()[0])\n",
        "print('Maximum Value for sum:',clnt_monthly_aggregations['mth_txn_amt_sum'].max())\n",
        "print('Most Common Value for count:',clnt_monthly_aggregations['mth_txn_amt_cnt'].mode()[0])\n",
        "print('Maximum Value for count:',clnt_monthly_aggregations['mth_txn_amt_cnt'].max())"
      ],
      "execution_count": 22,
      "outputs": [
        {
          "output_type": "display_data",
          "data": {
            "image/png": "[encoded data removed]",
            "text/plain": [
              "<Figure size 432x288 with 1 Axes>"
            ]
          },
          "metadata": {
            "needs_background": "light"
          }
        },
        {
          "output_type": "display_data",
          "data": {
            "image/png": "[encoded data removed]",
            "text/plain": [
              "<Figure size 432x288 with 1 Axes>"
            ]
          },
          "metadata": {
            "needs_background": "light"
          }
        },
        {
          "output_type": "stream",
          "name": "stdout",
          "text": [
            "Most Common Value for sum: 77\n",
            "Maximum Value for sum: 460\n",
            "Most Common Value for count: 1\n",
            "Maximum Value for count: 6\n"
          ]
        }
      ]
    },
    {
      "cell_type": "markdown",
      "metadata": {
        "id": "Ssc91l3UNFnN"
      },
      "source": [
        "##1.4 Create the base table for the rolling window features\n",
        ">1. Create the numpy array of the unique elements in columns 'customer id' and 'ME DT' of the txn table you created in section 1.1. Confirm that you have 6,889 unique clients and 47 unique month-end-dates."
      ]
    },
    {
      "cell_type": "code",
      "metadata": {
        "colab": {
          "base_uri": "https://localhost:8080/"
        },
        "id": "Ipgqo-ChNyXg",
        "outputId": "92167d8e-0bc6-413c-b452-8256f64a4dc5"
      },
      "source": [
        "clnt_no = txn['customer_id'].unique()\n",
        "me_td = txn['ME_DT'].unique()\n",
        "print(\"number of unique clients:\", len(clnt_no))\n",
        "print(\"number of unique month-end-dates:\", len(me_td))"
      ],
      "execution_count": 25,
      "outputs": [
        {
          "output_type": "stream",
          "name": "stdout",
          "text": [
            "number of unique clients: 6889\n",
            "number of unique month-end-dates: 47\n"
          ]
        }
      ]
    },
    {
      "cell_type": "markdown",
      "metadata": {
        "id": "MWpB90hxylH-"
      },
      "source": [
        ">2. Use itertools.product to generate all the possible combinations of 'customer_id' and\n",
        "'ME_DT'. Itertools is a Python module that iterates over data in a computationally effcient way. You can perform the same task with a for-loop, but the execution may be inefficient. For a brief overview of the Itertools module see here. If you\n",
        "named the numpy arrays with the unique elements: **clnt_no** and **me_dt**, then the code below will create an itertools.product object (you can con rm this by running:\n",
        "type(base table))."
      ]
    },
    {
      "cell_type": "code",
      "metadata": {
        "id": "p4RQg0yFyXIA"
      },
      "source": [
        "base_table = product('clnt_no', 'me_td')"
      ],
      "execution_count": 27,
      "outputs": []
    },
    {
      "cell_type": "markdown",
      "metadata": {
        "id": "KFmUYeUUPUUP"
      },
      "source": [
        "3. Next, you want to convert the itertools.product object base table into a pandas object called base table pd. To do so, use pd.DataFrame.from records and name the columns 'CLNT_NO' and 'ME_DT'."
      ]
    }
  ]
}