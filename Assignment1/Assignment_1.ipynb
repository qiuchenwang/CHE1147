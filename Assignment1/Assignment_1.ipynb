{
  "nbformat": 4,
  "nbformat_minor": 0,
  "metadata": {
    "colab": {
      "name": "Assignment 1 （due9.28）.ipynb",
      "provenance": [],
      "collapsed_sections": []
    },
    "kernelspec": {
      "name": "python3",
      "display_name": "Python 3"
    },
    "language_info": {
      "name": "python"
    }
  },
  "cells": [
    {
      "cell_type": "markdown",
      "metadata": {
        "id": "a8A9BDCgLWej"
      },
      "source": [
        "\n",
        "# 1 Python data structures and other essentials"
      ]
    },
    {
      "cell_type": "markdown",
      "metadata": {
        "id": "NFFl9COJLhZy"
      },
      "source": [
        "## 1.1 Tuples\n",
        ">1. Create the tuple named apps tuple with the string elements ”Google”, ”Facebook”, ”Amazon”, ”Netflix”, ”AirBnB”, ”Instagram”.\n",
        ">2. Extract the second element by using its index and the last element by using its neg- ative index."
      ]
    },
    {
      "cell_type": "code",
      "metadata": {
        "colab": {
          "base_uri": "https://localhost:8080/",
          "height": 35
        },
        "id": "E6H5gJmOKGXS",
        "outputId": "53176806-ef4c-4c58-9f84-b5ff2dbeda5e"
      },
      "source": [
        "apps_tuple = ('Google', 'Facebook', 'Amazon', 'Netflix', 'AirBnB', 'Instagram')\n",
        "apps_tuple[1]"
      ],
      "execution_count": null,
      "outputs": [
        {
          "output_type": "execute_result",
          "data": {
            "application/vnd.google.colaboratory.intrinsic+json": {
              "type": "string"
            },
            "text/plain": [
              "'Facebook'"
            ]
          },
          "metadata": {},
          "execution_count": 9
        }
      ]
    },
    {
      "cell_type": "code",
      "metadata": {
        "colab": {
          "base_uri": "https://localhost:8080/",
          "height": 35
        },
        "id": "YEVQa-m_LSPD",
        "outputId": "a80c4182-c594-4747-e431-0cf043d1d720"
      },
      "source": [
        "apps_tuple[-1]"
      ],
      "execution_count": null,
      "outputs": [
        {
          "output_type": "execute_result",
          "data": {
            "application/vnd.google.colaboratory.intrinsic+json": {
              "type": "string"
            },
            "text/plain": [
              "'Instagram'"
            ]
          },
          "metadata": {},
          "execution_count": 10
        }
      ]
    },
    {
      "cell_type": "markdown",
      "metadata": {
        "id": "wyW9984SLwWs"
      },
      "source": [
        ">3. Slice the elements from ”Facebook” to ”Netflix” inclusive on both ends."
      ]
    },
    {
      "cell_type": "code",
      "metadata": {
        "colab": {
          "base_uri": "https://localhost:8080/"
        },
        "id": "zoeLsqdeL4J6",
        "outputId": "551d6618-6002-4a99-b6a3-bfb1f4ab803e"
      },
      "source": [
        "apps_tuple[1:-2]"
      ],
      "execution_count": null,
      "outputs": [
        {
          "output_type": "execute_result",
          "data": {
            "text/plain": [
              "('Facebook', 'Amazon', 'Netflix')"
            ]
          },
          "metadata": {},
          "execution_count": 11
        }
      ]
    },
    {
      "cell_type": "markdown",
      "metadata": {
        "id": "mqUE8rISMd0Y"
      },
      "source": [
        ">4. Try appending the element ”Messenger” to the tuple. What do you observe? Why?\n",
        "\n",
        "I observe the AttributeError saying that 'tuple' object has no attribute 'append'. Because tuples are unchangeable. We cannot add elements after the tuple has been created."
      ]
    },
    {
      "cell_type": "code",
      "metadata": {
        "colab": {
          "base_uri": "https://localhost:8080/",
          "height": 185
        },
        "id": "FKbrNjAhM7Rv",
        "outputId": "61986de5-28d0-40ec-fa9f-4fdcff71094f"
      },
      "source": [
        "apps_tuple.append('Messenger')\n",
        "apps_tuple"
      ],
      "execution_count": null,
      "outputs": [
        {
          "output_type": "error",
          "ename": "AttributeError",
          "evalue": "ignored",
          "traceback": [
            "\u001b[0;31m---------------------------------------------------------------------------\u001b[0m",
            "\u001b[0;31mAttributeError\u001b[0m                            Traceback (most recent call last)",
            "\u001b[0;32m<ipython-input-12-5a7fe89e8c2c>\u001b[0m in \u001b[0;36m<module>\u001b[0;34m()\u001b[0m\n\u001b[0;32m----> 1\u001b[0;31m \u001b[0mapps_tuple\u001b[0m\u001b[0;34m.\u001b[0m\u001b[0mappend\u001b[0m\u001b[0;34m(\u001b[0m\u001b[0;34m'Messenger'\u001b[0m\u001b[0;34m)\u001b[0m\u001b[0;34m\u001b[0m\u001b[0;34m\u001b[0m\u001b[0m\n\u001b[0m\u001b[1;32m      2\u001b[0m \u001b[0mapps_tuple\u001b[0m\u001b[0;34m\u001b[0m\u001b[0;34m\u001b[0m\u001b[0m\n",
            "\u001b[0;31mAttributeError\u001b[0m: 'tuple' object has no attribute 'append'"
          ]
        }
      ]
    },
    {
      "cell_type": "markdown",
      "metadata": {
        "id": "aMHs0RhtOs0U"
      },
      "source": [
        "## 1.2 Lists"
      ]
    },
    {
      "cell_type": "markdown",
      "metadata": {
        "id": "MFSAy_klOzN5"
      },
      "source": [
        ">1. Define the list apps list with the same elements as the tuple above.\n",
        ">2. Slice the first three elements of the list with the shorthand syntax, i.e. not by typing explicitly all the indexes 0, 1, and 2; use the symbol : instead."
      ]
    },
    {
      "cell_type": "code",
      "metadata": {
        "colab": {
          "base_uri": "https://localhost:8080/"
        },
        "id": "4GGpvc_7OpFH",
        "outputId": "c294401c-3c12-4fb6-9ed1-d839ff8aaf09"
      },
      "source": [
        "apps_list = ['Google', 'Facebook', 'Amazon', 'Netflix', 'AirBnB', 'Instagram']\n",
        "apps_list[0:3]"
      ],
      "execution_count": null,
      "outputs": [
        {
          "output_type": "execute_result",
          "data": {
            "text/plain": [
              "['Google', 'Facebook', 'Amazon']"
            ]
          },
          "metadata": {},
          "execution_count": 13
        }
      ]
    },
    {
      "cell_type": "markdown",
      "metadata": {
        "id": "5IEk0-01Pjr8"
      },
      "source": [
        ">3. Slice all the elements after index 3 inclusively with the shorthand syntax."
      ]
    },
    {
      "cell_type": "code",
      "metadata": {
        "colab": {
          "base_uri": "https://localhost:8080/"
        },
        "id": "hdAB9YL_Przj",
        "outputId": "72891c90-1ff5-4610-d554-7d00b9b82dbe"
      },
      "source": [
        "apps_list[3:]"
      ],
      "execution_count": null,
      "outputs": [
        {
          "output_type": "execute_result",
          "data": {
            "text/plain": [
              "['Netflix', 'AirBnB', 'Instagram']"
            ]
          },
          "metadata": {},
          "execution_count": 14
        }
      ]
    },
    {
      "cell_type": "markdown",
      "metadata": {
        "id": "DE0kmoLmP01U"
      },
      "source": [
        ">4. Append the element ’Messenger’ to the end of the list and insert the element ’Youtube’ at index 1.\n"
      ]
    },
    {
      "cell_type": "code",
      "metadata": {
        "colab": {
          "base_uri": "https://localhost:8080/"
        },
        "id": "aEoswTOoPz4f",
        "outputId": "7352c09c-3983-4b0a-b502-48e4652c4407"
      },
      "source": [
        "apps_list.append('Messenger')\n",
        "apps_list.insert(1,'Youtube')\n",
        "apps_list"
      ],
      "execution_count": null,
      "outputs": [
        {
          "output_type": "execute_result",
          "data": {
            "text/plain": [
              "['Google',\n",
              " 'Youtube',\n",
              " 'Facebook',\n",
              " 'Amazon',\n",
              " 'Netflix',\n",
              " 'AirBnB',\n",
              " 'Instagram',\n",
              " 'Messenger']"
            ]
          },
          "metadata": {},
          "execution_count": 15
        }
      ]
    },
    {
      "cell_type": "markdown",
      "metadata": {
        "id": "DNoNNZBzQhgA"
      },
      "source": [
        ">5. Remove element ’Facebook’ and confirm with the function in whether ’Facebook’ has been removed from the list."
      ]
    },
    {
      "cell_type": "code",
      "metadata": {
        "colab": {
          "base_uri": "https://localhost:8080/"
        },
        "id": "yz1girW-QoG3",
        "outputId": "f52fede2-7dd0-423f-c0b4-a70b531e7afe"
      },
      "source": [
        "apps_list.remove('Facebook')\n",
        "'Facebook' in apps_list"
      ],
      "execution_count": null,
      "outputs": [
        {
          "output_type": "execute_result",
          "data": {
            "text/plain": [
              "False"
            ]
          },
          "metadata": {},
          "execution_count": 16
        }
      ]
    },
    {
      "cell_type": "markdown",
      "metadata": {
        "id": "DnD0pOeeRzu2"
      },
      "source": [
        ">6. Concatenate the last list with the list [’Linkedin’, ’Twitter’]"
      ]
    },
    {
      "cell_type": "code",
      "metadata": {
        "colab": {
          "base_uri": "https://localhost:8080/"
        },
        "id": "3pMiBzSXR5LG",
        "outputId": "b6b528c1-7fab-4ff5-ccad-929601b3025b"
      },
      "source": [
        "apps_list + ['Linkedin', 'Twitter']"
      ],
      "execution_count": null,
      "outputs": [
        {
          "output_type": "execute_result",
          "data": {
            "text/plain": [
              "['Google',\n",
              " 'Youtube',\n",
              " 'Amazon',\n",
              " 'Netflix',\n",
              " 'AirBnB',\n",
              " 'Instagram',\n",
              " 'Messenger',\n",
              " 'Linkedin',\n",
              " 'Twitter']"
            ]
          },
          "metadata": {},
          "execution_count": 18
        }
      ]
    },
    {
      "cell_type": "markdown",
      "metadata": {
        "id": "iQ48vtSESkMB"
      },
      "source": [
        "## 1.3 Dicts\n",
        ">1. Create the dict named apps dict with the same values as in 1.1.1. and keys: app0, app1, etc.\n",
        ">2. Access the element with key app1; then replace its value with ’Youtube’."
      ]
    },
    {
      "cell_type": "code",
      "metadata": {
        "colab": {
          "base_uri": "https://localhost:8080/",
          "height": 35
        },
        "id": "gKSGu28US531",
        "outputId": "8c3a09a1-d562-4e80-a1e8-caacbfd3ec75"
      },
      "source": [
        "apps_dict = {'app0': 'Google','app1':'Facebook','app2':'Amazon','app3':'Netflix','app4':'AirBnB','app5':'Instagram'}\n",
        "apps_dict['app1']"
      ],
      "execution_count": null,
      "outputs": [
        {
          "output_type": "execute_result",
          "data": {
            "application/vnd.google.colaboratory.intrinsic+json": {
              "type": "string"
            },
            "text/plain": [
              "'Facebook'"
            ]
          },
          "metadata": {},
          "execution_count": 22
        }
      ]
    },
    {
      "cell_type": "code",
      "metadata": {
        "colab": {
          "base_uri": "https://localhost:8080/"
        },
        "id": "H7PdqE_2UvUy",
        "outputId": "3c7cfef6-cf53-4313-cbf9-26bfc5d078cd"
      },
      "source": [
        "apps_dict['app1'] = 'Youtube'\n",
        "apps_dict"
      ],
      "execution_count": null,
      "outputs": [
        {
          "output_type": "execute_result",
          "data": {
            "text/plain": [
              "{'app0': 'Google',\n",
              " 'app1': 'Youtube',\n",
              " 'app2': 'Amazon',\n",
              " 'app3': 'Netflix',\n",
              " 'app4': 'AirBnB',\n",
              " 'app5': 'Instagram'}"
            ]
          },
          "metadata": {},
          "execution_count": 23
        }
      ]
    },
    {
      "cell_type": "markdown",
      "metadata": {
        "id": "-7v3kmLOU3zk"
      },
      "source": [
        ">3. Add a new key-value pair: app6-Messenger."
      ]
    },
    {
      "cell_type": "code",
      "metadata": {
        "colab": {
          "base_uri": "https://localhost:8080/"
        },
        "id": "lSBrbC20U-kk",
        "outputId": "7dab9f85-1483-4a49-fd44-0e2510a3e17c"
      },
      "source": [
        "apps_dict['app6']='Messenger'\n",
        "apps_dict"
      ],
      "execution_count": null,
      "outputs": [
        {
          "output_type": "execute_result",
          "data": {
            "text/plain": [
              "{'app0': 'Google',\n",
              " 'app1': 'Youtube',\n",
              " 'app2': 'Amazon',\n",
              " 'app3': 'Netflix',\n",
              " 'app4': 'AirBnB',\n",
              " 'app5': 'Instagram',\n",
              " 'app6': 'Messenger'}"
            ]
          },
          "metadata": {},
          "execution_count": 24
        }
      ]
    },
    {
      "cell_type": "markdown",
      "metadata": {
        "id": "v8rZpcJPVWOh"
      },
      "source": [
        ">4. What does the syntax: apps_dict[”app1”]=”Messenger” do?\n",
        "\n",
        "Access to element with key app1. Change the value of the key \"app1\" to \"Messsenger\".\n",
        ">5. What does the syntax: apps_dict[”App1”]=”Facebook” do? Why?\n",
        "\n",
        "Add a new key-value pair App1-Facebook. Because Python is a case-sensitive language, key \"app1\" and \"App1\" are different. \n",
        ">6. What does the syntax: del apps_dict[”App1”] do?\n",
        "\n",
        "It removes the item with the key name \"App1\". If the dictionary doesn't contain a key named \"App1\", it will return KeyError.\n",
        "## 1.4 List comprehension\n",
        ">1. Create the list named values with integers: 7, 12, 9, 18, 15."
      ]
    },
    {
      "cell_type": "code",
      "metadata": {
        "id": "osdOHXt9gK40"
      },
      "source": [
        "values = [7,12,9,18,15]"
      ],
      "execution_count": null,
      "outputs": []
    },
    {
      "cell_type": "markdown",
      "metadata": {
        "id": "Mxo43ZWtf9m-"
      },
      "source": [
        ">2. Create a list comprehension that takes the object values and returns the square of every value."
      ]
    },
    {
      "cell_type": "code",
      "metadata": {
        "colab": {
          "base_uri": "https://localhost:8080/"
        },
        "id": "Jym3IVuHgeR_",
        "outputId": "49ce6379-e3a3-40c3-9885-0a3d4d47e814"
      },
      "source": [
        "new_values = [x*x for x in values]\n",
        "new_values"
      ],
      "execution_count": null,
      "outputs": [
        {
          "output_type": "execute_result",
          "data": {
            "text/plain": [
              "[49, 144, 81, 324, 225]"
            ]
          },
          "metadata": {},
          "execution_count": 28
        }
      ]
    },
    {
      "cell_type": "markdown",
      "metadata": {
        "id": "UtNQMpd0iH-g"
      },
      "source": [
        "## 1.5 Functions and control flow\n",
        ">1. Generate a sample of 10 random integer numbers between 600 and 900 (hint: use Numpy’s random integers function)."
      ]
    },
    {
      "cell_type": "code",
      "metadata": {
        "colab": {
          "base_uri": "https://localhost:8080/"
        },
        "id": "tAmUyNsairuY",
        "outputId": "a3babfd9-da11-41ac-dd80-6f0ff18389f6"
      },
      "source": [
        "import numpy as np\n",
        "integers = np.random.randint(low = 600,high = 900,size = 10)\n",
        "integers"
      ],
      "execution_count": 2,
      "outputs": [
        {
          "output_type": "execute_result",
          "data": {
            "text/plain": [
              "array([801, 885, 773, 809, 634, 720, 743, 627, 801, 656])"
            ]
          },
          "metadata": {},
          "execution_count": 2
        }
      ]
    },
    {
      "cell_type": "markdown",
      "metadata": {
        "id": "A_tJzy0VkJEB"
      },
      "source": [
        ">2. Create a function called credit score that reads the sample and returns the output ’Low’ when the input is [600, 699], ’Medium’ when in [700, 799] and ’High’ when in [800, 900]."
      ]
    },
    {
      "cell_type": "code",
      "metadata": {
        "id": "2V3edR8kkTkj"
      },
      "source": [
        "def credit_score(integer):\n",
        "  if integer >=600 and integer <=699:\n",
        "    return \"Low\"\n",
        "  elif integer >=700 and integer <=799:\n",
        "    return \"Medium\"\n",
        "  elif integer >=800 and integer <=900:\n",
        "    return \"High\""
      ],
      "execution_count": 3,
      "outputs": []
    },
    {
      "cell_type": "code",
      "metadata": {
        "colab": {
          "base_uri": "https://localhost:8080/"
        },
        "id": "ghRQXoxwmREG",
        "outputId": "4cc887b1-a8dc-4af9-e7ff-6b31004faabe"
      },
      "source": [
        "for item in integers:\n",
        "  print(credit_score(item))"
      ],
      "execution_count": 4,
      "outputs": [
        {
          "output_type": "stream",
          "name": "stdout",
          "text": [
            "High\n",
            "High\n",
            "Medium\n",
            "High\n",
            "Low\n",
            "Medium\n",
            "Medium\n",
            "Low\n",
            "High\n",
            "Low\n"
          ]
        }
      ]
    },
    {
      "cell_type": "markdown",
      "metadata": {
        "id": "jLlfGY77Vsjx"
      },
      "source": [
        "# 2 Linear algebra in Numpy"
      ]
    },
    {
      "cell_type": "markdown",
      "metadata": {
        "id": "g8XRv6sImaMX"
      },
      "source": [
        "## 2.1 Matrix calculations\n",
        ">1. Create matrices A and B as numpy arrays and calculate 2A, -3B and A+B"
      ]
    },
    {
      "cell_type": "code",
      "metadata": {
        "colab": {
          "base_uri": "https://localhost:8080/"
        },
        "id": "nA1wxozgnHAB",
        "outputId": "f8cffe4a-9110-477a-89ef-440888c19467"
      },
      "source": [
        "A = np.array([[2,1],[1,1],[2,3]])\n",
        "B = np.array([[-4,1],[3,-1],[-2,1]])\n",
        "print(2*A)"
      ],
      "execution_count": null,
      "outputs": [
        {
          "output_type": "stream",
          "name": "stdout",
          "text": [
            "[[4 2]\n",
            " [2 2]\n",
            " [4 6]]\n"
          ]
        }
      ]
    },
    {
      "cell_type": "code",
      "metadata": {
        "colab": {
          "base_uri": "https://localhost:8080/"
        },
        "id": "6qzjAye7okIs",
        "outputId": "556015e7-89b4-4978-fe68-647893b3e4e4"
      },
      "source": [
        "print(-3*B)"
      ],
      "execution_count": null,
      "outputs": [
        {
          "output_type": "stream",
          "name": "stdout",
          "text": [
            "[[12 -3]\n",
            " [-9  3]\n",
            " [ 6 -3]]\n"
          ]
        }
      ]
    },
    {
      "cell_type": "code",
      "metadata": {
        "colab": {
          "base_uri": "https://localhost:8080/"
        },
        "id": "GEqqWMhpooyr",
        "outputId": "00883515-ab04-4574-8d11-88ecc6eed258"
      },
      "source": [
        "print(A+B)"
      ],
      "execution_count": null,
      "outputs": [
        {
          "output_type": "stream",
          "name": "stdout",
          "text": [
            "[[-2  2]\n",
            " [ 4  0]\n",
            " [ 0  4]]\n"
          ]
        }
      ]
    },
    {
      "cell_type": "markdown",
      "metadata": {
        "id": "pioIupPXo3tx"
      },
      "source": [
        ">2. Create matrices A and B as numpy arrays and calculate A*B and the inverse of B."
      ]
    },
    {
      "cell_type": "code",
      "metadata": {
        "colab": {
          "base_uri": "https://localhost:8080/"
        },
        "id": "Y4Rnz9YEo8bm",
        "outputId": "ae27e715-3277-47e3-c827-2e7ebc580c3a"
      },
      "source": [
        "A = np.array([[2,-6],[-4,0],[1,5]])\n",
        "B = np.array([[1,1],[2,3]])\n",
        "print(np.dot(A,B))"
      ],
      "execution_count": null,
      "outputs": [
        {
          "output_type": "stream",
          "name": "stdout",
          "text": [
            "[[-10 -16]\n",
            " [ -4  -4]\n",
            " [ 11  16]]\n"
          ]
        }
      ]
    },
    {
      "cell_type": "code",
      "metadata": {
        "colab": {
          "base_uri": "https://localhost:8080/"
        },
        "id": "UU9pPDFeqJ06",
        "outputId": "d2606424-4727-4fc5-fc7c-05d5ef42c819"
      },
      "source": [
        "#inverse of B\n",
        "print(np.linalg.inv(B))"
      ],
      "execution_count": null,
      "outputs": [
        {
          "output_type": "stream",
          "name": "stdout",
          "text": [
            "[[ 3. -1.]\n",
            " [-2.  1.]]\n"
          ]
        }
      ]
    },
    {
      "cell_type": "markdown",
      "metadata": {
        "id": "yTWPu3CLrB9Q"
      },
      "source": [
        ">3. Replace the values of the elements with abs(value)≥3 with the value 3. Also, calculate\n",
        "the determinant of the original matrix A"
      ]
    },
    {
      "cell_type": "code",
      "metadata": {
        "colab": {
          "base_uri": "https://localhost:8080/"
        },
        "id": "G3ve4jU1rOBa",
        "outputId": "0eb6b5e6-a32e-4ac5-d775-5d02dcdb6fd7"
      },
      "source": [
        "A = np.array([[1, 0, 4, 1],[-2, 1, -3, 2],[0, 0, 0, 2],[3, 2, 1, -1]])\n",
        "new_A = np.where(np.abs(A)>=3, 3, A)\n",
        "new_A"
      ],
      "execution_count": 111,
      "outputs": [
        {
          "output_type": "execute_result",
          "data": {
            "text/plain": [
              "array([[ 1,  0,  3,  1],\n",
              "       [-2,  1,  3,  2],\n",
              "       [ 0,  0,  0,  2],\n",
              "       [ 3,  2,  1, -1]])"
            ]
          },
          "metadata": {},
          "execution_count": 111
        }
      ]
    },
    {
      "cell_type": "code",
      "metadata": {
        "colab": {
          "base_uri": "https://localhost:8080/"
        },
        "id": "-rPC0A4esNtF",
        "outputId": "a09f499a-b433-4e77-8c87-8b91821986a1"
      },
      "source": [
        "#the determinant of the original matrix A\n",
        "print(np.linalg.det(A))"
      ],
      "execution_count": 112,
      "outputs": [
        {
          "output_type": "stream",
          "name": "stdout",
          "text": [
            "42.00000000000001\n"
          ]
        }
      ]
    },
    {
      "cell_type": "markdown",
      "metadata": {
        "id": "joZCoCy0tAtW"
      },
      "source": [
        "## 2.2 Norms and eigenvalues\n",
        ">1. Calculate the maximum and Euclidean or Frobenius norm of each of the three vectors:"
      ]
    },
    {
      "cell_type": "code",
      "metadata": {
        "id": "rMqF7dlUtgzD",
        "colab": {
          "base_uri": "https://localhost:8080/"
        },
        "outputId": "f2a9fe4b-5a30-4779-8fff-565a8a10dc3d"
      },
      "source": [
        "x1 = np.array([[1, -2, 3]]).T\n",
        "x2 = np.array([[2, 0, -1, 2]]).T\n",
        "x3 = np.array([[0, 1, -4, 2, -1]]).T\n",
        "print(\"x1: maximum norm=\", np.linalg.norm(x1,np.inf),\", Frobenius norm =\", np.linalg.norm(x1))\n",
        "print(\"x2: maximum norm=\", np.linalg.norm(x2,np.inf),\", Frobenius norm =\", np.linalg.norm(x2))\n",
        "print(\"x3: maximum norm=\", np.linalg.norm(x3,np.inf),\", Frobenius norm =\", np.linalg.norm(x3))"
      ],
      "execution_count": 3,
      "outputs": [
        {
          "output_type": "stream",
          "name": "stdout",
          "text": [
            "x1: maximum norm= 3.0 , Frobenius norm = 3.7416573867739413\n",
            "x2: maximum norm= 2.0 , Frobenius norm = 3.0\n",
            "x3: maximum norm= 4.0 , Frobenius norm = 4.69041575982343\n"
          ]
        }
      ]
    },
    {
      "cell_type": "markdown",
      "metadata": {
        "id": "4ouPMKrBPKd2"
      },
      "source": [
        "> 2. Calculate the $l_{2}$ and $l{\\infty}$ norms of the matrices:"
      ]
    },
    {
      "cell_type": "code",
      "metadata": {
        "colab": {
          "base_uri": "https://localhost:8080/"
        },
        "id": "_V9aiKq2Rl2C",
        "outputId": "89b214aa-653c-4bc5-8961-ad87ff7c666f"
      },
      "source": [
        "A1 = np.array([[1,-2],[4,3]])\n",
        "A2 = np.array([[1,0,2],[0,1,-1],[-1,1,1]])\n",
        "\n",
        "print(\"A1: L_2 norm =\", np.linalg.norm(A1),\n",
        "      \", L_inf norm =\", np.linalg.norm(A1,np.inf))\n",
        "\n",
        "print(\"A2: L_2 norm =\", np.linalg.norm(A2),\n",
        "      \", L_inf norm =\", np.linalg.norm(A2,np.inf))"
      ],
      "execution_count": 5,
      "outputs": [
        {
          "output_type": "stream",
          "name": "stdout",
          "text": [
            "A1: L_2 norm = 5.477225575051661 , L_inf norm = 7.0\n",
            "A2: L_2 norm = 3.1622776601683795 , L_inf norm = 3.0\n"
          ]
        }
      ]
    },
    {
      "cell_type": "markdown",
      "metadata": {
        "id": "8yR-XmWoUCg7"
      },
      "source": [
        "> 3. Calculate the eigenvalues of the matrix:"
      ]
    },
    {
      "cell_type": "code",
      "metadata": {
        "colab": {
          "base_uri": "https://localhost:8080/"
        },
        "id": "XObg6GDqUBXw",
        "outputId": "3039c422-9fe1-4a00-ea87-feebafb05d83"
      },
      "source": [
        "A = np.array([[-2,-2,3],[-10,-1,6],[10,-2,-9]])\n",
        "print(\"eigenvalues of A:\", np.linalg.eig(A)[0])"
      ],
      "execution_count": 8,
      "outputs": [
        {
          "output_type": "stream",
          "name": "stdout",
          "text": [
            "eigenvalues of A: [-12.   3.  -3.]\n"
          ]
        }
      ]
    },
    {
      "cell_type": "markdown",
      "metadata": {
        "id": "rQNFMppMVIJ-"
      },
      "source": [
        "# 3 Pandas manipulations\n",
        "> 1. Import file Gas prices.xls as a pandas DataFrame. Create a function that replaces\n",
        "NaN with the interpolation between the adjacent values (i.e. the prior and the subsequent to the NaN). Do not use existing interpolation functions, built your own."
      ]
    },
    {
      "cell_type": "code",
      "metadata": {
        "colab": {
          "base_uri": "https://localhost:8080/"
        },
        "id": "qRBGPNPSXcb4",
        "outputId": "385065a4-d90b-4ea1-f74b-47aa2cfcd981"
      },
      "source": [
        "import pandas as pd\n",
        "gas_price = pd.DataFrame(pd.read_excel ('Gas_prices-1.xlsx'))\n",
        "gas_price.isnull().sum()"
      ],
      "execution_count": 79,
      "outputs": [
        {
          "output_type": "execute_result",
          "data": {
            "text/plain": [
              "Date        0\n",
              "Price_pl    4\n",
              "dtype: int64"
            ]
          },
          "metadata": {},
          "execution_count": 79
        }
      ]
    },
    {
      "cell_type": "code",
      "metadata": {
        "colab": {
          "base_uri": "https://localhost:8080/",
          "height": 173
        },
        "id": "XdKtW9qwhi6d",
        "outputId": "9e08b258-6d86-4973-a81d-b81763491446"
      },
      "source": [
        "gas_price.loc[gas_price['Price_pl'].isnull()]"
      ],
      "execution_count": 80,
      "outputs": [
        {
          "output_type": "execute_result",
          "data": {
            "text/html": [
              "<div>\n",
              "<style scoped>\n",
              "    .dataframe tbody tr th:only-of-type {\n",
              "        vertical-align: middle;\n",
              "    }\n",
              "\n",
              "    .dataframe tbody tr th {\n",
              "        vertical-align: top;\n",
              "    }\n",
              "\n",
              "    .dataframe thead th {\n",
              "        text-align: right;\n",
              "    }\n",
              "</style>\n",
              "<table border=\"1\" class=\"dataframe\">\n",
              "  <thead>\n",
              "    <tr style=\"text-align: right;\">\n",
              "      <th></th>\n",
              "      <th>Date</th>\n",
              "      <th>Price_pl</th>\n",
              "    </tr>\n",
              "  </thead>\n",
              "  <tbody>\n",
              "    <tr>\n",
              "      <th>12</th>\n",
              "      <td>15/04/2016</td>\n",
              "      <td>NaN</td>\n",
              "    </tr>\n",
              "    <tr>\n",
              "      <th>25</th>\n",
              "      <td>02/08/2016</td>\n",
              "      <td>NaN</td>\n",
              "    </tr>\n",
              "    <tr>\n",
              "      <th>54</th>\n",
              "      <td>10/08/2017</td>\n",
              "      <td>NaN</td>\n",
              "    </tr>\n",
              "    <tr>\n",
              "      <th>70</th>\n",
              "      <td>24/04/2018</td>\n",
              "      <td>NaN</td>\n",
              "    </tr>\n",
              "  </tbody>\n",
              "</table>\n",
              "</div>"
            ],
            "text/plain": [
              "          Date  Price_pl\n",
              "12  15/04/2016       NaN\n",
              "25  02/08/2016       NaN\n",
              "54  10/08/2017       NaN\n",
              "70  24/04/2018       NaN"
            ]
          },
          "metadata": {},
          "execution_count": 80
        }
      ]
    },
    {
      "cell_type": "code",
      "metadata": {
        "colab": {
          "base_uri": "https://localhost:8080/"
        },
        "id": "yplbFt2uaXXT",
        "outputId": "cc2a8e39-cfcb-4ff4-fcdb-975f592b8bf7"
      },
      "source": [
        "def interpolation(df,col):\n",
        "  for i in df[df[col].isnull()].index:\n",
        "    num = (df.loc[i-1,col] + df.loc[i+1,col])/2\n",
        "    df.loc[i,col] = num\n",
        "  return df\n",
        "gas_price = interpolation(gas_price,'Price_pl')\n",
        "gas_price.isnull().sum()"
      ],
      "execution_count": 81,
      "outputs": [
        {
          "output_type": "execute_result",
          "data": {
            "text/plain": [
              "Date        0\n",
              "Price_pl    0\n",
              "dtype: int64"
            ]
          },
          "metadata": {},
          "execution_count": 81
        }
      ]
    },
    {
      "cell_type": "markdown",
      "metadata": {
        "id": "Bq8IWH8wk2b0"
      },
      "source": [
        "> 2. Find the index, the date and the value of the min and max gas price."
      ]
    },
    {
      "cell_type": "code",
      "metadata": {
        "colab": {
          "base_uri": "https://localhost:8080/"
        },
        "id": "Ph7BhpL9lTO2",
        "outputId": "9e8d61af-58fd-4a13-e6a8-08a6b58905ca"
      },
      "source": [
        "print(\"the max gas price:\")\n",
        "gas_price_max = gas_price.sort_values(by=['Price_pl'], ascending=False)\n",
        "print(\"index:\", gas_price_max.index[0],', date:',gas_price_max.iloc[0].Date,', price:',gas_price_max.iloc[0].Price_pl)\n",
        "print(\"the min gas price:\")\n",
        "gas_price_min = gas_price.sort_values(by=['Price_pl'])\n",
        "print(\"index:\", gas_price_min.index[0],', date:',gas_price_min.iloc[0].Date,', price:',gas_price_min.iloc[0].Price_pl)"
      ],
      "execution_count": 82,
      "outputs": [
        {
          "output_type": "stream",
          "name": "stdout",
          "text": [
            "the max gas price:\n",
            "index: 73 , date: 23/05/2018 , price: 1.336\n",
            "the min gas price:\n",
            "index: 9 , date: 20/2/2016 , price: 0.889\n"
          ]
        }
      ]
    },
    {
      "cell_type": "markdown",
      "metadata": {
        "id": "ZdIHoNERpWwS"
      },
      "source": [
        ">3. Calculate the following descriptive statistics: mean, median, quantile, skewness and\n",
        "kurtosis."
      ]
    },
    {
      "cell_type": "code",
      "metadata": {
        "colab": {
          "base_uri": "https://localhost:8080/"
        },
        "id": "JICZHMU2pc2q",
        "outputId": "0ae47b3e-de73-4410-d873-9d7a4f69a9fe"
      },
      "source": [
        "print('Mean:',gas_price.Price_pl.mean())\n",
        "print('Median:',gas_price.Price_pl.median())\n",
        "print('25% Quantile:',gas_price.Price_pl.quantile(q=0.25))\n",
        "print('75% Quantile:',gas_price.Price_pl.quantile(q=0.75))\n",
        "print('Skewness:',gas_price.Price_pl.skew())\n",
        "print('Kurtosis:',gas_price.Price_pl.kurtosis())"
      ],
      "execution_count": 83,
      "outputs": [
        {
          "output_type": "stream",
          "name": "stdout",
          "text": [
            "Mean: 1.0953902439024386\n",
            "Median: 1.079\n",
            "25% Quantile: 1.01975\n",
            "75% Quantile: 1.1717499999999998\n",
            "Skewness: 0.46752591499730667\n",
            "Kurtosis: -0.257963187132765\n"
          ]
        }
      ]
    },
    {
      "cell_type": "markdown",
      "metadata": {
        "id": "HDEGGiGBqSIf"
      },
      "source": [
        ">4. Create two new columns with the Month and Year. Pivot the table by Month(index) and Year(columns). Calculate and plot the monthly average gas price. This should give you one line per year."
      ]
    },
    {
      "cell_type": "code",
      "metadata": {
        "colab": {
          "base_uri": "https://localhost:8080/",
          "height": 204
        },
        "id": "uw2hgcuLqspb",
        "outputId": "d05182c8-bfb7-4959-da33-392bfb5466a6"
      },
      "source": [
        "import datetime\n",
        "gas_price['Date'] = pd.to_datetime(gas_price['Date'],format='%d/%m/%Y')\n",
        "gas_price['Month'] = pd.DatetimeIndex(gas_price['Date']).month\n",
        "gas_price['Year'] = pd.DatetimeIndex(gas_price['Date']).year\n",
        "gas_price.head()"
      ],
      "execution_count": 84,
      "outputs": [
        {
          "output_type": "execute_result",
          "data": {
            "text/html": [
              "<div>\n",
              "<style scoped>\n",
              "    .dataframe tbody tr th:only-of-type {\n",
              "        vertical-align: middle;\n",
              "    }\n",
              "\n",
              "    .dataframe tbody tr th {\n",
              "        vertical-align: top;\n",
              "    }\n",
              "\n",
              "    .dataframe thead th {\n",
              "        text-align: right;\n",
              "    }\n",
              "</style>\n",
              "<table border=\"1\" class=\"dataframe\">\n",
              "  <thead>\n",
              "    <tr style=\"text-align: right;\">\n",
              "      <th></th>\n",
              "      <th>Date</th>\n",
              "      <th>Price_pl</th>\n",
              "      <th>Month</th>\n",
              "      <th>Year</th>\n",
              "    </tr>\n",
              "  </thead>\n",
              "  <tbody>\n",
              "    <tr>\n",
              "      <th>0</th>\n",
              "      <td>2015-11-12</td>\n",
              "      <td>1.049</td>\n",
              "      <td>11</td>\n",
              "      <td>2015</td>\n",
              "    </tr>\n",
              "    <tr>\n",
              "      <th>1</th>\n",
              "      <td>2015-11-19</td>\n",
              "      <td>0.999</td>\n",
              "      <td>11</td>\n",
              "      <td>2015</td>\n",
              "    </tr>\n",
              "    <tr>\n",
              "      <th>2</th>\n",
              "      <td>2015-12-07</td>\n",
              "      <td>0.999</td>\n",
              "      <td>12</td>\n",
              "      <td>2015</td>\n",
              "    </tr>\n",
              "    <tr>\n",
              "      <th>3</th>\n",
              "      <td>2015-12-19</td>\n",
              "      <td>1.019</td>\n",
              "      <td>12</td>\n",
              "      <td>2015</td>\n",
              "    </tr>\n",
              "    <tr>\n",
              "      <th>4</th>\n",
              "      <td>2016-01-04</td>\n",
              "      <td>1.019</td>\n",
              "      <td>1</td>\n",
              "      <td>2016</td>\n",
              "    </tr>\n",
              "  </tbody>\n",
              "</table>\n",
              "</div>"
            ],
            "text/plain": [
              "        Date  Price_pl  Month  Year\n",
              "0 2015-11-12     1.049     11  2015\n",
              "1 2015-11-19     0.999     11  2015\n",
              "2 2015-12-07     0.999     12  2015\n",
              "3 2015-12-19     1.019     12  2015\n",
              "4 2016-01-04     1.019      1  2016"
            ]
          },
          "metadata": {},
          "execution_count": 84
        }
      ]
    },
    {
      "cell_type": "code",
      "metadata": {
        "colab": {
          "base_uri": "https://localhost:8080/",
          "height": 452
        },
        "id": "_kJ3orEZtZi1",
        "outputId": "999e6c45-dba0-4801-a415-4b6181213881"
      },
      "source": [
        "table = pd.pivot_table(gas_price, values='Price_pl', index=['Month'], columns=['Year'])\n",
        "table"
      ],
      "execution_count": 85,
      "outputs": [
        {
          "output_type": "execute_result",
          "data": {
            "text/html": [
              "<div>\n",
              "<style scoped>\n",
              "    .dataframe tbody tr th:only-of-type {\n",
              "        vertical-align: middle;\n",
              "    }\n",
              "\n",
              "    .dataframe tbody tr th {\n",
              "        vertical-align: top;\n",
              "    }\n",
              "\n",
              "    .dataframe thead th {\n",
              "        text-align: right;\n",
              "    }\n",
              "</style>\n",
              "<table border=\"1\" class=\"dataframe\">\n",
              "  <thead>\n",
              "    <tr style=\"text-align: right;\">\n",
              "      <th>Year</th>\n",
              "      <th>2015</th>\n",
              "      <th>2016</th>\n",
              "      <th>2017</th>\n",
              "      <th>2018</th>\n",
              "    </tr>\n",
              "    <tr>\n",
              "      <th>Month</th>\n",
              "      <th></th>\n",
              "      <th></th>\n",
              "      <th></th>\n",
              "      <th></th>\n",
              "    </tr>\n",
              "  </thead>\n",
              "  <tbody>\n",
              "    <tr>\n",
              "      <th>1</th>\n",
              "      <td>NaN</td>\n",
              "      <td>0.964000</td>\n",
              "      <td>1.119000</td>\n",
              "      <td>1.197500</td>\n",
              "    </tr>\n",
              "    <tr>\n",
              "      <th>2</th>\n",
              "      <td>NaN</td>\n",
              "      <td>0.899000</td>\n",
              "      <td>1.079000</td>\n",
              "      <td>1.186000</td>\n",
              "    </tr>\n",
              "    <tr>\n",
              "      <th>3</th>\n",
              "      <td>NaN</td>\n",
              "      <td>0.929000</td>\n",
              "      <td>1.075000</td>\n",
              "      <td>1.215000</td>\n",
              "    </tr>\n",
              "    <tr>\n",
              "      <th>4</th>\n",
              "      <td>NaN</td>\n",
              "      <td>1.031500</td>\n",
              "      <td>1.175667</td>\n",
              "      <td>1.287750</td>\n",
              "    </tr>\n",
              "    <tr>\n",
              "      <th>5</th>\n",
              "      <td>NaN</td>\n",
              "      <td>1.075667</td>\n",
              "      <td>1.109000</td>\n",
              "      <td>1.328333</td>\n",
              "    </tr>\n",
              "    <tr>\n",
              "      <th>6</th>\n",
              "      <td>NaN</td>\n",
              "      <td>1.048000</td>\n",
              "      <td>1.022000</td>\n",
              "      <td>1.289000</td>\n",
              "    </tr>\n",
              "    <tr>\n",
              "      <th>7</th>\n",
              "      <td>NaN</td>\n",
              "      <td>1.024000</td>\n",
              "      <td>1.059000</td>\n",
              "      <td>1.312500</td>\n",
              "    </tr>\n",
              "    <tr>\n",
              "      <th>8</th>\n",
              "      <td>NaN</td>\n",
              "      <td>0.993875</td>\n",
              "      <td>1.100667</td>\n",
              "      <td>NaN</td>\n",
              "    </tr>\n",
              "    <tr>\n",
              "      <th>9</th>\n",
              "      <td>NaN</td>\n",
              "      <td>0.999000</td>\n",
              "      <td>1.086000</td>\n",
              "      <td>NaN</td>\n",
              "    </tr>\n",
              "    <tr>\n",
              "      <th>10</th>\n",
              "      <td>NaN</td>\n",
              "      <td>1.049000</td>\n",
              "      <td>1.126000</td>\n",
              "      <td>1.209000</td>\n",
              "    </tr>\n",
              "    <tr>\n",
              "      <th>11</th>\n",
              "      <td>1.024</td>\n",
              "      <td>0.949000</td>\n",
              "      <td>1.183000</td>\n",
              "      <td>1.127000</td>\n",
              "    </tr>\n",
              "    <tr>\n",
              "      <th>12</th>\n",
              "      <td>1.009</td>\n",
              "      <td>1.074000</td>\n",
              "      <td>1.211000</td>\n",
              "      <td>1.016000</td>\n",
              "    </tr>\n",
              "  </tbody>\n",
              "</table>\n",
              "</div>"
            ],
            "text/plain": [
              "Year    2015      2016      2017      2018\n",
              "Month                                     \n",
              "1        NaN  0.964000  1.119000  1.197500\n",
              "2        NaN  0.899000  1.079000  1.186000\n",
              "3        NaN  0.929000  1.075000  1.215000\n",
              "4        NaN  1.031500  1.175667  1.287750\n",
              "5        NaN  1.075667  1.109000  1.328333\n",
              "6        NaN  1.048000  1.022000  1.289000\n",
              "7        NaN  1.024000  1.059000  1.312500\n",
              "8        NaN  0.993875  1.100667       NaN\n",
              "9        NaN  0.999000  1.086000       NaN\n",
              "10       NaN  1.049000  1.126000  1.209000\n",
              "11     1.024  0.949000  1.183000  1.127000\n",
              "12     1.009  1.074000  1.211000  1.016000"
            ]
          },
          "metadata": {},
          "execution_count": 85
        }
      ]
    },
    {
      "cell_type": "code",
      "metadata": {
        "colab": {
          "base_uri": "https://localhost:8080/",
          "height": 350
        },
        "id": "h_1ZUQWzvzRy",
        "outputId": "20d35196-8965-4dc8-8382-b4a89e67eb32"
      },
      "source": [
        "import matplotlib.pyplot as plt\n",
        "table.plot(title='Month v.s. Gas Prices', figsize=(8,5))\n",
        "plt.ylabel('Gas Prices')\n",
        "plt.show()"
      ],
      "execution_count": 74,
      "outputs": [
        {
          "output_type": "display_data",
          "data": {
            "image/png": "[encoded data removed]",
            "text/plain": [
              "<Figure size 576x360 with 1 Axes>"
            ]
          },
          "metadata": {
            "needs_background": "light"
          }
        }
      ]
    },
    {
      "cell_type": "markdown",
      "metadata": {
        "id": "mQKPu8gZwdSH"
      },
      "source": [
        ">5. Create a new column with the season of the year, set it as a secondary index and calculate the average of every season (regardless of the year) to create the following\n",
        "table:"
      ]
    },
    {
      "cell_type": "code",
      "metadata": {
        "colab": {
          "base_uri": "https://localhost:8080/",
          "height": 419
        },
        "id": "e9h89FYDw2hu",
        "outputId": "b45cc225-8816-47e6-e28d-d08f4993e3c6"
      },
      "source": [
        "#define season:\n",
        "#Winter: Dec, Jan, Feb; Spring: Mar, Apr, May; Summer: Jun,Jul,Aug; Fall: Sep, Oct, Nov\n",
        "for i in range(len(gas_price)):\n",
        "  if gas_price.iloc[i].Month in [12,1,2]:\n",
        "    gas_price.loc[i,'Season'] = 'Winter'\n",
        "  elif gas_price.iloc[i].Month in [3,4,5]:\n",
        "    gas_price.loc[i,'Season'] = 'Spring'\n",
        "  elif gas_price.iloc[i].Month in [6,7,8]:\n",
        "    gas_price.loc[i,'Season'] = 'Summer'\n",
        "  else:\n",
        "    gas_price.loc[i,'Season'] = 'Fall'\n",
        "gas_price"
      ],
      "execution_count": 86,
      "outputs": [
        {
          "output_type": "execute_result",
          "data": {
            "text/html": [
              "<div>\n",
              "<style scoped>\n",
              "    .dataframe tbody tr th:only-of-type {\n",
              "        vertical-align: middle;\n",
              "    }\n",
              "\n",
              "    .dataframe tbody tr th {\n",
              "        vertical-align: top;\n",
              "    }\n",
              "\n",
              "    .dataframe thead th {\n",
              "        text-align: right;\n",
              "    }\n",
              "</style>\n",
              "<table border=\"1\" class=\"dataframe\">\n",
              "  <thead>\n",
              "    <tr style=\"text-align: right;\">\n",
              "      <th></th>\n",
              "      <th>Date</th>\n",
              "      <th>Price_pl</th>\n",
              "      <th>Month</th>\n",
              "      <th>Year</th>\n",
              "      <th>Season</th>\n",
              "    </tr>\n",
              "  </thead>\n",
              "  <tbody>\n",
              "    <tr>\n",
              "      <th>0</th>\n",
              "      <td>2015-11-12</td>\n",
              "      <td>1.049</td>\n",
              "      <td>11</td>\n",
              "      <td>2015</td>\n",
              "      <td>Fall</td>\n",
              "    </tr>\n",
              "    <tr>\n",
              "      <th>1</th>\n",
              "      <td>2015-11-19</td>\n",
              "      <td>0.999</td>\n",
              "      <td>11</td>\n",
              "      <td>2015</td>\n",
              "      <td>Fall</td>\n",
              "    </tr>\n",
              "    <tr>\n",
              "      <th>2</th>\n",
              "      <td>2015-12-07</td>\n",
              "      <td>0.999</td>\n",
              "      <td>12</td>\n",
              "      <td>2015</td>\n",
              "      <td>Winter</td>\n",
              "    </tr>\n",
              "    <tr>\n",
              "      <th>3</th>\n",
              "      <td>2015-12-19</td>\n",
              "      <td>1.019</td>\n",
              "      <td>12</td>\n",
              "      <td>2015</td>\n",
              "      <td>Winter</td>\n",
              "    </tr>\n",
              "    <tr>\n",
              "      <th>4</th>\n",
              "      <td>2016-01-04</td>\n",
              "      <td>1.019</td>\n",
              "      <td>1</td>\n",
              "      <td>2016</td>\n",
              "      <td>Winter</td>\n",
              "    </tr>\n",
              "    <tr>\n",
              "      <th>...</th>\n",
              "      <td>...</td>\n",
              "      <td>...</td>\n",
              "      <td>...</td>\n",
              "      <td>...</td>\n",
              "      <td>...</td>\n",
              "    </tr>\n",
              "    <tr>\n",
              "      <th>77</th>\n",
              "      <td>2018-10-17</td>\n",
              "      <td>1.209</td>\n",
              "      <td>10</td>\n",
              "      <td>2018</td>\n",
              "      <td>Fall</td>\n",
              "    </tr>\n",
              "    <tr>\n",
              "      <th>78</th>\n",
              "      <td>2018-11-01</td>\n",
              "      <td>1.196</td>\n",
              "      <td>11</td>\n",
              "      <td>2018</td>\n",
              "      <td>Fall</td>\n",
              "    </tr>\n",
              "    <tr>\n",
              "      <th>79</th>\n",
              "      <td>2018-11-12</td>\n",
              "      <td>1.126</td>\n",
              "      <td>11</td>\n",
              "      <td>2018</td>\n",
              "      <td>Fall</td>\n",
              "    </tr>\n",
              "    <tr>\n",
              "      <th>80</th>\n",
              "      <td>2018-11-27</td>\n",
              "      <td>1.059</td>\n",
              "      <td>11</td>\n",
              "      <td>2018</td>\n",
              "      <td>Fall</td>\n",
              "    </tr>\n",
              "    <tr>\n",
              "      <th>81</th>\n",
              "      <td>2018-12-06</td>\n",
              "      <td>1.016</td>\n",
              "      <td>12</td>\n",
              "      <td>2018</td>\n",
              "      <td>Winter</td>\n",
              "    </tr>\n",
              "  </tbody>\n",
              "</table>\n",
              "<p>82 rows × 5 columns</p>\n",
              "</div>"
            ],
            "text/plain": [
              "         Date  Price_pl  Month  Year  Season\n",
              "0  2015-11-12     1.049     11  2015    Fall\n",
              "1  2015-11-19     0.999     11  2015    Fall\n",
              "2  2015-12-07     0.999     12  2015  Winter\n",
              "3  2015-12-19     1.019     12  2015  Winter\n",
              "4  2016-01-04     1.019      1  2016  Winter\n",
              "..        ...       ...    ...   ...     ...\n",
              "77 2018-10-17     1.209     10  2018    Fall\n",
              "78 2018-11-01     1.196     11  2018    Fall\n",
              "79 2018-11-12     1.126     11  2018    Fall\n",
              "80 2018-11-27     1.059     11  2018    Fall\n",
              "81 2018-12-06     1.016     12  2018  Winter\n",
              "\n",
              "[82 rows x 5 columns]"
            ]
          },
          "metadata": {},
          "execution_count": 86
        }
      ]
    },
    {
      "cell_type": "code",
      "metadata": {
        "colab": {
          "base_uri": "https://localhost:8080/",
          "height": 452
        },
        "id": "LaSUlxM009mK",
        "outputId": "f6948cd4-9101-47f5-e8a1-19c650d422ec"
      },
      "source": [
        "#set it as a secondary index\n",
        "table = pd.pivot_table(gas_price, values='Price_pl', index=['Month','Season'], columns=['Year'])\n",
        "table"
      ],
      "execution_count": 88,
      "outputs": [
        {
          "output_type": "execute_result",
          "data": {
            "text/html": [
              "<div>\n",
              "<style scoped>\n",
              "    .dataframe tbody tr th:only-of-type {\n",
              "        vertical-align: middle;\n",
              "    }\n",
              "\n",
              "    .dataframe tbody tr th {\n",
              "        vertical-align: top;\n",
              "    }\n",
              "\n",
              "    .dataframe thead th {\n",
              "        text-align: right;\n",
              "    }\n",
              "</style>\n",
              "<table border=\"1\" class=\"dataframe\">\n",
              "  <thead>\n",
              "    <tr style=\"text-align: right;\">\n",
              "      <th></th>\n",
              "      <th>Year</th>\n",
              "      <th>2015</th>\n",
              "      <th>2016</th>\n",
              "      <th>2017</th>\n",
              "      <th>2018</th>\n",
              "    </tr>\n",
              "    <tr>\n",
              "      <th>Month</th>\n",
              "      <th>Season</th>\n",
              "      <th></th>\n",
              "      <th></th>\n",
              "      <th></th>\n",
              "      <th></th>\n",
              "    </tr>\n",
              "  </thead>\n",
              "  <tbody>\n",
              "    <tr>\n",
              "      <th>1</th>\n",
              "      <th>Winter</th>\n",
              "      <td>NaN</td>\n",
              "      <td>0.964000</td>\n",
              "      <td>1.119000</td>\n",
              "      <td>1.197500</td>\n",
              "    </tr>\n",
              "    <tr>\n",
              "      <th>2</th>\n",
              "      <th>Winter</th>\n",
              "      <td>NaN</td>\n",
              "      <td>0.899000</td>\n",
              "      <td>1.079000</td>\n",
              "      <td>1.186000</td>\n",
              "    </tr>\n",
              "    <tr>\n",
              "      <th>3</th>\n",
              "      <th>Spring</th>\n",
              "      <td>NaN</td>\n",
              "      <td>0.929000</td>\n",
              "      <td>1.075000</td>\n",
              "      <td>1.215000</td>\n",
              "    </tr>\n",
              "    <tr>\n",
              "      <th>4</th>\n",
              "      <th>Spring</th>\n",
              "      <td>NaN</td>\n",
              "      <td>1.031500</td>\n",
              "      <td>1.175667</td>\n",
              "      <td>1.287750</td>\n",
              "    </tr>\n",
              "    <tr>\n",
              "      <th>5</th>\n",
              "      <th>Spring</th>\n",
              "      <td>NaN</td>\n",
              "      <td>1.075667</td>\n",
              "      <td>1.109000</td>\n",
              "      <td>1.328333</td>\n",
              "    </tr>\n",
              "    <tr>\n",
              "      <th>6</th>\n",
              "      <th>Summer</th>\n",
              "      <td>NaN</td>\n",
              "      <td>1.048000</td>\n",
              "      <td>1.022000</td>\n",
              "      <td>1.289000</td>\n",
              "    </tr>\n",
              "    <tr>\n",
              "      <th>7</th>\n",
              "      <th>Summer</th>\n",
              "      <td>NaN</td>\n",
              "      <td>1.024000</td>\n",
              "      <td>1.059000</td>\n",
              "      <td>1.312500</td>\n",
              "    </tr>\n",
              "    <tr>\n",
              "      <th>8</th>\n",
              "      <th>Summer</th>\n",
              "      <td>NaN</td>\n",
              "      <td>0.993875</td>\n",
              "      <td>1.100667</td>\n",
              "      <td>NaN</td>\n",
              "    </tr>\n",
              "    <tr>\n",
              "      <th>9</th>\n",
              "      <th>Fall</th>\n",
              "      <td>NaN</td>\n",
              "      <td>0.999000</td>\n",
              "      <td>1.086000</td>\n",
              "      <td>NaN</td>\n",
              "    </tr>\n",
              "    <tr>\n",
              "      <th>10</th>\n",
              "      <th>Fall</th>\n",
              "      <td>NaN</td>\n",
              "      <td>1.049000</td>\n",
              "      <td>1.126000</td>\n",
              "      <td>1.209000</td>\n",
              "    </tr>\n",
              "    <tr>\n",
              "      <th>11</th>\n",
              "      <th>Fall</th>\n",
              "      <td>1.024</td>\n",
              "      <td>0.949000</td>\n",
              "      <td>1.183000</td>\n",
              "      <td>1.127000</td>\n",
              "    </tr>\n",
              "    <tr>\n",
              "      <th>12</th>\n",
              "      <th>Winter</th>\n",
              "      <td>1.009</td>\n",
              "      <td>1.074000</td>\n",
              "      <td>1.211000</td>\n",
              "      <td>1.016000</td>\n",
              "    </tr>\n",
              "  </tbody>\n",
              "</table>\n",
              "</div>"
            ],
            "text/plain": [
              "Year           2015      2016      2017      2018\n",
              "Month Season                                     \n",
              "1     Winter    NaN  0.964000  1.119000  1.197500\n",
              "2     Winter    NaN  0.899000  1.079000  1.186000\n",
              "3     Spring    NaN  0.929000  1.075000  1.215000\n",
              "4     Spring    NaN  1.031500  1.175667  1.287750\n",
              "5     Spring    NaN  1.075667  1.109000  1.328333\n",
              "6     Summer    NaN  1.048000  1.022000  1.289000\n",
              "7     Summer    NaN  1.024000  1.059000  1.312500\n",
              "8     Summer    NaN  0.993875  1.100667       NaN\n",
              "9     Fall      NaN  0.999000  1.086000       NaN\n",
              "10    Fall      NaN  1.049000  1.126000  1.209000\n",
              "11    Fall    1.024  0.949000  1.183000  1.127000\n",
              "12    Winter  1.009  1.074000  1.211000  1.016000"
            ]
          },
          "metadata": {},
          "execution_count": 88
        }
      ]
    },
    {
      "cell_type": "code",
      "metadata": {
        "colab": {
          "base_uri": "https://localhost:8080/",
          "height": 204
        },
        "id": "-zSLAA9f0Wdu",
        "outputId": "7ea0cf8f-877f-49e0-bb5e-49d3f240ec5b"
      },
      "source": [
        "table_season = pd.pivot_table(gas_price, values='Price_pl', index=['Season'])\n",
        "table_season"
      ],
      "execution_count": 87,
      "outputs": [
        {
          "output_type": "execute_result",
          "data": {
            "text/html": [
              "<div>\n",
              "<style scoped>\n",
              "    .dataframe tbody tr th:only-of-type {\n",
              "        vertical-align: middle;\n",
              "    }\n",
              "\n",
              "    .dataframe tbody tr th {\n",
              "        vertical-align: top;\n",
              "    }\n",
              "\n",
              "    .dataframe thead th {\n",
              "        text-align: right;\n",
              "    }\n",
              "</style>\n",
              "<table border=\"1\" class=\"dataframe\">\n",
              "  <thead>\n",
              "    <tr style=\"text-align: right;\">\n",
              "      <th></th>\n",
              "      <th>Price_pl</th>\n",
              "    </tr>\n",
              "    <tr>\n",
              "      <th>Season</th>\n",
              "      <th></th>\n",
              "    </tr>\n",
              "  </thead>\n",
              "  <tbody>\n",
              "    <tr>\n",
              "      <th>Fall</th>\n",
              "      <td>1.073429</td>\n",
              "    </tr>\n",
              "    <tr>\n",
              "      <th>Spring</th>\n",
              "      <td>1.133019</td>\n",
              "    </tr>\n",
              "    <tr>\n",
              "      <th>Summer</th>\n",
              "      <td>1.086147</td>\n",
              "    </tr>\n",
              "    <tr>\n",
              "      <th>Winter</th>\n",
              "      <td>1.072417</td>\n",
              "    </tr>\n",
              "  </tbody>\n",
              "</table>\n",
              "</div>"
            ],
            "text/plain": [
              "        Price_pl\n",
              "Season          \n",
              "Fall    1.073429\n",
              "Spring  1.133019\n",
              "Summer  1.086147\n",
              "Winter  1.072417"
            ]
          },
          "metadata": {},
          "execution_count": 87
        }
      ]
    },
    {
      "cell_type": "markdown",
      "metadata": {
        "id": "nIA9ziYP1ReG"
      },
      "source": [
        "# 4 Pivot, aggregate and plot timeseries"
      ]
    },
    {
      "cell_type": "markdown",
      "metadata": {
        "id": "MoEbP2mR1Zz2"
      },
      "source": [
        "> 1. Import \fle TREB data.xls as a pandas DataFrame. Create the necessary columns to pivot and generate the table below with the value of Sales (hint: use the split()\n",
        "function to split the MonthYear column to Month and Year)."
      ]
    },
    {
      "cell_type": "code",
      "metadata": {
        "colab": {
          "base_uri": "https://localhost:8080/",
          "height": 204
        },
        "id": "U9gWNf4Z1m2g",
        "outputId": "0a2288d3-38ce-4623-ae82-857fb8a344d8"
      },
      "source": [
        "treb = pd.DataFrame(pd.read_excel ('TREB_Data.xlsx'))\n",
        "treb.head()"
      ],
      "execution_count": 96,
      "outputs": [
        {
          "output_type": "execute_result",
          "data": {
            "text/html": [
              "<div>\n",
              "<style scoped>\n",
              "    .dataframe tbody tr th:only-of-type {\n",
              "        vertical-align: middle;\n",
              "    }\n",
              "\n",
              "    .dataframe tbody tr th {\n",
              "        vertical-align: top;\n",
              "    }\n",
              "\n",
              "    .dataframe thead th {\n",
              "        text-align: right;\n",
              "    }\n",
              "</style>\n",
              "<table border=\"1\" class=\"dataframe\">\n",
              "  <thead>\n",
              "    <tr style=\"text-align: right;\">\n",
              "      <th></th>\n",
              "      <th>MonthYear</th>\n",
              "      <th>Sales</th>\n",
              "      <th>AveragePrice</th>\n",
              "    </tr>\n",
              "  </thead>\n",
              "  <tbody>\n",
              "    <tr>\n",
              "      <th>0</th>\n",
              "      <td>January-2017</td>\n",
              "      <td>5155</td>\n",
              "      <td>768351</td>\n",
              "    </tr>\n",
              "    <tr>\n",
              "      <th>1</th>\n",
              "      <td>February-2017</td>\n",
              "      <td>7955</td>\n",
              "      <td>876363</td>\n",
              "    </tr>\n",
              "    <tr>\n",
              "      <th>2</th>\n",
              "      <td>March-2017</td>\n",
              "      <td>11959</td>\n",
              "      <td>915353</td>\n",
              "    </tr>\n",
              "    <tr>\n",
              "      <th>3</th>\n",
              "      <td>April-2017</td>\n",
              "      <td>11470</td>\n",
              "      <td>918138</td>\n",
              "    </tr>\n",
              "    <tr>\n",
              "      <th>4</th>\n",
              "      <td>May-2017</td>\n",
              "      <td>10068</td>\n",
              "      <td>862109</td>\n",
              "    </tr>\n",
              "  </tbody>\n",
              "</table>\n",
              "</div>"
            ],
            "text/plain": [
              "       MonthYear  Sales  AveragePrice\n",
              "0   January-2017   5155        768351\n",
              "1  February-2017   7955        876363\n",
              "2     March-2017  11959        915353\n",
              "3     April-2017  11470        918138\n",
              "4       May-2017  10068        862109"
            ]
          },
          "metadata": {},
          "execution_count": 96
        }
      ]
    },
    {
      "cell_type": "code",
      "metadata": {
        "colab": {
          "base_uri": "https://localhost:8080/",
          "height": 204
        },
        "id": "OAeK5mIS2GXC",
        "outputId": "94e609d1-0679-48b0-aa95-da425804aac7"
      },
      "source": [
        "treb[['Month','Year']] = treb['MonthYear'].str.split('-',expand=True)\n",
        "treb.head()"
      ],
      "execution_count": 98,
      "outputs": [
        {
          "output_type": "execute_result",
          "data": {
            "text/html": [
              "<div>\n",
              "<style scoped>\n",
              "    .dataframe tbody tr th:only-of-type {\n",
              "        vertical-align: middle;\n",
              "    }\n",
              "\n",
              "    .dataframe tbody tr th {\n",
              "        vertical-align: top;\n",
              "    }\n",
              "\n",
              "    .dataframe thead th {\n",
              "        text-align: right;\n",
              "    }\n",
              "</style>\n",
              "<table border=\"1\" class=\"dataframe\">\n",
              "  <thead>\n",
              "    <tr style=\"text-align: right;\">\n",
              "      <th></th>\n",
              "      <th>MonthYear</th>\n",
              "      <th>Sales</th>\n",
              "      <th>AveragePrice</th>\n",
              "      <th>Month</th>\n",
              "      <th>Year</th>\n",
              "    </tr>\n",
              "  </thead>\n",
              "  <tbody>\n",
              "    <tr>\n",
              "      <th>0</th>\n",
              "      <td>January-2017</td>\n",
              "      <td>5155</td>\n",
              "      <td>768351</td>\n",
              "      <td>January</td>\n",
              "      <td>2017</td>\n",
              "    </tr>\n",
              "    <tr>\n",
              "      <th>1</th>\n",
              "      <td>February-2017</td>\n",
              "      <td>7955</td>\n",
              "      <td>876363</td>\n",
              "      <td>February</td>\n",
              "      <td>2017</td>\n",
              "    </tr>\n",
              "    <tr>\n",
              "      <th>2</th>\n",
              "      <td>March-2017</td>\n",
              "      <td>11959</td>\n",
              "      <td>915353</td>\n",
              "      <td>March</td>\n",
              "      <td>2017</td>\n",
              "    </tr>\n",
              "    <tr>\n",
              "      <th>3</th>\n",
              "      <td>April-2017</td>\n",
              "      <td>11470</td>\n",
              "      <td>918138</td>\n",
              "      <td>April</td>\n",
              "      <td>2017</td>\n",
              "    </tr>\n",
              "    <tr>\n",
              "      <th>4</th>\n",
              "      <td>May-2017</td>\n",
              "      <td>10068</td>\n",
              "      <td>862109</td>\n",
              "      <td>May</td>\n",
              "      <td>2017</td>\n",
              "    </tr>\n",
              "  </tbody>\n",
              "</table>\n",
              "</div>"
            ],
            "text/plain": [
              "       MonthYear  Sales  AveragePrice     Month  Year\n",
              "0   January-2017   5155        768351   January  2017\n",
              "1  February-2017   7955        876363  February  2017\n",
              "2     March-2017  11959        915353     March  2017\n",
              "3     April-2017  11470        918138     April  2017\n",
              "4       May-2017  10068        862109       May  2017"
            ]
          },
          "metadata": {},
          "execution_count": 98
        }
      ]
    },
    {
      "cell_type": "code",
      "metadata": {
        "colab": {
          "base_uri": "https://localhost:8080/",
          "height": 452
        },
        "id": "ohq4ga074rxp",
        "outputId": "0bd5d681-70d3-4f2b-863c-9c04311932dc"
      },
      "source": [
        "# create pivot table\n",
        "pt = treb.pivot_table(values='Sales', index='Month', columns='Year')\n",
        "index = ['January','February','March','April','May','June','July','August','September','October','November','December']\n",
        "pt = pt.reindex(index)\n",
        "pt"
      ],
      "execution_count": 104,
      "outputs": [
        {
          "output_type": "execute_result",
          "data": {
            "text/html": [
              "<div>\n",
              "<style scoped>\n",
              "    .dataframe tbody tr th:only-of-type {\n",
              "        vertical-align: middle;\n",
              "    }\n",
              "\n",
              "    .dataframe tbody tr th {\n",
              "        vertical-align: top;\n",
              "    }\n",
              "\n",
              "    .dataframe thead th {\n",
              "        text-align: right;\n",
              "    }\n",
              "</style>\n",
              "<table border=\"1\" class=\"dataframe\">\n",
              "  <thead>\n",
              "    <tr style=\"text-align: right;\">\n",
              "      <th>Year</th>\n",
              "      <th>2013</th>\n",
              "      <th>2014</th>\n",
              "      <th>2015</th>\n",
              "      <th>2016</th>\n",
              "      <th>2017</th>\n",
              "    </tr>\n",
              "    <tr>\n",
              "      <th>Month</th>\n",
              "      <th></th>\n",
              "      <th></th>\n",
              "      <th></th>\n",
              "      <th></th>\n",
              "      <th></th>\n",
              "    </tr>\n",
              "  </thead>\n",
              "  <tbody>\n",
              "    <tr>\n",
              "      <th>January</th>\n",
              "      <td>4230</td>\n",
              "      <td>4103</td>\n",
              "      <td>4318</td>\n",
              "      <td>4640</td>\n",
              "      <td>5155</td>\n",
              "    </tr>\n",
              "    <tr>\n",
              "      <th>February</th>\n",
              "      <td>5615</td>\n",
              "      <td>5696</td>\n",
              "      <td>6294</td>\n",
              "      <td>7582</td>\n",
              "      <td>7955</td>\n",
              "    </tr>\n",
              "    <tr>\n",
              "      <th>March</th>\n",
              "      <td>7536</td>\n",
              "      <td>8052</td>\n",
              "      <td>8886</td>\n",
              "      <td>10260</td>\n",
              "      <td>11959</td>\n",
              "    </tr>\n",
              "    <tr>\n",
              "      <th>April</th>\n",
              "      <td>9537</td>\n",
              "      <td>9660</td>\n",
              "      <td>11254</td>\n",
              "      <td>12016</td>\n",
              "      <td>11470</td>\n",
              "    </tr>\n",
              "    <tr>\n",
              "      <th>May</th>\n",
              "      <td>9945</td>\n",
              "      <td>11013</td>\n",
              "      <td>11640</td>\n",
              "      <td>12789</td>\n",
              "      <td>10068</td>\n",
              "    </tr>\n",
              "    <tr>\n",
              "      <th>June</th>\n",
              "      <td>8821</td>\n",
              "      <td>10132</td>\n",
              "      <td>11905</td>\n",
              "      <td>12725</td>\n",
              "      <td>7896</td>\n",
              "    </tr>\n",
              "    <tr>\n",
              "      <th>July</th>\n",
              "      <td>8367</td>\n",
              "      <td>9152</td>\n",
              "      <td>9813</td>\n",
              "      <td>9929</td>\n",
              "      <td>5871</td>\n",
              "    </tr>\n",
              "    <tr>\n",
              "      <th>August</th>\n",
              "      <td>7390</td>\n",
              "      <td>7568</td>\n",
              "      <td>7943</td>\n",
              "      <td>9748</td>\n",
              "      <td>6310</td>\n",
              "    </tr>\n",
              "    <tr>\n",
              "      <th>September</th>\n",
              "      <td>7256</td>\n",
              "      <td>8001</td>\n",
              "      <td>8147</td>\n",
              "      <td>9828</td>\n",
              "      <td>6340</td>\n",
              "    </tr>\n",
              "    <tr>\n",
              "      <th>October</th>\n",
              "      <td>7940</td>\n",
              "      <td>8512</td>\n",
              "      <td>8759</td>\n",
              "      <td>9715</td>\n",
              "      <td>7087</td>\n",
              "    </tr>\n",
              "    <tr>\n",
              "      <th>November</th>\n",
              "      <td>6354</td>\n",
              "      <td>6475</td>\n",
              "      <td>7337</td>\n",
              "      <td>8503</td>\n",
              "      <td>7353</td>\n",
              "    </tr>\n",
              "    <tr>\n",
              "      <th>December</th>\n",
              "      <td>4058</td>\n",
              "      <td>4418</td>\n",
              "      <td>4917</td>\n",
              "      <td>5305</td>\n",
              "      <td>4930</td>\n",
              "    </tr>\n",
              "  </tbody>\n",
              "</table>\n",
              "</div>"
            ],
            "text/plain": [
              "Year       2013   2014   2015   2016   2017\n",
              "Month                                      \n",
              "January    4230   4103   4318   4640   5155\n",
              "February   5615   5696   6294   7582   7955\n",
              "March      7536   8052   8886  10260  11959\n",
              "April      9537   9660  11254  12016  11470\n",
              "May        9945  11013  11640  12789  10068\n",
              "June       8821  10132  11905  12725   7896\n",
              "July       8367   9152   9813   9929   5871\n",
              "August     7390   7568   7943   9748   6310\n",
              "September  7256   8001   8147   9828   6340\n",
              "October    7940   8512   8759   9715   7087\n",
              "November   6354   6475   7337   8503   7353\n",
              "December   4058   4418   4917   5305   4930"
            ]
          },
          "metadata": {},
          "execution_count": 104
        }
      ]
    },
    {
      "cell_type": "markdown",
      "metadata": {
        "id": "rC6vzWDa57PG"
      },
      "source": [
        "> 2. In one \ffigure, plot 5 lines (one line per year) with the monthly sales versus the month of the year."
      ]
    },
    {
      "cell_type": "code",
      "metadata": {
        "colab": {
          "base_uri": "https://localhost:8080/",
          "height": 350
        },
        "id": "BPq52gMS6DvU",
        "outputId": "8b279d6a-3aa9-4937-e672-e53e5f39dc5a"
      },
      "source": [
        "pt.plot(title='Month v.s. Montly sales', figsize=(8,5))\n",
        "plt.ylabel('Montly sales')\n",
        "plt.show()"
      ],
      "execution_count": 105,
      "outputs": [
        {
          "output_type": "display_data",
          "data": {
            "image/png": "[encoded data removed]",
            "text/plain": [
              "<Figure size 576x360 with 1 Axes>"
            ]
          },
          "metadata": {
            "needs_background": "light"
          }
        }
      ]
    },
    {
      "cell_type": "markdown",
      "metadata": {
        "id": "4hkc3jpo67Bl"
      },
      "source": [
        ">3. Calculate the total Sales per year and create a bar chart. Do this in two different ways:\n",
        "a) group by year the table pre-pivoting, \n",
        "b) summing up the \ffive columns post-pivoting"
      ]
    },
    {
      "cell_type": "code",
      "metadata": {
        "colab": {
          "base_uri": "https://localhost:8080/",
          "height": 430
        },
        "id": "qgx6fRxx77pR",
        "outputId": "eb947f09-5bfe-4854-b33e-b470b67d9158"
      },
      "source": [
        "# method a\n",
        "print(treb.groupby(['Year']).Sales.sum())\n",
        "treb.groupby('Year').Sales.sum().plot.bar(title = 'Sales per year')\n",
        "plt.show()"
      ],
      "execution_count": 108,
      "outputs": [
        {
          "output_type": "stream",
          "name": "stdout",
          "text": [
            "Year\n",
            "2013     87049\n",
            "2014     92782\n",
            "2015    101213\n",
            "2016    113040\n",
            "2017     92394\n",
            "Name: Sales, dtype: int64\n"
          ]
        },
        {
          "output_type": "display_data",
          "data": {
            "image/png": "[encoded data removed]",
            "text/plain": [
              "<Figure size 432x288 with 1 Axes>"
            ]
          },
          "metadata": {
            "needs_background": "light"
          }
        }
      ]
    },
    {
      "cell_type": "code",
      "metadata": {
        "colab": {
          "base_uri": "https://localhost:8080/",
          "height": 430
        },
        "id": "MNqq_Soo7GKC",
        "outputId": "8e4db4da-3ef7-4bbc-d51d-f6416a77fb28"
      },
      "source": [
        "#method b\n",
        "print(pt.sum())\n",
        "pt.sum().plot.bar(title = 'Sales per year')\n",
        "plt.show()"
      ],
      "execution_count": 110,
      "outputs": [
        {
          "output_type": "stream",
          "name": "stdout",
          "text": [
            "Year\n",
            "2013     87049\n",
            "2014     92782\n",
            "2015    101213\n",
            "2016    113040\n",
            "2017     92394\n",
            "dtype: int64\n"
          ]
        },
        {
          "output_type": "display_data",
          "data": {
            "image/png": "[encoded data removed]",
            "text/plain": [
              "<Figure size 432x288 with 1 Axes>"
            ]
          },
          "metadata": {
            "needs_background": "light"
          }
        }
      ]
    }
  ]
}