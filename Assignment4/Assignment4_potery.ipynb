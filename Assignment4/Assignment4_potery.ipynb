{
  "nbformat": 4,
  "nbformat_minor": 0,
  "metadata": {
    "colab": {
      "name": "Assignment4-potery(10.26).ipynb",
      "provenance": [],
      "collapsed_sections": []
    },
    "kernelspec": {
      "name": "python3",
      "display_name": "Python 3"
    },
    "language_info": {
      "name": "python"
    }
  },
  "cells": [
    {
      "cell_type": "markdown",
      "metadata": {
        "id": "Llewdgp1rcSo"
      },
      "source": [
        "# 1 Chemical composition of pottery\n",
        ">You work for a pottery manufacturing company that produces two different types of products A and B. Product A uses raw material from Llanedyrn and Product B uses raw material from\n",
        "Isle Thorns and Ashley Rails. Your company is informed that Llanedyrn will be closing soon for maintenance and your entire production of product A is at risk.\n",
        "\n",
        ">You received a potential new source of raw material from site Caldicot and you analyzed two samples to compare them to your existing samples from the other three sites. As the new data scientist of the company you are asked to look into the data and give your recommendation regarding the suitability of raw material from Caldicot as a replacement for Llanedyrn.\n",
        "\n",
        "\n",
        ">The ask \"look into the data\" normally calls for an unsupervised learning exercise, since there is no clear output you are asked to predict. You will investigate the multivariate chemical composition of the raw material from four different sources using Principal Component Analysis.\n"
      ]
    },
    {
      "cell_type": "markdown",
      "metadata": {
        "id": "gNWbN-Ldsf0D"
      },
      "source": [
        "##1.1 Data exploration with PCA\n",
        "> 1. Import and view the data. How many columns do you have? Which columns will you use in your PCA?\n",
        "\n",
        "The data has 7 columns. I will use the columns named \"Al\", \"Fe\", \"Mg\", \"Ca\", \"Na\"."
      ]
    },
    {
      "cell_type": "code",
      "metadata": {
        "id": "_G-lzifpsxSk"
      },
      "source": [
        "import pandas as pd \n",
        "import numpy as np\n",
        "import matplotlib.pyplot as plt\n",
        "import seaborn as sns\n",
        "from sklearn.decomposition import PCA\n",
        "from sklearn.preprocessing import StandardScaler\n",
        "from sklearn.preprocessing import MaxAbsScaler"
      ],
      "execution_count": 1,
      "outputs": []
    },
    {
      "cell_type": "code",
      "metadata": {
        "id": "eqgLPG15sfA5",
        "colab": {
          "base_uri": "https://localhost:8080/",
          "height": 855
        },
        "outputId": "f55985bd-96b6-4e55-af62-ce61a341fad0"
      },
      "source": [
        "#import and view the data\n",
        "pottery = pd.read_csv('Pottery.csv')\n",
        "pottery"
      ],
      "execution_count": 53,
      "outputs": [
        {
          "output_type": "execute_result",
          "data": {
            "text/html": [
              "<div>\n",
              "<style scoped>\n",
              "    .dataframe tbody tr th:only-of-type {\n",
              "        vertical-align: middle;\n",
              "    }\n",
              "\n",
              "    .dataframe tbody tr th {\n",
              "        vertical-align: top;\n",
              "    }\n",
              "\n",
              "    .dataframe thead th {\n",
              "        text-align: right;\n",
              "    }\n",
              "</style>\n",
              "<table border=\"1\" class=\"dataframe\">\n",
              "  <thead>\n",
              "    <tr style=\"text-align: right;\">\n",
              "      <th></th>\n",
              "      <th>Unnamed: 0</th>\n",
              "      <th>Site</th>\n",
              "      <th>Al</th>\n",
              "      <th>Fe</th>\n",
              "      <th>Mg</th>\n",
              "      <th>Ca</th>\n",
              "      <th>Na</th>\n",
              "    </tr>\n",
              "  </thead>\n",
              "  <tbody>\n",
              "    <tr>\n",
              "      <th>0</th>\n",
              "      <td>1</td>\n",
              "      <td>Llanedyrn</td>\n",
              "      <td>14.4</td>\n",
              "      <td>7.00</td>\n",
              "      <td>4.30</td>\n",
              "      <td>0.15</td>\n",
              "      <td>0.51</td>\n",
              "    </tr>\n",
              "    <tr>\n",
              "      <th>1</th>\n",
              "      <td>2</td>\n",
              "      <td>Llanedyrn</td>\n",
              "      <td>13.8</td>\n",
              "      <td>7.08</td>\n",
              "      <td>3.43</td>\n",
              "      <td>0.12</td>\n",
              "      <td>0.17</td>\n",
              "    </tr>\n",
              "    <tr>\n",
              "      <th>2</th>\n",
              "      <td>3</td>\n",
              "      <td>Llanedyrn</td>\n",
              "      <td>14.6</td>\n",
              "      <td>7.09</td>\n",
              "      <td>3.88</td>\n",
              "      <td>0.13</td>\n",
              "      <td>0.20</td>\n",
              "    </tr>\n",
              "    <tr>\n",
              "      <th>3</th>\n",
              "      <td>4</td>\n",
              "      <td>Llanedyrn</td>\n",
              "      <td>11.5</td>\n",
              "      <td>6.37</td>\n",
              "      <td>5.64</td>\n",
              "      <td>0.16</td>\n",
              "      <td>0.14</td>\n",
              "    </tr>\n",
              "    <tr>\n",
              "      <th>4</th>\n",
              "      <td>5</td>\n",
              "      <td>Llanedyrn</td>\n",
              "      <td>13.8</td>\n",
              "      <td>7.06</td>\n",
              "      <td>5.34</td>\n",
              "      <td>0.20</td>\n",
              "      <td>0.20</td>\n",
              "    </tr>\n",
              "    <tr>\n",
              "      <th>5</th>\n",
              "      <td>6</td>\n",
              "      <td>Llanedyrn</td>\n",
              "      <td>10.9</td>\n",
              "      <td>6.26</td>\n",
              "      <td>3.47</td>\n",
              "      <td>0.17</td>\n",
              "      <td>0.22</td>\n",
              "    </tr>\n",
              "    <tr>\n",
              "      <th>6</th>\n",
              "      <td>7</td>\n",
              "      <td>Llanedyrn</td>\n",
              "      <td>10.1</td>\n",
              "      <td>4.26</td>\n",
              "      <td>4.26</td>\n",
              "      <td>0.20</td>\n",
              "      <td>0.18</td>\n",
              "    </tr>\n",
              "    <tr>\n",
              "      <th>7</th>\n",
              "      <td>8</td>\n",
              "      <td>Llanedyrn</td>\n",
              "      <td>11.6</td>\n",
              "      <td>5.78</td>\n",
              "      <td>5.91</td>\n",
              "      <td>0.18</td>\n",
              "      <td>0.16</td>\n",
              "    </tr>\n",
              "    <tr>\n",
              "      <th>8</th>\n",
              "      <td>9</td>\n",
              "      <td>Llanedyrn</td>\n",
              "      <td>11.1</td>\n",
              "      <td>5.49</td>\n",
              "      <td>4.52</td>\n",
              "      <td>0.29</td>\n",
              "      <td>0.30</td>\n",
              "    </tr>\n",
              "    <tr>\n",
              "      <th>9</th>\n",
              "      <td>10</td>\n",
              "      <td>Llanedyrn</td>\n",
              "      <td>13.4</td>\n",
              "      <td>6.92</td>\n",
              "      <td>7.23</td>\n",
              "      <td>0.28</td>\n",
              "      <td>0.20</td>\n",
              "    </tr>\n",
              "    <tr>\n",
              "      <th>10</th>\n",
              "      <td>11</td>\n",
              "      <td>Llanedyrn</td>\n",
              "      <td>12.4</td>\n",
              "      <td>6.13</td>\n",
              "      <td>5.69</td>\n",
              "      <td>0.22</td>\n",
              "      <td>0.54</td>\n",
              "    </tr>\n",
              "    <tr>\n",
              "      <th>11</th>\n",
              "      <td>12</td>\n",
              "      <td>Llanedyrn</td>\n",
              "      <td>13.1</td>\n",
              "      <td>6.64</td>\n",
              "      <td>5.51</td>\n",
              "      <td>0.31</td>\n",
              "      <td>0.24</td>\n",
              "    </tr>\n",
              "    <tr>\n",
              "      <th>12</th>\n",
              "      <td>13</td>\n",
              "      <td>Llanedyrn</td>\n",
              "      <td>12.7</td>\n",
              "      <td>6.69</td>\n",
              "      <td>4.45</td>\n",
              "      <td>0.20</td>\n",
              "      <td>0.22</td>\n",
              "    </tr>\n",
              "    <tr>\n",
              "      <th>13</th>\n",
              "      <td>14</td>\n",
              "      <td>Llanedyrn</td>\n",
              "      <td>12.5</td>\n",
              "      <td>6.44</td>\n",
              "      <td>3.94</td>\n",
              "      <td>0.22</td>\n",
              "      <td>0.23</td>\n",
              "    </tr>\n",
              "    <tr>\n",
              "      <th>14</th>\n",
              "      <td>15</td>\n",
              "      <td>Caldicot</td>\n",
              "      <td>11.8</td>\n",
              "      <td>5.44</td>\n",
              "      <td>3.94</td>\n",
              "      <td>0.30</td>\n",
              "      <td>0.04</td>\n",
              "    </tr>\n",
              "    <tr>\n",
              "      <th>15</th>\n",
              "      <td>16</td>\n",
              "      <td>Caldicot</td>\n",
              "      <td>11.6</td>\n",
              "      <td>5.39</td>\n",
              "      <td>3.77</td>\n",
              "      <td>0.29</td>\n",
              "      <td>0.06</td>\n",
              "    </tr>\n",
              "    <tr>\n",
              "      <th>16</th>\n",
              "      <td>17</td>\n",
              "      <td>IsleThorns</td>\n",
              "      <td>18.3</td>\n",
              "      <td>1.28</td>\n",
              "      <td>0.67</td>\n",
              "      <td>0.03</td>\n",
              "      <td>0.03</td>\n",
              "    </tr>\n",
              "    <tr>\n",
              "      <th>17</th>\n",
              "      <td>18</td>\n",
              "      <td>IsleThorns</td>\n",
              "      <td>15.8</td>\n",
              "      <td>2.39</td>\n",
              "      <td>0.63</td>\n",
              "      <td>0.01</td>\n",
              "      <td>0.04</td>\n",
              "    </tr>\n",
              "    <tr>\n",
              "      <th>18</th>\n",
              "      <td>19</td>\n",
              "      <td>IsleThorns</td>\n",
              "      <td>18.0</td>\n",
              "      <td>1.50</td>\n",
              "      <td>0.67</td>\n",
              "      <td>0.01</td>\n",
              "      <td>0.06</td>\n",
              "    </tr>\n",
              "    <tr>\n",
              "      <th>19</th>\n",
              "      <td>20</td>\n",
              "      <td>IsleThorns</td>\n",
              "      <td>18.0</td>\n",
              "      <td>1.88</td>\n",
              "      <td>0.68</td>\n",
              "      <td>0.01</td>\n",
              "      <td>0.04</td>\n",
              "    </tr>\n",
              "    <tr>\n",
              "      <th>20</th>\n",
              "      <td>21</td>\n",
              "      <td>IsleThorns</td>\n",
              "      <td>20.8</td>\n",
              "      <td>1.51</td>\n",
              "      <td>0.72</td>\n",
              "      <td>0.07</td>\n",
              "      <td>0.10</td>\n",
              "    </tr>\n",
              "    <tr>\n",
              "      <th>21</th>\n",
              "      <td>22</td>\n",
              "      <td>AshleyRails</td>\n",
              "      <td>17.7</td>\n",
              "      <td>1.12</td>\n",
              "      <td>0.56</td>\n",
              "      <td>0.06</td>\n",
              "      <td>0.06</td>\n",
              "    </tr>\n",
              "    <tr>\n",
              "      <th>22</th>\n",
              "      <td>23</td>\n",
              "      <td>AshleyRails</td>\n",
              "      <td>18.3</td>\n",
              "      <td>1.14</td>\n",
              "      <td>0.67</td>\n",
              "      <td>0.06</td>\n",
              "      <td>0.05</td>\n",
              "    </tr>\n",
              "    <tr>\n",
              "      <th>23</th>\n",
              "      <td>24</td>\n",
              "      <td>AshleyRails</td>\n",
              "      <td>16.7</td>\n",
              "      <td>0.92</td>\n",
              "      <td>0.53</td>\n",
              "      <td>0.01</td>\n",
              "      <td>0.05</td>\n",
              "    </tr>\n",
              "    <tr>\n",
              "      <th>24</th>\n",
              "      <td>25</td>\n",
              "      <td>AshleyRails</td>\n",
              "      <td>14.8</td>\n",
              "      <td>2.74</td>\n",
              "      <td>0.67</td>\n",
              "      <td>0.03</td>\n",
              "      <td>0.05</td>\n",
              "    </tr>\n",
              "    <tr>\n",
              "      <th>25</th>\n",
              "      <td>26</td>\n",
              "      <td>AshleyRails</td>\n",
              "      <td>19.1</td>\n",
              "      <td>1.64</td>\n",
              "      <td>0.60</td>\n",
              "      <td>0.10</td>\n",
              "      <td>0.03</td>\n",
              "    </tr>\n",
              "  </tbody>\n",
              "</table>\n",
              "</div>"
            ],
            "text/plain": [
              "    Unnamed: 0         Site    Al    Fe    Mg    Ca    Na\n",
              "0            1    Llanedyrn  14.4  7.00  4.30  0.15  0.51\n",
              "1            2    Llanedyrn  13.8  7.08  3.43  0.12  0.17\n",
              "2            3    Llanedyrn  14.6  7.09  3.88  0.13  0.20\n",
              "3            4    Llanedyrn  11.5  6.37  5.64  0.16  0.14\n",
              "4            5    Llanedyrn  13.8  7.06  5.34  0.20  0.20\n",
              "5            6    Llanedyrn  10.9  6.26  3.47  0.17  0.22\n",
              "6            7    Llanedyrn  10.1  4.26  4.26  0.20  0.18\n",
              "7            8    Llanedyrn  11.6  5.78  5.91  0.18  0.16\n",
              "8            9    Llanedyrn  11.1  5.49  4.52  0.29  0.30\n",
              "9           10    Llanedyrn  13.4  6.92  7.23  0.28  0.20\n",
              "10          11    Llanedyrn  12.4  6.13  5.69  0.22  0.54\n",
              "11          12    Llanedyrn  13.1  6.64  5.51  0.31  0.24\n",
              "12          13    Llanedyrn  12.7  6.69  4.45  0.20  0.22\n",
              "13          14    Llanedyrn  12.5  6.44  3.94  0.22  0.23\n",
              "14          15     Caldicot  11.8  5.44  3.94  0.30  0.04\n",
              "15          16     Caldicot  11.6  5.39  3.77  0.29  0.06\n",
              "16          17   IsleThorns  18.3  1.28  0.67  0.03  0.03\n",
              "17          18   IsleThorns  15.8  2.39  0.63  0.01  0.04\n",
              "18          19   IsleThorns  18.0  1.50  0.67  0.01  0.06\n",
              "19          20   IsleThorns  18.0  1.88  0.68  0.01  0.04\n",
              "20          21   IsleThorns  20.8  1.51  0.72  0.07  0.10\n",
              "21          22  AshleyRails  17.7  1.12  0.56  0.06  0.06\n",
              "22          23  AshleyRails  18.3  1.14  0.67  0.06  0.05\n",
              "23          24  AshleyRails  16.7  0.92  0.53  0.01  0.05\n",
              "24          25  AshleyRails  14.8  2.74  0.67  0.03  0.05\n",
              "25          26  AshleyRails  19.1  1.64  0.60  0.10  0.03"
            ]
          },
          "metadata": {},
          "execution_count": 53
        }
      ]
    },
    {
      "cell_type": "code",
      "metadata": {
        "colab": {
          "base_uri": "https://localhost:8080/",
          "height": 0
        },
        "id": "WPKC0Ligi-Lj",
        "outputId": "11bdc30c-e9e5-4772-ec35-a7739b1c87bc"
      },
      "source": [
        "#number of columns\n",
        "print(f\"There are {pottery.shape[1]} columns\")"
      ],
      "execution_count": 12,
      "outputs": [
        {
          "output_type": "stream",
          "name": "stdout",
          "text": [
            "There are 7 columns\n"
          ]
        }
      ]
    },
    {
      "cell_type": "markdown",
      "metadata": {
        "id": "2618FMNPsttE"
      },
      "source": [
        ">2. Pre-process the data and perform PCA with 3 PCs."
      ]
    },
    {
      "cell_type": "code",
      "metadata": {
        "id": "5rHvuMx3ss3D",
        "colab": {
          "base_uri": "https://localhost:8080/",
          "height": 204
        },
        "outputId": "e522fd92-f60d-4d67-f612-cb3ca85e5fcc"
      },
      "source": [
        "#create new index with the format of site+number\n",
        "index = pottery.index.astype(str)\n",
        "new_index = [a + b for a, b in zip(pottery.Site, index)]\n",
        "#reindex\n",
        "pottery = pd.DataFrame(pottery.values, index = new_index, columns = pottery.columns)\n",
        "#drop the column \"Unnamed: 0\", \"Site\"\n",
        "pottery = pottery.drop([\"Unnamed: 0\", \"Site\"], axis = 1)\n",
        "pottery.head()"
      ],
      "execution_count": 28,
      "outputs": [
        {
          "output_type": "execute_result",
          "data": {
            "text/html": [
              "<div>\n",
              "<style scoped>\n",
              "    .dataframe tbody tr th:only-of-type {\n",
              "        vertical-align: middle;\n",
              "    }\n",
              "\n",
              "    .dataframe tbody tr th {\n",
              "        vertical-align: top;\n",
              "    }\n",
              "\n",
              "    .dataframe thead th {\n",
              "        text-align: right;\n",
              "    }\n",
              "</style>\n",
              "<table border=\"1\" class=\"dataframe\">\n",
              "  <thead>\n",
              "    <tr style=\"text-align: right;\">\n",
              "      <th></th>\n",
              "      <th>Al</th>\n",
              "      <th>Fe</th>\n",
              "      <th>Mg</th>\n",
              "      <th>Ca</th>\n",
              "      <th>Na</th>\n",
              "    </tr>\n",
              "  </thead>\n",
              "  <tbody>\n",
              "    <tr>\n",
              "      <th>Llanedyrn0</th>\n",
              "      <td>14.4</td>\n",
              "      <td>7</td>\n",
              "      <td>4.3</td>\n",
              "      <td>0.15</td>\n",
              "      <td>0.51</td>\n",
              "    </tr>\n",
              "    <tr>\n",
              "      <th>Llanedyrn1</th>\n",
              "      <td>13.8</td>\n",
              "      <td>7.08</td>\n",
              "      <td>3.43</td>\n",
              "      <td>0.12</td>\n",
              "      <td>0.17</td>\n",
              "    </tr>\n",
              "    <tr>\n",
              "      <th>Llanedyrn2</th>\n",
              "      <td>14.6</td>\n",
              "      <td>7.09</td>\n",
              "      <td>3.88</td>\n",
              "      <td>0.13</td>\n",
              "      <td>0.2</td>\n",
              "    </tr>\n",
              "    <tr>\n",
              "      <th>Llanedyrn3</th>\n",
              "      <td>11.5</td>\n",
              "      <td>6.37</td>\n",
              "      <td>5.64</td>\n",
              "      <td>0.16</td>\n",
              "      <td>0.14</td>\n",
              "    </tr>\n",
              "    <tr>\n",
              "      <th>Llanedyrn4</th>\n",
              "      <td>13.8</td>\n",
              "      <td>7.06</td>\n",
              "      <td>5.34</td>\n",
              "      <td>0.2</td>\n",
              "      <td>0.2</td>\n",
              "    </tr>\n",
              "  </tbody>\n",
              "</table>\n",
              "</div>"
            ],
            "text/plain": [
              "              Al    Fe    Mg    Ca    Na\n",
              "Llanedyrn0  14.4     7   4.3  0.15  0.51\n",
              "Llanedyrn1  13.8  7.08  3.43  0.12  0.17\n",
              "Llanedyrn2  14.6  7.09  3.88  0.13   0.2\n",
              "Llanedyrn3  11.5  6.37  5.64  0.16  0.14\n",
              "Llanedyrn4  13.8  7.06  5.34   0.2   0.2"
            ]
          },
          "metadata": {},
          "execution_count": 28
        }
      ]
    },
    {
      "cell_type": "code",
      "metadata": {
        "id": "AtPm7iDUtcxN"
      },
      "source": [
        "#scale the data\n",
        "scaler = StandardScaler()\n",
        "pottery_scaled = scaler.fit_transform(pottery)"
      ],
      "execution_count": 29,
      "outputs": []
    },
    {
      "cell_type": "code",
      "metadata": {
        "id": "vBuBl0uutupl"
      },
      "source": [
        "#perform PCA with 3PCs\n",
        "pca = PCA(n_components=3, svd_solver='full')\n",
        "pca_scores = pca.fit_transform(pottery_scaled)\n",
        "scores_pd = pd.DataFrame(data = pca_scores, columns = ['PC1', 'PC2', 'PC3'], index = pottery.index)\n",
        "loadings_pd = pd.DataFrame(data = pca.components_.T, columns = ['PC1', 'PC2', 'PC3'], index = pottery.columns)"
      ],
      "execution_count": 32,
      "outputs": []
    },
    {
      "cell_type": "markdown",
      "metadata": {
        "id": "em2SyShRszQ2"
      },
      "source": [
        "> 3. Plot the cumulative explained variance graph. What percent of the variance do the first 2 and 3 components describe?\n",
        "\n",
        "The first 2 components describe 89.73213663789889 percent of the variance.\n",
        "\n",
        "\n",
        "The first 3 components describe 94.61598027980749 percent of the variance."
      ]
    },
    {
      "cell_type": "code",
      "metadata": {
        "id": "UOkEPgB0q6nA",
        "colab": {
          "base_uri": "https://localhost:8080/",
          "height": 298
        },
        "outputId": "126aea71-ffce-423b-c7fc-45ccbac9c726"
      },
      "source": [
        "#plot the cumulative explained variance graph\n",
        "pca_all = PCA(n_components=5, svd_solver='full')\n",
        "pca_all.fit(pottery_scaled)\n",
        "plt.plot(range(1,pca_all.n_components+1), np.cumsum(pca_all.explained_variance_ratio_),'-o')\n",
        "plt.xlabel('Number of components', fontsize=12)\n",
        "plt.ylabel('Cumulative explained variance', fontsize=12)\n",
        "plt.title('Cumulative explained variance graph')\n",
        "plt.tick_params(labelsize=10)\n",
        "plt.ylim(0,1)\n",
        "plt.show()"
      ],
      "execution_count": 39,
      "outputs": [
        {
          "output_type": "display_data",
          "data": {
            "image/png": "[encoded data removed]",
            "text/plain": [
              "<Figure size 432x288 with 1 Axes>"
            ]
          },
          "metadata": {
            "needs_background": "light"
          }
        }
      ]
    },
    {
      "cell_type": "code",
      "metadata": {
        "colab": {
          "base_uri": "https://localhost:8080/",
          "height": 0
        },
        "id": "R2X0y2zixKoE",
        "outputId": "4f060607-aba4-4881-b8f6-e45919a2b04f"
      },
      "source": [
        "#percent of the variance\n",
        "print(f\"The first 2 components describe {sum(pca_all.explained_variance_ratio_[:2])*100} percent of the variance\")\n",
        "print(f\"The first 3 components describe {sum(pca_all.explained_variance_ratio_[:3])*100} percent of the variance\")"
      ],
      "execution_count": 40,
      "outputs": [
        {
          "output_type": "stream",
          "name": "stdout",
          "text": [
            "The first 2 components describe 89.73213663789889 percent of the variance\n",
            "The first 3 components describe 94.61598027980749 percent of the variance\n"
          ]
        }
      ]
    },
    {
      "cell_type": "markdown",
      "metadata": {
        "id": "kpZNzSoRs9Ow"
      },
      "source": [
        "> 4. Plot the scores-loadings graph for PC1-PC2. Visualize the different sites with a different colour or symbol."
      ]
    },
    {
      "cell_type": "code",
      "metadata": {
        "id": "K7abnGCfs2Vf"
      },
      "source": [
        "def myplot(scores,loadings,loading_labels=None,score_labels=None):\n",
        "    # adjusting the scores to fit in (-1,1)\n",
        "    xt = scores[:,0]\n",
        "    yt = scores[:,1]\n",
        "    n = loadings.shape[0]\n",
        "    scalext = 1.0/(xt.max() - xt.min())\n",
        "    scaleyt = 1.0/(yt.max() - yt.min())\n",
        "    xt_scaled = xt * scalext\n",
        "    yt_scaled = yt * scaleyt\n",
        "    # adjusting the loadings to fit in (-1,1)\n",
        "    p = loadings\n",
        "    p_scaled = MaxAbsScaler().fit_transform(p)\n",
        "\n",
        "    # Visualize the different sites with a different colour and symbol\n",
        "    for (x,y), label in zip(np.vstack((xt_scaled, yt_scaled)).T, score_labels):\n",
        "        if 'AshleyRails' in label:\n",
        "            plt.text(x, y, 'A', ha='center', size=12, color = 'g')\n",
        "        elif 'Caldicot' in label:\n",
        "            plt.text(x, y, 'C', ha='center', size=12, color = 'gold')\n",
        "        elif 'IsleThorns' in label:\n",
        "            plt.text(x, y, 'IT', ha='center', size=12, color = 'b')\n",
        "        else:\n",
        "            plt.text(x, y, 'L', ha='center', size=12, color = 'red')\n",
        "\n",
        "    \n",
        "    for i in range(n):\n",
        "        plt.arrow(0, 0, p_scaled[i,0], p_scaled[i,1], color = 'black',alpha = 0.5)\n",
        "        plt.text(p_scaled[i,0], p_scaled[i,1], loading_labels[i], color = 'black', ha = 'center', va = 'center', size=15)\n",
        "\n",
        "    plt.xlim(-1,1)\n",
        "    plt.ylim(-1,1)\n",
        "    plt.xlabel(\"PC{}\".format(1), fontsize=15);\n",
        "    plt.ylabel(\"PC{}\".format(2), fontsize=15);\n",
        "    plt.tick_params(labelsize=12)\n",
        "    plt.grid()"
      ],
      "execution_count": 50,
      "outputs": []
    },
    {
      "cell_type": "code",
      "metadata": {
        "colab": {
          "base_uri": "https://localhost:8080/",
          "height": 427
        },
        "id": "bT3Ahlkt2RY9",
        "outputId": "a4054e07-3a58-44e3-a9e1-0a473d72d4f7"
      },
      "source": [
        "plt.rcParams[\"figure.figsize\"] = [12,8]\n",
        "myplot(pca_scores[:,:2],loadings_pd.iloc[:,:2],loading_labels=loadings_pd.index,score_labels=scores_pd.index)\n",
        "plt.show()"
      ],
      "execution_count": 51,
      "outputs": [
        {
          "output_type": "display_data",
          "data": {
            "image/png": "[encoded data removed]",
            "text/plain": [
              "<Figure size 864x576 with 1 Axes>"
            ]
          },
          "metadata": {
            "needs_background": "light"
          }
        }
      ]
    },
    {
      "cell_type": "markdown",
      "metadata": {
        "id": "IxVuZqDStD39"
      },
      "source": [
        "> 5. How does the map of scores-loadings explains the reason that your company uses the raw material from Isle Thorns and Ashley Rails to manufacture Product B?\n",
        "\n",
        "As shown in the map, samples from Isle Thorns and Ashley Rails cluster together, which indicates that they all have similar properties. They both contain a high concentration of Al and a low concentration of Ca, Mg, Fe."
      ]
    },
    {
      "cell_type": "markdown",
      "metadata": {
        "id": "iWDePlfWtNYX"
      },
      "source": [
        "> 6. Is the raw material from Caldicot a good replacement for Llanedyrn? Yes or no and why?\n",
        "\n",
        "No. Raw material from Caldicot is not a good replacement for Llanedyrn. Samples from Caldicot are close to some samples from Llanedyrn. Two samples in the top left show a high concentration of Na, the rest show an above-average concentration of Na, but the samples from Caldicot have an average concentration of Na."
      ]
    },
    {
      "cell_type": "markdown",
      "metadata": {
        "id": "hmSMiQ-_tSpX"
      },
      "source": [
        "> 7. What are the biggest differences in the two big clusters? How are the two samples from the candidate Caldicot different than the Llanedyrn samples?\n",
        "\n",
        "\n",
        "The first cluster including samples from Isle Thorns and Ashley Rails contain a high concentration of Al, a low concentration of Ca, Mg, Fe, Na. The other cluster including samples from Llanedyrn has a high concentration of Ca, Mg, Fe, Na, a low concentration of Al.\n",
        "\n",
        "\n",
        "The samples from Llanedyrn have an above-average concentration of Na, but the samples from Caldicot have approximately average concentration of Na. \n"
      ]
    },
    {
      "cell_type": "markdown",
      "metadata": {
        "id": "Jue5cqd2tgtT"
      },
      "source": [
        "> 8. Confirm the answers by producing the boxplot of the 5 variables grouped by the site of the raw material shown below."
      ]
    },
    {
      "cell_type": "code",
      "metadata": {
        "id": "yMIqXhGOtMab",
        "colab": {
          "base_uri": "https://localhost:8080/",
          "height": 442
        },
        "outputId": "61a25f78-9fed-4d0c-ecac-c670c43e49f7"
      },
      "source": [
        "f, axes = plt.subplots(2, 3)\n",
        "f.tight_layout()\n",
        "sns.boxplot(y=\"Al\", x= \"Site\", data=pottery,  orient='v', ax=axes[0,0]).set(title='Al')\n",
        "sns.boxplot(y=\"Fe\", x= \"Site\", data=pottery,  orient='v', ax=axes[0,1]).set(title='Fe')\n",
        "sns.boxplot(y=\"Mg\", x= \"Site\", data=pottery,  orient='v', ax=axes[0,2]).set(title='Mg')\n",
        "sns.boxplot(y=\"Ca\", x= \"Site\", data=pottery,  orient='v', ax=axes[1,0]).set(title='Ca')\n",
        "sns.boxplot(y=\"Na\", x= \"Site\", data=pottery,  orient='v', ax=axes[1,1]).set(title='Na')\n",
        "plt.subplots_adjust(hspace = 0.2)\n",
        "plt.show()"
      ],
      "execution_count": 68,
      "outputs": [
        {
          "output_type": "display_data",
          "data": {
            "image/png": "[encoded data removed]",
            "text/plain": [
              "<Figure size 864x576 with 6 Axes>"
            ]
          },
          "metadata": {
            "needs_background": "light"
          }
        }
      ]
    }
  ]
}