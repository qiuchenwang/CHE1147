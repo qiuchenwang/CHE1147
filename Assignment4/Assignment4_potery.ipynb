{
  "nbformat": 4,
  "nbformat_minor": 0,
  "metadata": {
    "colab": {
      "name": "Assignment4-potery(10.26).ipynb",
      "provenance": []
    },
    "kernelspec": {
      "name": "python3",
      "display_name": "Python 3"
    },
    "language_info": {
      "name": "python"
    }
  },
  "cells": [
    {
      "cell_type": "markdown",
      "metadata": {
        "id": "Llewdgp1rcSo"
      },
      "source": [
        "# 1 Chemical composition of pottery\n",
        ">You work for a pottery manufacturing company that produces two different types of products A and B. Product A uses raw material from Llanedyrn and Product B uses raw material from\n",
        "Isle Thorns and Ashley Rails. Your company is informed that Llanedyrn will be closing soon for maintenance and your entire production of product A is at risk.\n",
        "\n",
        ">You received a potential new source of raw material from site Caldicot and you analyzed two samples to compare them to your existing samples from the other three sites. As the new data scientist of the company you are asked to look into the data and give your recommendation regarding the suitability of raw material from Caldicot as a replacement for Llanedyrn.\n",
        "\n",
        "\n",
        ">The ask \"look into the data\" normally calls for an unsupervised learning exercise, since there is no clear output you are asked to predict. You will investigate the multivariate chemical composition of the raw material from four different sources using Principal Component Analysis.\n"
      ]
    },
    {
      "cell_type": "markdown",
      "metadata": {
        "id": "gNWbN-Ldsf0D"
      },
      "source": [
        "##1.1 Data exploration with PCA\n",
        "> 1. Import and view the data. How many columns do you have? Which columns will you use in your PCA?"
      ]
    },
    {
      "cell_type": "code",
      "metadata": {
        "id": "_G-lzifpsxSk"
      },
      "source": [
        ""
      ],
      "execution_count": null,
      "outputs": []
    },
    {
      "cell_type": "code",
      "metadata": {
        "id": "eqgLPG15sfA5"
      },
      "source": [
        ""
      ],
      "execution_count": null,
      "outputs": []
    },
    {
      "cell_type": "markdown",
      "metadata": {
        "id": "2618FMNPsttE"
      },
      "source": [
        ">2. Pre-process the data and perform PCA with 3 PCs."
      ]
    },
    {
      "cell_type": "code",
      "metadata": {
        "id": "5rHvuMx3ss3D"
      },
      "source": [
        ""
      ],
      "execution_count": null,
      "outputs": []
    },
    {
      "cell_type": "markdown",
      "metadata": {
        "id": "em2SyShRszQ2"
      },
      "source": [
        "> 3. Plot the cumulative explained variance graph. What percent of the variance do the first 2 and 3 components describe?"
      ]
    },
    {
      "cell_type": "code",
      "metadata": {
        "id": "UOkEPgB0q6nA"
      },
      "source": [
        ""
      ],
      "execution_count": null,
      "outputs": []
    },
    {
      "cell_type": "markdown",
      "metadata": {
        "id": "kpZNzSoRs9Ow"
      },
      "source": [
        "> 4. Plot the scores-loadings graph for PC1-PC2. Visualize the di\u000berent sites with a different colour or symbol."
      ]
    },
    {
      "cell_type": "code",
      "metadata": {
        "id": "K7abnGCfs2Vf"
      },
      "source": [
        ""
      ],
      "execution_count": null,
      "outputs": []
    },
    {
      "cell_type": "markdown",
      "metadata": {
        "id": "IxVuZqDStD39"
      },
      "source": [
        "> 5. How does the map of scores-loadings explains the reason that your company uses the raw material from Isle Thorns and Ashley Rails to manufacture Product B?"
      ]
    },
    {
      "cell_type": "code",
      "metadata": {
        "id": "yMIqXhGOtMab"
      },
      "source": [
        ""
      ],
      "execution_count": null,
      "outputs": []
    },
    {
      "cell_type": "markdown",
      "metadata": {
        "id": "iWDePlfWtNYX"
      },
      "source": [
        "> 6. Is the raw material from Caldicot a good replacement for Llanedyrn? Yes or no and why?"
      ]
    },
    {
      "cell_type": "markdown",
      "metadata": {
        "id": "hmSMiQ-_tSpX"
      },
      "source": [
        "> 7. What are the biggest differences in the two big clusters? How are the two samples from the candidate Caldicot di\u000berent than the Llanedyrn samples?"
      ]
    },
    {
      "cell_type": "markdown",
      "metadata": {
        "id": "Jue5cqd2tgtT"
      },
      "source": [
        "> 8. Confirm the answers by producing the boxplot of the 5 variables grouped by the site of the raw material shown below."
      ]
    }
  ]
}