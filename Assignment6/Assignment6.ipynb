{
  "cells": [
    {
      "cell_type": "markdown",
      "id": "ca1945b2",
      "metadata": {
        "id": "ca1945b2"
      },
      "source": [
        "# Programming assignment #6"
      ]
    },
    {
      "cell_type": "markdown",
      "id": "c71d6b5c",
      "metadata": {
        "id": "c71d6b5c"
      },
      "source": [
        "## 1 Model performance"
      ]
    },
    {
      "cell_type": "code",
      "source": [
        "import pandas as pd\n",
        "import numpy as np\n",
        "import matplotlib.pyplot as plt\n",
        "import seaborn as sns\n",
        "\n",
        "from sklearn.model_selection import train_test_split, GridSearchCV\n",
        "from sklearn.metrics import confusion_matrix, classification_report, accuracy_score, roc_curve, auc, roc_auc_score\n",
        "from sklearn.preprocessing import StandardScaler\n",
        "from sklearn.tree import DecisionTreeClassifier, plot_tree\n",
        "\n",
        "import imblearn\n",
        "from imblearn.over_sampling import RandomOverSampler "
      ],
      "metadata": {
        "id": "yZzJn6f6ReMW"
      },
      "id": "yZzJn6f6ReMW",
      "execution_count": 1,
      "outputs": []
    },
    {
      "cell_type": "markdown",
      "id": "d7532072",
      "metadata": {
        "id": "d7532072"
      },
      "source": [
        "### 1.1 Dataset size vs model performance"
      ]
    },
    {
      "cell_type": "code",
      "source": [
        "#create monthly features\n",
        "kaggle = pd.read_csv('Retail_Data_Response.csv')\n",
        "\n",
        "mth_rolling_features = pd.read_excel('mth_rolling_features.xlsx')\n",
        "mth_rolling_features = mth_rolling_features.drop('Unnamed: 0', axis = 1)\n",
        "mth_rolling_features = mth_rolling_features.fillna(0)\n",
        "\n",
        "mth_day_counts = pd.read_excel('mth_day_counts.xlsx')\n",
        "mth_day_counts = mth_day_counts.drop('Unnamed: 0', axis = 1)\n",
        "\n",
        "day_since_last_txn = pd.read_excel('days_since_last_txn.xlsx')\n",
        "day_since_last_txn = day_since_last_txn.drop('Unnamed: 0', axis = 1)\n",
        "\n",
        "mth_features_outputs = pd.merge(mth_rolling_features, mth_day_counts, on = ['CLNT_NO', 'ME_DT']).merge(day_since_last_txn, on = ['CLNT_NO', 'ME_DT']).merge(kaggle.rename(columns={'customer_id': 'CLNT_NO'}), on = 'CLNT_NO')\n",
        "mth_features_outputs.head() "
      ],
      "metadata": {
        "colab": {
          "base_uri": "https://localhost:8080/",
          "height": 348
        },
        "id": "9hdjij2GZQmO",
        "outputId": "ed7a44de-fa1e-47d0-bc13-0e10f1fbd5e5"
      },
      "id": "9hdjij2GZQmO",
      "execution_count": 3,
      "outputs": [
        {
          "output_type": "execute_result",
          "data": {
            "text/html": [
              "<div>\n",
              "<style scoped>\n",
              "    .dataframe tbody tr th:only-of-type {\n",
              "        vertical-align: middle;\n",
              "    }\n",
              "\n",
              "    .dataframe tbody tr th {\n",
              "        vertical-align: top;\n",
              "    }\n",
              "\n",
              "    .dataframe thead th {\n",
              "        text-align: right;\n",
              "    }\n",
              "</style>\n",
              "<table border=\"1\" class=\"dataframe\">\n",
              "  <thead>\n",
              "    <tr style=\"text-align: right;\">\n",
              "      <th></th>\n",
              "      <th>CLNT_NO</th>\n",
              "      <th>ME_DT</th>\n",
              "      <th>mth_txn_amt_sum</th>\n",
              "      <th>mth_txn_cnt</th>\n",
              "      <th>amt_sum_3M</th>\n",
              "      <th>amt_mean_3M</th>\n",
              "      <th>amt_max_3M</th>\n",
              "      <th>txn_cnt_sum_3M</th>\n",
              "      <th>txn_cnt_mean_3M</th>\n",
              "      <th>txn_cnt_max_3M</th>\n",
              "      <th>amt_sum_6M</th>\n",
              "      <th>amt_mean_6M</th>\n",
              "      <th>amt_max_6M</th>\n",
              "      <th>txn_cnt_sum_6M</th>\n",
              "      <th>txn_cnt_mean_6M</th>\n",
              "      <th>txn_cnt_max_6M</th>\n",
              "      <th>amt_sum_12M</th>\n",
              "      <th>amt_mean_12M</th>\n",
              "      <th>amt_max_12M</th>\n",
              "      <th>txn_cnt_sum_12M</th>\n",
              "      <th>txn_cnt_mean_12M</th>\n",
              "      <th>txn_cnt_max_12M</th>\n",
              "      <th>cnt_Friday</th>\n",
              "      <th>cnt_Monday</th>\n",
              "      <th>cnt_Saturday</th>\n",
              "      <th>cnt_Sunday</th>\n",
              "      <th>cnt_Thursday</th>\n",
              "      <th>cnt_Tuesday</th>\n",
              "      <th>cnt_Wednesday</th>\n",
              "      <th>days_since_last_txn</th>\n",
              "      <th>response</th>\n",
              "    </tr>\n",
              "  </thead>\n",
              "  <tbody>\n",
              "    <tr>\n",
              "      <th>0</th>\n",
              "      <td>CS1112</td>\n",
              "      <td>2011-05-31</td>\n",
              "      <td>0</td>\n",
              "      <td>0</td>\n",
              "      <td>0.0</td>\n",
              "      <td>0.000000</td>\n",
              "      <td>0.0</td>\n",
              "      <td>0.0</td>\n",
              "      <td>0.000000</td>\n",
              "      <td>0.0</td>\n",
              "      <td>0.0</td>\n",
              "      <td>0.0</td>\n",
              "      <td>0.0</td>\n",
              "      <td>0.0</td>\n",
              "      <td>0.0</td>\n",
              "      <td>0.0</td>\n",
              "      <td>0.0</td>\n",
              "      <td>0.0</td>\n",
              "      <td>0.0</td>\n",
              "      <td>0.0</td>\n",
              "      <td>0.0</td>\n",
              "      <td>0.0</td>\n",
              "      <td>0</td>\n",
              "      <td>0</td>\n",
              "      <td>0</td>\n",
              "      <td>0</td>\n",
              "      <td>0</td>\n",
              "      <td>0</td>\n",
              "      <td>0</td>\n",
              "      <td>-5</td>\n",
              "      <td>0</td>\n",
              "    </tr>\n",
              "    <tr>\n",
              "      <th>1</th>\n",
              "      <td>CS1112</td>\n",
              "      <td>2011-06-30</td>\n",
              "      <td>56</td>\n",
              "      <td>1</td>\n",
              "      <td>0.0</td>\n",
              "      <td>0.000000</td>\n",
              "      <td>0.0</td>\n",
              "      <td>0.0</td>\n",
              "      <td>0.000000</td>\n",
              "      <td>0.0</td>\n",
              "      <td>0.0</td>\n",
              "      <td>0.0</td>\n",
              "      <td>0.0</td>\n",
              "      <td>0.0</td>\n",
              "      <td>0.0</td>\n",
              "      <td>0.0</td>\n",
              "      <td>0.0</td>\n",
              "      <td>0.0</td>\n",
              "      <td>0.0</td>\n",
              "      <td>0.0</td>\n",
              "      <td>0.0</td>\n",
              "      <td>0.0</td>\n",
              "      <td>0</td>\n",
              "      <td>0</td>\n",
              "      <td>0</td>\n",
              "      <td>0</td>\n",
              "      <td>0</td>\n",
              "      <td>0</td>\n",
              "      <td>1</td>\n",
              "      <td>15</td>\n",
              "      <td>0</td>\n",
              "    </tr>\n",
              "    <tr>\n",
              "      <th>2</th>\n",
              "      <td>CS1112</td>\n",
              "      <td>2011-07-31</td>\n",
              "      <td>0</td>\n",
              "      <td>0</td>\n",
              "      <td>56.0</td>\n",
              "      <td>18.666667</td>\n",
              "      <td>56.0</td>\n",
              "      <td>1.0</td>\n",
              "      <td>0.333333</td>\n",
              "      <td>1.0</td>\n",
              "      <td>0.0</td>\n",
              "      <td>0.0</td>\n",
              "      <td>0.0</td>\n",
              "      <td>0.0</td>\n",
              "      <td>0.0</td>\n",
              "      <td>0.0</td>\n",
              "      <td>0.0</td>\n",
              "      <td>0.0</td>\n",
              "      <td>0.0</td>\n",
              "      <td>0.0</td>\n",
              "      <td>0.0</td>\n",
              "      <td>0.0</td>\n",
              "      <td>0</td>\n",
              "      <td>0</td>\n",
              "      <td>0</td>\n",
              "      <td>0</td>\n",
              "      <td>0</td>\n",
              "      <td>0</td>\n",
              "      <td>0</td>\n",
              "      <td>46</td>\n",
              "      <td>0</td>\n",
              "    </tr>\n",
              "    <tr>\n",
              "      <th>3</th>\n",
              "      <td>CS1112</td>\n",
              "      <td>2011-08-31</td>\n",
              "      <td>96</td>\n",
              "      <td>1</td>\n",
              "      <td>152.0</td>\n",
              "      <td>50.666667</td>\n",
              "      <td>96.0</td>\n",
              "      <td>2.0</td>\n",
              "      <td>0.666667</td>\n",
              "      <td>1.0</td>\n",
              "      <td>0.0</td>\n",
              "      <td>0.0</td>\n",
              "      <td>0.0</td>\n",
              "      <td>0.0</td>\n",
              "      <td>0.0</td>\n",
              "      <td>0.0</td>\n",
              "      <td>0.0</td>\n",
              "      <td>0.0</td>\n",
              "      <td>0.0</td>\n",
              "      <td>0.0</td>\n",
              "      <td>0.0</td>\n",
              "      <td>0.0</td>\n",
              "      <td>1</td>\n",
              "      <td>0</td>\n",
              "      <td>0</td>\n",
              "      <td>0</td>\n",
              "      <td>0</td>\n",
              "      <td>0</td>\n",
              "      <td>0</td>\n",
              "      <td>12</td>\n",
              "      <td>0</td>\n",
              "    </tr>\n",
              "    <tr>\n",
              "      <th>4</th>\n",
              "      <td>CS1112</td>\n",
              "      <td>2011-09-30</td>\n",
              "      <td>0</td>\n",
              "      <td>0</td>\n",
              "      <td>96.0</td>\n",
              "      <td>32.000000</td>\n",
              "      <td>96.0</td>\n",
              "      <td>1.0</td>\n",
              "      <td>0.333333</td>\n",
              "      <td>1.0</td>\n",
              "      <td>0.0</td>\n",
              "      <td>0.0</td>\n",
              "      <td>0.0</td>\n",
              "      <td>0.0</td>\n",
              "      <td>0.0</td>\n",
              "      <td>0.0</td>\n",
              "      <td>0.0</td>\n",
              "      <td>0.0</td>\n",
              "      <td>0.0</td>\n",
              "      <td>0.0</td>\n",
              "      <td>0.0</td>\n",
              "      <td>0.0</td>\n",
              "      <td>0</td>\n",
              "      <td>0</td>\n",
              "      <td>0</td>\n",
              "      <td>0</td>\n",
              "      <td>0</td>\n",
              "      <td>0</td>\n",
              "      <td>0</td>\n",
              "      <td>42</td>\n",
              "      <td>0</td>\n",
              "    </tr>\n",
              "  </tbody>\n",
              "</table>\n",
              "</div>"
            ],
            "text/plain": [
              "  CLNT_NO      ME_DT  ...  days_since_last_txn  response\n",
              "0  CS1112 2011-05-31  ...                   -5         0\n",
              "1  CS1112 2011-06-30  ...                   15         0\n",
              "2  CS1112 2011-07-31  ...                   46         0\n",
              "3  CS1112 2011-08-31  ...                   12         0\n",
              "4  CS1112 2011-09-30  ...                   42         0\n",
              "\n",
              "[5 rows x 31 columns]"
            ]
          },
          "metadata": {},
          "execution_count": 3
        }
      ]
    },
    {
      "cell_type": "markdown",
      "id": "acf82833",
      "metadata": {
        "id": "acf82833"
      },
      "source": [
        "> Here, you will quantify the relationship between the dataset size and the model performance. Essentially, you will answer the question: how much data is enough to model client behaviour? In order to do this, you will pick the best single tree model you created in Assignment #5 and evaluate it with datasets of different sizes using the monthly features you created in Assignment #3.\n",
        ">\n",
        "> Perform the evaluation with the following steps:\n",
        "> 1. Split the train/test sets with 9:1 ratio. This split should give you approximately 291k/32k samples in train/test set, respectively.\n"
      ]
    },
    {
      "cell_type": "code",
      "source": [
        "#drop CLNT_NO, ME_DT and response for X_annual\n",
        "X_mth = mth_features_outputs.drop(['CLNT_NO', 'response', 'ME_DT'], axis = 1)\n",
        "y_mth = mth_features_outputs['response']\n",
        "#Split the data in train and test set.\n",
        "X_train, X_test, y_train, y_test = train_test_split(X_mth, y_mth, test_size=0.1, random_state=1147)"
      ],
      "metadata": {
        "id": "cJjUTKNgbG9L"
      },
      "id": "cJjUTKNgbG9L",
      "execution_count": 4,
      "outputs": []
    },
    {
      "cell_type": "markdown",
      "id": "abb6b5bb",
      "metadata": {
        "id": "abb6b5bb"
      },
      "source": [
        ">2. Initialize and create a for loop in which you take N samples (e.g. 50), build a tree\n",
        "model with the N samples and evaluate the test set AUC. Repeat the sampling process\n",
        "10 times and append the test set AUC. The following table shows the desired output:\n",
        "\n",
        "|N = 50 |samples|\n",
        "|----|----|\n",
        "|sample #| Test AUC|\n",
        "|1| 0.545|\n",
        "|2| 0.561|\n",
        "|...|...|\n",
        "|10| 0.551|\n",
        ">\n",
        "> From this table, you can calculate the mean and standard deviation of the test AUC for N samples."
      ]
    },
    {
      "cell_type": "code",
      "source": [
        "def tree_model_N_samples(N):\n",
        "    test_auc = []\n",
        "    \n",
        "    for num in range(10):\n",
        "        X_train_samples = X_train.sample(n = N)\n",
        "        idx = X_train_samples.index\n",
        "        y_train_samples = y_train[idx]\n",
        "\n",
        "        dt = DecisionTreeClassifier(max_depth = 5, random_state = 1147, class_weight='balanced')\n",
        "        dt.fit(X_train_samples, y_train_samples)\n",
        "\n",
        "        scores_test  = dt.predict_proba(X_test)[:,1]\n",
        "        fpr_test, tpr_test, _ = roc_curve(y_test, scores_test)\n",
        "        test_auc.append(auc(fpr_test, tpr_test))\n",
        "\n",
        "        # calculate the mean and standard deviation of the test AUC for N samples\n",
        "        test_auc_mean = np.mean(test_auc)\n",
        "        test_auc_std = np.std(test_auc)\n",
        "    return test_auc, test_auc_mean, test_auc_std"
      ],
      "metadata": {
        "id": "VrfGWyqzc1PE"
      },
      "id": "VrfGWyqzc1PE",
      "execution_count": 43,
      "outputs": []
    },
    {
      "cell_type": "code",
      "source": [
        "test_auc, test_auc_mean, test_auc_std = tree_model_N_samples(50)\n",
        "test_auc_table = {'sample': np.arange(1,11),'Test AUC': test_auc}\n",
        "pd.DataFrame(test_auc_table).style.hide_index()"
      ],
      "metadata": {
        "colab": {
          "base_uri": "https://localhost:8080/",
          "height": 363
        },
        "outputId": "3e87e8eb-725b-4822-a89d-28a4dd8ac832",
        "id": "4QnKmC1XihhJ"
      },
      "execution_count": 52,
      "outputs": [
        {
          "output_type": "execute_result",
          "data": {
            "text/html": [
              "<style  type=\"text/css\" >\n",
              "</style><table id=\"T_baf84598_5ad0_11ec_8b53_0242ac1c0002\" class=\"dataframe\"><thead>    <tr>        <th class=\"col_heading level0 col0\" >sample</th>        <th class=\"col_heading level0 col1\" >Test AUC</th>    </tr></thead><tbody>\n",
              "                <tr>\n",
              "                                <td id=\"T_baf84598_5ad0_11ec_8b53_0242ac1c0002row0_col0\" class=\"data row0 col0\" >1</td>\n",
              "                        <td id=\"T_baf84598_5ad0_11ec_8b53_0242ac1c0002row0_col1\" class=\"data row0 col1\" >0.505882</td>\n",
              "            </tr>\n",
              "            <tr>\n",
              "                                <td id=\"T_baf84598_5ad0_11ec_8b53_0242ac1c0002row1_col0\" class=\"data row1 col0\" >2</td>\n",
              "                        <td id=\"T_baf84598_5ad0_11ec_8b53_0242ac1c0002row1_col1\" class=\"data row1 col1\" >0.522168</td>\n",
              "            </tr>\n",
              "            <tr>\n",
              "                                <td id=\"T_baf84598_5ad0_11ec_8b53_0242ac1c0002row2_col0\" class=\"data row2 col0\" >3</td>\n",
              "                        <td id=\"T_baf84598_5ad0_11ec_8b53_0242ac1c0002row2_col1\" class=\"data row2 col1\" >0.504770</td>\n",
              "            </tr>\n",
              "            <tr>\n",
              "                                <td id=\"T_baf84598_5ad0_11ec_8b53_0242ac1c0002row3_col0\" class=\"data row3 col0\" >4</td>\n",
              "                        <td id=\"T_baf84598_5ad0_11ec_8b53_0242ac1c0002row3_col1\" class=\"data row3 col1\" >0.495398</td>\n",
              "            </tr>\n",
              "            <tr>\n",
              "                                <td id=\"T_baf84598_5ad0_11ec_8b53_0242ac1c0002row4_col0\" class=\"data row4 col0\" >5</td>\n",
              "                        <td id=\"T_baf84598_5ad0_11ec_8b53_0242ac1c0002row4_col1\" class=\"data row4 col1\" >0.502618</td>\n",
              "            </tr>\n",
              "            <tr>\n",
              "                                <td id=\"T_baf84598_5ad0_11ec_8b53_0242ac1c0002row5_col0\" class=\"data row5 col0\" >6</td>\n",
              "                        <td id=\"T_baf84598_5ad0_11ec_8b53_0242ac1c0002row5_col1\" class=\"data row5 col1\" >0.512942</td>\n",
              "            </tr>\n",
              "            <tr>\n",
              "                                <td id=\"T_baf84598_5ad0_11ec_8b53_0242ac1c0002row6_col0\" class=\"data row6 col0\" >7</td>\n",
              "                        <td id=\"T_baf84598_5ad0_11ec_8b53_0242ac1c0002row6_col1\" class=\"data row6 col1\" >0.505607</td>\n",
              "            </tr>\n",
              "            <tr>\n",
              "                                <td id=\"T_baf84598_5ad0_11ec_8b53_0242ac1c0002row7_col0\" class=\"data row7 col0\" >8</td>\n",
              "                        <td id=\"T_baf84598_5ad0_11ec_8b53_0242ac1c0002row7_col1\" class=\"data row7 col1\" >0.498598</td>\n",
              "            </tr>\n",
              "            <tr>\n",
              "                                <td id=\"T_baf84598_5ad0_11ec_8b53_0242ac1c0002row8_col0\" class=\"data row8 col0\" >9</td>\n",
              "                        <td id=\"T_baf84598_5ad0_11ec_8b53_0242ac1c0002row8_col1\" class=\"data row8 col1\" >0.508994</td>\n",
              "            </tr>\n",
              "            <tr>\n",
              "                                <td id=\"T_baf84598_5ad0_11ec_8b53_0242ac1c0002row9_col0\" class=\"data row9 col0\" >10</td>\n",
              "                        <td id=\"T_baf84598_5ad0_11ec_8b53_0242ac1c0002row9_col1\" class=\"data row9 col1\" >0.483356</td>\n",
              "            </tr>\n",
              "    </tbody></table>"
            ],
            "text/plain": [
              "<pandas.io.formats.style.Styler at 0x7f002d56be10>"
            ]
          },
          "metadata": {},
          "execution_count": 52
        }
      ],
      "id": "4QnKmC1XihhJ"
    },
    {
      "cell_type": "code",
      "source": [
        "# calculate the mean and standard deviation of the test AUC for N samples\n",
        "print ('mean of the test AUC for 50 samples:', test_auc_mean)\n",
        "print ('standard deviation of the test AUC for 50 samples:', test_auc_std)"
      ],
      "metadata": {
        "colab": {
          "base_uri": "https://localhost:8080/"
        },
        "id": "cAE2_Cr1i81a",
        "outputId": "92c8ea7c-8122-49cc-fdb7-9c87fd1e9081"
      },
      "id": "cAE2_Cr1i81a",
      "execution_count": 53,
      "outputs": [
        {
          "output_type": "stream",
          "name": "stdout",
          "text": [
            "mean of the test AUC for 50 samples: 0.5040333731445146\n",
            "standard deviation of the test AUC for 50 samples: 0.009863621380747475\n"
          ]
        }
      ]
    },
    {
      "cell_type": "markdown",
      "id": "51116ec6",
      "metadata": {
        "id": "51116ec6"
      },
      "source": [
        "> 3. Repeat the procedure you performed in the previous step for different sample size N\n",
        "(e.g. 100, 500, 1000, 2000, 5000, 10000)."
      ]
    },
    {
      "cell_type": "code",
      "source": [
        "N = [100, 500, 1000, 2000, 5000, 10000, 20000]\n",
        "mean_list = []\n",
        "std_list = []\n",
        "for n in N:\n",
        "  test_auc, test_auc_mean, test_auc_std = tree_model_N_samples(n)\n",
        "  mean_list.append(test_auc_mean)\n",
        "  std_list.append(test_auc_std)"
      ],
      "metadata": {
        "id": "ZDtcC3KPi380"
      },
      "id": "ZDtcC3KPi380",
      "execution_count": 55,
      "outputs": []
    },
    {
      "cell_type": "markdown",
      "id": "bdf8531c",
      "metadata": {
        "id": "bdf8531c"
      },
      "source": [
        "> 4. Build a table that contains the values of:\n",
        "> * Sample size N\n",
        "> * Test AUC mean\n",
        "> * Test AUC standard deviation"
      ]
    },
    {
      "cell_type": "code",
      "source": [
        "N_samples_Auc_table = {'Sample size N': N, 'Test AUC mean': mean_list, 'Test AUC standard deviation': std_list}\n",
        "pd.DataFrame(N_samples_Auc_table).style.hide_index()"
      ],
      "metadata": {
        "colab": {
          "base_uri": "https://localhost:8080/",
          "height": 269
        },
        "id": "rhRztfsFjyID",
        "outputId": "7deb5e2b-16a3-427a-9970-b709603593a5"
      },
      "id": "rhRztfsFjyID",
      "execution_count": 56,
      "outputs": [
        {
          "output_type": "execute_result",
          "data": {
            "text/html": [
              "<style  type=\"text/css\" >\n",
              "</style><table id=\"T_2ea384d0_5ad1_11ec_8b53_0242ac1c0002\" class=\"dataframe\"><thead>    <tr>        <th class=\"col_heading level0 col0\" >Sample size N</th>        <th class=\"col_heading level0 col1\" >Test AUC mean</th>        <th class=\"col_heading level0 col2\" >Test AUC standard deviation</th>    </tr></thead><tbody>\n",
              "                <tr>\n",
              "                                <td id=\"T_2ea384d0_5ad1_11ec_8b53_0242ac1c0002row0_col0\" class=\"data row0 col0\" >100</td>\n",
              "                        <td id=\"T_2ea384d0_5ad1_11ec_8b53_0242ac1c0002row0_col1\" class=\"data row0 col1\" >0.510304</td>\n",
              "                        <td id=\"T_2ea384d0_5ad1_11ec_8b53_0242ac1c0002row0_col2\" class=\"data row0 col2\" >0.025084</td>\n",
              "            </tr>\n",
              "            <tr>\n",
              "                                <td id=\"T_2ea384d0_5ad1_11ec_8b53_0242ac1c0002row1_col0\" class=\"data row1 col0\" >500</td>\n",
              "                        <td id=\"T_2ea384d0_5ad1_11ec_8b53_0242ac1c0002row1_col1\" class=\"data row1 col1\" >0.537842</td>\n",
              "                        <td id=\"T_2ea384d0_5ad1_11ec_8b53_0242ac1c0002row1_col2\" class=\"data row1 col2\" >0.025630</td>\n",
              "            </tr>\n",
              "            <tr>\n",
              "                                <td id=\"T_2ea384d0_5ad1_11ec_8b53_0242ac1c0002row2_col0\" class=\"data row2 col0\" >1000</td>\n",
              "                        <td id=\"T_2ea384d0_5ad1_11ec_8b53_0242ac1c0002row2_col1\" class=\"data row2 col1\" >0.549496</td>\n",
              "                        <td id=\"T_2ea384d0_5ad1_11ec_8b53_0242ac1c0002row2_col2\" class=\"data row2 col2\" >0.026432</td>\n",
              "            </tr>\n",
              "            <tr>\n",
              "                                <td id=\"T_2ea384d0_5ad1_11ec_8b53_0242ac1c0002row3_col0\" class=\"data row3 col0\" >2000</td>\n",
              "                        <td id=\"T_2ea384d0_5ad1_11ec_8b53_0242ac1c0002row3_col1\" class=\"data row3 col1\" >0.569502</td>\n",
              "                        <td id=\"T_2ea384d0_5ad1_11ec_8b53_0242ac1c0002row3_col2\" class=\"data row3 col2\" >0.013424</td>\n",
              "            </tr>\n",
              "            <tr>\n",
              "                                <td id=\"T_2ea384d0_5ad1_11ec_8b53_0242ac1c0002row4_col0\" class=\"data row4 col0\" >5000</td>\n",
              "                        <td id=\"T_2ea384d0_5ad1_11ec_8b53_0242ac1c0002row4_col1\" class=\"data row4 col1\" >0.595380</td>\n",
              "                        <td id=\"T_2ea384d0_5ad1_11ec_8b53_0242ac1c0002row4_col2\" class=\"data row4 col2\" >0.007208</td>\n",
              "            </tr>\n",
              "            <tr>\n",
              "                                <td id=\"T_2ea384d0_5ad1_11ec_8b53_0242ac1c0002row5_col0\" class=\"data row5 col0\" >10000</td>\n",
              "                        <td id=\"T_2ea384d0_5ad1_11ec_8b53_0242ac1c0002row5_col1\" class=\"data row5 col1\" >0.611988</td>\n",
              "                        <td id=\"T_2ea384d0_5ad1_11ec_8b53_0242ac1c0002row5_col2\" class=\"data row5 col2\" >0.005331</td>\n",
              "            </tr>\n",
              "            <tr>\n",
              "                                <td id=\"T_2ea384d0_5ad1_11ec_8b53_0242ac1c0002row6_col0\" class=\"data row6 col0\" >20000</td>\n",
              "                        <td id=\"T_2ea384d0_5ad1_11ec_8b53_0242ac1c0002row6_col1\" class=\"data row6 col1\" >0.625050</td>\n",
              "                        <td id=\"T_2ea384d0_5ad1_11ec_8b53_0242ac1c0002row6_col2\" class=\"data row6 col2\" >0.004800</td>\n",
              "            </tr>\n",
              "    </tbody></table>"
            ],
            "text/plain": [
              "<pandas.io.formats.style.Styler at 0x7f002d55e3d0>"
            ]
          },
          "metadata": {},
          "execution_count": 56
        }
      ]
    },
    {
      "cell_type": "markdown",
      "id": "7e72b4e9",
      "metadata": {
        "id": "7e72b4e9"
      },
      "source": [
        "> 5. Using the matplotlib function errorbar, plot the model performance captured in the\n",
        "test AUC mean and standard deviation as a function of the sample size. From this\n",
        "plot, can you estimate what is the minimum number of samples needed to model the\n",
        "behaviour adequately?"
      ]
    },
    {
      "cell_type": "code",
      "execution_count": 59,
      "id": "6736161b",
      "metadata": {
        "colab": {
          "base_uri": "https://localhost:8080/",
          "height": 295
        },
        "id": "6736161b",
        "outputId": "ec9ae877-44cb-4ba8-a66d-f5442dde4347"
      },
      "outputs": [
        {
          "output_type": "display_data",
          "data": {
            "image/png": "[encoded data removed]",
            "text/plain": [
              "<Figure size 432x288 with 1 Axes>"
            ]
          },
          "metadata": {
            "needs_background": "light"
          }
        }
      ],
      "source": [
        "plt.errorbar(N, mean_list, yerr=std_list, ecolor = 'g') \n",
        "plt.title('Model Performance of different sample size')\n",
        "plt.ylabel('Mean Test AUC')\n",
        "plt.xlabel('Train Sample Size')\n",
        "plt.show()"
      ]
    },
    {
      "cell_type": "markdown",
      "source": [
        "From the graph above, it clearly shows that the mean of test AUC scores are increasing and the standard deviations are decreasing. The inflection point of the mean of test AUC scores is 10000, and after 10000, the standard deviation almost stays the same. Therefore, the minimum sample size for this decision tree model to behave well is 10000."
      ],
      "metadata": {
        "id": "mxGnGmq4l9kU"
      },
      "id": "mxGnGmq4l9kU"
    }
  ],
  "metadata": {
    "kernelspec": {
      "display_name": "Python 3 (ipykernel)",
      "language": "python",
      "name": "python3"
    },
    "language_info": {
      "codemirror_mode": {
        "name": "ipython",
        "version": 3
      },
      "file_extension": ".py",
      "mimetype": "text/x-python",
      "name": "python",
      "nbconvert_exporter": "python",
      "pygments_lexer": "ipython3",
      "version": "3.7.11"
    },
    "colab": {
      "name": "Assignment6.ipynb",
      "provenance": []
    }
  },
  "nbformat": 4,
  "nbformat_minor": 5
}