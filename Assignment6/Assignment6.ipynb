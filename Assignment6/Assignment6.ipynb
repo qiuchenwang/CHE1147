{
 "cells": [
  {
   "cell_type": "markdown",
   "id": "ca1945b2",
   "metadata": {},
   "source": [
    "# Programming assignment #6"
   ]
  },
  {
   "cell_type": "markdown",
   "id": "c71d6b5c",
   "metadata": {},
   "source": [
    "## 1 Model performance"
   ]
  },
  {
   "cell_type": "markdown",
   "id": "d7532072",
   "metadata": {},
   "source": [
    "### 1.1 Dataset size vs model performance"
   ]
  },
  {
   "cell_type": "markdown",
   "id": "acf82833",
   "metadata": {},
   "source": [
    "> Here, you will quantify the relationship between the dataset size and the model performance. Essentially, you will answer the question: how much data is enough to model client behaviour? In order to do this, you will pick the best single tree model you created in Assignment #5 and evaluate it with datasets of di erent sizes using the monthly features youcreated in Assignment #3.\n",
    ">\n",
    "> Perform the evaluation with the following steps:\n",
    "> 1. Split the train/test sets with 9:1 ratio This split should give you approximately 291k/32k samples in train/test set, respectively."
   ]
  },
  {
   "cell_type": "markdown",
   "id": "abb6b5bb",
   "metadata": {},
   "source": [
    ">2. Initialize and create a for loop in which you take N samples (e.g. 50), build a tree\n",
    "model with the N samples and evaluate the test set AUC. Repeat the sampling process\n",
    "10 times and append the test set AUC. The following table shows the desired output:\n",
    "|N = 50 |samples|\n",
    "|----|----|\n",
    "|sample #| Test AUC|\n",
    "|1| 0.545|\n",
    "|2| 0.561|\n",
    "|...|...|\n",
    "|10| 0.551|\n",
    ">\n",
    "> From this table, you can calculate the mean and standard deviation of the test AUC\n",
    "for N samples."
   ]
  },
  {
   "cell_type": "markdown",
   "id": "51116ec6",
   "metadata": {},
   "source": [
    "> 3. Repeat the procedure you performed in the previous step for di erent sample size N\n",
    "(e.g. 100, 500, 1000, 2000, 5000, 10000)."
   ]
  },
  {
   "cell_type": "markdown",
   "id": "bdf8531c",
   "metadata": {},
   "source": [
    "> 4. Build a table that contains the values of:\n",
    "> * Sample size N\n",
    "> * Test AUC mean\n",
    "> * Test AUC standard deviation"
   ]
  },
  {
   "cell_type": "markdown",
   "id": "7e72b4e9",
   "metadata": {},
   "source": [
    "> 5. Using the matplotlib function errorbar, plot the model performance captured in the\n",
    "test AUC mean and standard deviation as a function of the sample size. From this\n",
    "plot, can you estimate what is the minimum number of samples needed to model the\n",
    "behaviour adequately?"
   ]
  },
  {
   "cell_type": "code",
   "execution_count": null,
   "id": "6736161b",
   "metadata": {},
   "outputs": [],
   "source": []
  }
 ],
 "metadata": {
  "kernelspec": {
   "display_name": "Python 3 (ipykernel)",
   "language": "python",
   "name": "python3"
  },
  "language_info": {
   "codemirror_mode": {
    "name": "ipython",
    "version": 3
   },
   "file_extension": ".py",
   "mimetype": "text/x-python",
   "name": "python",
   "nbconvert_exporter": "python",
   "pygments_lexer": "ipython3",
   "version": "3.7.11"
  }
 },
 "nbformat": 4,
 "nbformat_minor": 5
}
