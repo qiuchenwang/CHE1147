{
  "nbformat": 4,
  "nbformat_minor": 0,
  "metadata": {
    "colab": {
      "name": "Assignment5.ipynb",
      "provenance": []
    },
    "kernelspec": {
      "name": "python3",
      "display_name": "Python 3"
    },
    "language_info": {
      "name": "python"
    }
  },
  "cells": [
    {
      "cell_type": "markdown",
      "metadata": {
        "id": "ZyDAgg-FC_Wh"
      },
      "source": [
        "#Programming assignment #5"
      ]
    },
    {
      "cell_type": "code",
      "metadata": {
        "id": "-Rp0Uj_nINgI"
      },
      "source": [
        "import pandas as pd \n",
        "import numpy as np\n",
        "import matplotlib.pyplot as plt\n",
        "import seaborn as sns\n",
        "from sklearn.model_selection import train_test_split, GridSearchCV\n",
        "from sklearn.preprocessing import StandardScaler\n",
        "from sklearn.linear_model import LogisticRegression\n",
        "from sklearn.metrics import roc_curve, auc"
      ],
      "execution_count": 11,
      "outputs": []
    },
    {
      "cell_type": "markdown",
      "metadata": {
        "id": "-s1BB9VoDC8Y"
      },
      "source": [
        "## 1 Supervised learning"
      ]
    },
    {
      "cell_type": "markdown",
      "metadata": {
        "id": "hbfgCOGMDKjo"
      },
      "source": [
        "> Here, you are going to use the features you generated in Assignment #3 to predict the\n",
        "clients response to a promotion campaign. This is a typical classification problem in the retail industry, but the formulation of the problem is similar to industries such as fraud detection, marketing and manufacturing.\n",
        ">\n",
        "> The clients responses are stored in the Retail_Data_Response.csv file from Kaggle. The responses are **binary: 0** for clients who responded negatively to the promotional campaign and **1** for clients who responded positively to the campaign.\n",
        ">\n",
        "> You will explore solving the classi cation problem with two different sets of features (i.e. annual and monthly) and three different algorithms as shown in the image below."
      ]
    },
    {
      "cell_type": "markdown",
      "metadata": {
        "id": "UsvwUogjDz9Z"
      },
      "source": [
        "### 1.1 Import the monthly and annual data and join"
      ]
    },
    {
      "cell_type": "markdown",
      "metadata": {
        "id": "GWijzfQID66p"
      },
      "source": [
        ">In Assignment #3, you created five different feature families that capture annual and monthly aggregations. Here, you will model the retail problem with two approaches: using annual and monthly features. Therefore, you need to create the joined tables based on the following\n",
        "logic:\n",
        "\n",
        "|Table | annual features outputs | monthly features outputs|\n",
        "| ----------- | ----------- |----------- |\n",
        "|#1| annual_features.xlsx| mth_rolling_features.xlsx|\n",
        "|#2| annual_day_of_week_counts_pivot.xlsx|mth_day_counts.xlsx|\n",
        "|#3| |days_since_last_txn.xlsx|\n",
        "|#4| Retail_Data_Response.csv| Retail_Data_Response.csv|\n",
        "> In both the annual and monthly features approach, you need to join at the end with table #4, the clients responses. This is simply a table that contains the binary response of the\n",
        "client to our marketing effort as described above and that is the output or label or target\n",
        "that makes this a supervised learning problem."
      ]
    },
    {
      "cell_type": "code",
      "metadata": {
        "id": "ijgGvS7gdpkT"
      },
      "source": [
        "#read kaggle data\n",
        "kaggle = pd.read_csv('Retail_Data_Response.csv')"
      ],
      "execution_count": 2,
      "outputs": []
    },
    {
      "cell_type": "code",
      "metadata": {
        "colab": {
          "base_uri": "https://localhost:8080/",
          "height": 226
        },
        "id": "xttPsi1kg03D",
        "outputId": "8f8a716a-cbfe-44d8-c1be-7b4d25905c03"
      },
      "source": [
        "#create annual features\n",
        "annual_features = pd.read_excel('annual_features.xlsx')\n",
        "\n",
        "annual_pivot = pd.read_excel('annual_day_of_week_counts_pivot.xlsx')\n",
        "\n",
        "annual_features_outputs = pd.merge(annual_features, annual_pivot, on = 'customer_id').merge(kaggle, on = 'customer_id')\n",
        "annual_features_outputs.head()"
      ],
      "execution_count": 3,
      "outputs": [
        {
          "output_type": "execute_result",
          "data": {
            "text/html": [
              "<div>\n",
              "<style scoped>\n",
              "    .dataframe tbody tr th:only-of-type {\n",
              "        vertical-align: middle;\n",
              "    }\n",
              "\n",
              "    .dataframe tbody tr th {\n",
              "        vertical-align: top;\n",
              "    }\n",
              "\n",
              "    .dataframe thead th {\n",
              "        text-align: right;\n",
              "    }\n",
              "</style>\n",
              "<table border=\"1\" class=\"dataframe\">\n",
              "  <thead>\n",
              "    <tr style=\"text-align: right;\">\n",
              "      <th></th>\n",
              "      <th>customer_id</th>\n",
              "      <th>ann_txn_amt_ave_2011</th>\n",
              "      <th>ann_txn_amt_ave_2012</th>\n",
              "      <th>ann_txn_amt_ave_2013</th>\n",
              "      <th>ann_txn_amt_ave_2014</th>\n",
              "      <th>ann_txn_amt_ave_2015</th>\n",
              "      <th>ann_txn_amt_cnt_2011</th>\n",
              "      <th>ann_txn_amt_cnt_2012</th>\n",
              "      <th>ann_txn_amt_cnt_2013</th>\n",
              "      <th>ann_txn_amt_cnt_2014</th>\n",
              "      <th>ann_txn_amt_cnt_2015</th>\n",
              "      <th>ann_txn_amt_max_2011</th>\n",
              "      <th>ann_txn_amt_max_2012</th>\n",
              "      <th>ann_txn_amt_max_2013</th>\n",
              "      <th>ann_txn_amt_max_2014</th>\n",
              "      <th>ann_txn_amt_max_2015</th>\n",
              "      <th>ann_txn_amt_min_2011</th>\n",
              "      <th>ann_txn_amt_min_2012</th>\n",
              "      <th>ann_txn_amt_min_2013</th>\n",
              "      <th>ann_txn_amt_min_2014</th>\n",
              "      <th>ann_txn_amt_min_2015</th>\n",
              "      <th>ann_txn_amt_sem_2011</th>\n",
              "      <th>ann_txn_amt_sem_2012</th>\n",
              "      <th>ann_txn_amt_sem_2013</th>\n",
              "      <th>ann_txn_amt_sem_2014</th>\n",
              "      <th>ann_txn_amt_sem_2015</th>\n",
              "      <th>ann_txn_amt_std_2011</th>\n",
              "      <th>ann_txn_amt_std_2012</th>\n",
              "      <th>ann_txn_amt_std_2013</th>\n",
              "      <th>ann_txn_amt_std_2014</th>\n",
              "      <th>ann_txn_amt_std_2015</th>\n",
              "      <th>ann_txn_amt_sum_2011</th>\n",
              "      <th>ann_txn_amt_sum_2012</th>\n",
              "      <th>ann_txn_amt_sum_2013</th>\n",
              "      <th>ann_txn_amt_sum_2014</th>\n",
              "      <th>ann_txn_amt_sum_2015</th>\n",
              "      <th>ann_txn_amt_var_2011</th>\n",
              "      <th>ann_txn_amt_var_2012</th>\n",
              "      <th>ann_txn_amt_var_2013</th>\n",
              "      <th>ann_txn_amt_var_2014</th>\n",
              "      <th>ann_txn_amt_var_2015</th>\n",
              "      <th>cnt_2011_Friday</th>\n",
              "      <th>cnt_2011_Monday</th>\n",
              "      <th>cnt_2011_Saturday</th>\n",
              "      <th>cnt_2011_Sunday</th>\n",
              "      <th>cnt_2011_Thursday</th>\n",
              "      <th>cnt_2011_Tuesday</th>\n",
              "      <th>cnt_2011_Wednesday</th>\n",
              "      <th>cnt_2012_Friday</th>\n",
              "      <th>cnt_2012_Monday</th>\n",
              "      <th>cnt_2012_Saturday</th>\n",
              "      <th>cnt_2012_Sunday</th>\n",
              "      <th>cnt_2012_Thursday</th>\n",
              "      <th>cnt_2012_Tuesday</th>\n",
              "      <th>cnt_2012_Wednesday</th>\n",
              "      <th>cnt_2013_Friday</th>\n",
              "      <th>cnt_2013_Monday</th>\n",
              "      <th>cnt_2013_Saturday</th>\n",
              "      <th>cnt_2013_Sunday</th>\n",
              "      <th>cnt_2013_Thursday</th>\n",
              "      <th>cnt_2013_Tuesday</th>\n",
              "      <th>cnt_2013_Wednesday</th>\n",
              "      <th>cnt_2014_Friday</th>\n",
              "      <th>cnt_2014_Monday</th>\n",
              "      <th>cnt_2014_Saturday</th>\n",
              "      <th>cnt_2014_Sunday</th>\n",
              "      <th>cnt_2014_Thursday</th>\n",
              "      <th>cnt_2014_Tuesday</th>\n",
              "      <th>cnt_2014_Wednesday</th>\n",
              "      <th>cnt_2015_Friday</th>\n",
              "      <th>cnt_2015_Monday</th>\n",
              "      <th>cnt_2015_Saturday</th>\n",
              "      <th>cnt_2015_Sunday</th>\n",
              "      <th>cnt_2015_Thursday</th>\n",
              "      <th>cnt_2015_Tuesday</th>\n",
              "      <th>cnt_2015_Wednesday</th>\n",
              "      <th>response</th>\n",
              "    </tr>\n",
              "  </thead>\n",
              "  <tbody>\n",
              "    <tr>\n",
              "      <th>0</th>\n",
              "      <td>CS1112</td>\n",
              "      <td>70.666667</td>\n",
              "      <td>67.400000</td>\n",
              "      <td>70.666667</td>\n",
              "      <td>70.666667</td>\n",
              "      <td>39.000000</td>\n",
              "      <td>3</td>\n",
              "      <td>5</td>\n",
              "      <td>3</td>\n",
              "      <td>3</td>\n",
              "      <td>1</td>\n",
              "      <td>96</td>\n",
              "      <td>81</td>\n",
              "      <td>105</td>\n",
              "      <td>90</td>\n",
              "      <td>39</td>\n",
              "      <td>56</td>\n",
              "      <td>52</td>\n",
              "      <td>36</td>\n",
              "      <td>59</td>\n",
              "      <td>39</td>\n",
              "      <td>12.719189</td>\n",
              "      <td>5.688585</td>\n",
              "      <td>19.919282</td>\n",
              "      <td>9.735388</td>\n",
              "      <td>0.000000</td>\n",
              "      <td>22.030282</td>\n",
              "      <td>12.720063</td>\n",
              "      <td>34.501208</td>\n",
              "      <td>16.862186</td>\n",
              "      <td>0.000000</td>\n",
              "      <td>212</td>\n",
              "      <td>337</td>\n",
              "      <td>212</td>\n",
              "      <td>212</td>\n",
              "      <td>39</td>\n",
              "      <td>485.333333</td>\n",
              "      <td>161.800000</td>\n",
              "      <td>1190.333333</td>\n",
              "      <td>284.333333</td>\n",
              "      <td>0.000000</td>\n",
              "      <td>1</td>\n",
              "      <td>0</td>\n",
              "      <td>0</td>\n",
              "      <td>1</td>\n",
              "      <td>0</td>\n",
              "      <td>0</td>\n",
              "      <td>1</td>\n",
              "      <td>0</td>\n",
              "      <td>0</td>\n",
              "      <td>1</td>\n",
              "      <td>3</td>\n",
              "      <td>0</td>\n",
              "      <td>1</td>\n",
              "      <td>0</td>\n",
              "      <td>1</td>\n",
              "      <td>1</td>\n",
              "      <td>0</td>\n",
              "      <td>0</td>\n",
              "      <td>0</td>\n",
              "      <td>0</td>\n",
              "      <td>1</td>\n",
              "      <td>0</td>\n",
              "      <td>0</td>\n",
              "      <td>0</td>\n",
              "      <td>0</td>\n",
              "      <td>1</td>\n",
              "      <td>1</td>\n",
              "      <td>1</td>\n",
              "      <td>0</td>\n",
              "      <td>0</td>\n",
              "      <td>0</td>\n",
              "      <td>0</td>\n",
              "      <td>0</td>\n",
              "      <td>0</td>\n",
              "      <td>1</td>\n",
              "      <td>0</td>\n",
              "    </tr>\n",
              "    <tr>\n",
              "      <th>1</th>\n",
              "      <td>CS1113</td>\n",
              "      <td>81.333333</td>\n",
              "      <td>74.800000</td>\n",
              "      <td>85.200000</td>\n",
              "      <td>56.500000</td>\n",
              "      <td>73.333333</td>\n",
              "      <td>3</td>\n",
              "      <td>5</td>\n",
              "      <td>5</td>\n",
              "      <td>4</td>\n",
              "      <td>3</td>\n",
              "      <td>94</td>\n",
              "      <td>95</td>\n",
              "      <td>97</td>\n",
              "      <td>97</td>\n",
              "      <td>98</td>\n",
              "      <td>57</td>\n",
              "      <td>51</td>\n",
              "      <td>65</td>\n",
              "      <td>36</td>\n",
              "      <td>44</td>\n",
              "      <td>12.170091</td>\n",
              "      <td>7.618399</td>\n",
              "      <td>5.851496</td>\n",
              "      <td>13.979151</td>\n",
              "      <td>15.762121</td>\n",
              "      <td>21.079216</td>\n",
              "      <td>17.035258</td>\n",
              "      <td>13.084342</td>\n",
              "      <td>27.958302</td>\n",
              "      <td>27.300794</td>\n",
              "      <td>244</td>\n",
              "      <td>374</td>\n",
              "      <td>426</td>\n",
              "      <td>226</td>\n",
              "      <td>220</td>\n",
              "      <td>444.333333</td>\n",
              "      <td>290.200000</td>\n",
              "      <td>171.200000</td>\n",
              "      <td>781.666667</td>\n",
              "      <td>745.333333</td>\n",
              "      <td>1</td>\n",
              "      <td>1</td>\n",
              "      <td>0</td>\n",
              "      <td>1</td>\n",
              "      <td>0</td>\n",
              "      <td>0</td>\n",
              "      <td>0</td>\n",
              "      <td>2</td>\n",
              "      <td>1</td>\n",
              "      <td>0</td>\n",
              "      <td>0</td>\n",
              "      <td>0</td>\n",
              "      <td>1</td>\n",
              "      <td>1</td>\n",
              "      <td>0</td>\n",
              "      <td>1</td>\n",
              "      <td>1</td>\n",
              "      <td>0</td>\n",
              "      <td>0</td>\n",
              "      <td>2</td>\n",
              "      <td>1</td>\n",
              "      <td>0</td>\n",
              "      <td>0</td>\n",
              "      <td>1</td>\n",
              "      <td>0</td>\n",
              "      <td>0</td>\n",
              "      <td>3</td>\n",
              "      <td>0</td>\n",
              "      <td>0</td>\n",
              "      <td>2</td>\n",
              "      <td>0</td>\n",
              "      <td>0</td>\n",
              "      <td>0</td>\n",
              "      <td>0</td>\n",
              "      <td>1</td>\n",
              "      <td>0</td>\n",
              "    </tr>\n",
              "    <tr>\n",
              "      <th>2</th>\n",
              "      <td>CS1114</td>\n",
              "      <td>85.200000</td>\n",
              "      <td>75.000000</td>\n",
              "      <td>70.400000</td>\n",
              "      <td>70.833333</td>\n",
              "      <td>79.000000</td>\n",
              "      <td>5</td>\n",
              "      <td>2</td>\n",
              "      <td>5</td>\n",
              "      <td>6</td>\n",
              "      <td>1</td>\n",
              "      <td>97</td>\n",
              "      <td>97</td>\n",
              "      <td>105</td>\n",
              "      <td>95</td>\n",
              "      <td>79</td>\n",
              "      <td>76</td>\n",
              "      <td>53</td>\n",
              "      <td>43</td>\n",
              "      <td>37</td>\n",
              "      <td>79</td>\n",
              "      <td>4.352011</td>\n",
              "      <td>22.000000</td>\n",
              "      <td>11.129241</td>\n",
              "      <td>11.001263</td>\n",
              "      <td>0.000000</td>\n",
              "      <td>9.731393</td>\n",
              "      <td>31.112698</td>\n",
              "      <td>24.885739</td>\n",
              "      <td>26.947480</td>\n",
              "      <td>0.000000</td>\n",
              "      <td>426</td>\n",
              "      <td>150</td>\n",
              "      <td>352</td>\n",
              "      <td>425</td>\n",
              "      <td>79</td>\n",
              "      <td>94.700000</td>\n",
              "      <td>968.000000</td>\n",
              "      <td>619.300000</td>\n",
              "      <td>726.166667</td>\n",
              "      <td>0.000000</td>\n",
              "      <td>0</td>\n",
              "      <td>1</td>\n",
              "      <td>0</td>\n",
              "      <td>1</td>\n",
              "      <td>1</td>\n",
              "      <td>0</td>\n",
              "      <td>2</td>\n",
              "      <td>0</td>\n",
              "      <td>0</td>\n",
              "      <td>1</td>\n",
              "      <td>1</td>\n",
              "      <td>0</td>\n",
              "      <td>0</td>\n",
              "      <td>0</td>\n",
              "      <td>0</td>\n",
              "      <td>1</td>\n",
              "      <td>0</td>\n",
              "      <td>1</td>\n",
              "      <td>2</td>\n",
              "      <td>0</td>\n",
              "      <td>1</td>\n",
              "      <td>1</td>\n",
              "      <td>1</td>\n",
              "      <td>1</td>\n",
              "      <td>1</td>\n",
              "      <td>0</td>\n",
              "      <td>1</td>\n",
              "      <td>1</td>\n",
              "      <td>0</td>\n",
              "      <td>0</td>\n",
              "      <td>0</td>\n",
              "      <td>0</td>\n",
              "      <td>1</td>\n",
              "      <td>0</td>\n",
              "      <td>0</td>\n",
              "      <td>1</td>\n",
              "    </tr>\n",
              "    <tr>\n",
              "      <th>3</th>\n",
              "      <td>CS1115</td>\n",
              "      <td>87.000000</td>\n",
              "      <td>67.571429</td>\n",
              "      <td>79.571429</td>\n",
              "      <td>78.250000</td>\n",
              "      <td>55.000000</td>\n",
              "      <td>3</td>\n",
              "      <td>7</td>\n",
              "      <td>7</td>\n",
              "      <td>4</td>\n",
              "      <td>1</td>\n",
              "      <td>102</td>\n",
              "      <td>104</td>\n",
              "      <td>94</td>\n",
              "      <td>98</td>\n",
              "      <td>55</td>\n",
              "      <td>72</td>\n",
              "      <td>41</td>\n",
              "      <td>66</td>\n",
              "      <td>50</td>\n",
              "      <td>55</td>\n",
              "      <td>8.660254</td>\n",
              "      <td>8.257341</td>\n",
              "      <td>3.981249</td>\n",
              "      <td>11.316470</td>\n",
              "      <td>0.000000</td>\n",
              "      <td>15.000000</td>\n",
              "      <td>21.846870</td>\n",
              "      <td>10.533394</td>\n",
              "      <td>22.632941</td>\n",
              "      <td>0.000000</td>\n",
              "      <td>261</td>\n",
              "      <td>473</td>\n",
              "      <td>557</td>\n",
              "      <td>313</td>\n",
              "      <td>55</td>\n",
              "      <td>225.000000</td>\n",
              "      <td>477.285714</td>\n",
              "      <td>110.952381</td>\n",
              "      <td>512.250000</td>\n",
              "      <td>0.000000</td>\n",
              "      <td>0</td>\n",
              "      <td>0</td>\n",
              "      <td>1</td>\n",
              "      <td>1</td>\n",
              "      <td>0</td>\n",
              "      <td>0</td>\n",
              "      <td>1</td>\n",
              "      <td>1</td>\n",
              "      <td>1</td>\n",
              "      <td>0</td>\n",
              "      <td>2</td>\n",
              "      <td>1</td>\n",
              "      <td>1</td>\n",
              "      <td>1</td>\n",
              "      <td>0</td>\n",
              "      <td>1</td>\n",
              "      <td>2</td>\n",
              "      <td>0</td>\n",
              "      <td>2</td>\n",
              "      <td>0</td>\n",
              "      <td>2</td>\n",
              "      <td>0</td>\n",
              "      <td>0</td>\n",
              "      <td>0</td>\n",
              "      <td>0</td>\n",
              "      <td>2</td>\n",
              "      <td>0</td>\n",
              "      <td>2</td>\n",
              "      <td>0</td>\n",
              "      <td>0</td>\n",
              "      <td>0</td>\n",
              "      <td>0</td>\n",
              "      <td>1</td>\n",
              "      <td>0</td>\n",
              "      <td>0</td>\n",
              "      <td>1</td>\n",
              "    </tr>\n",
              "    <tr>\n",
              "      <th>4</th>\n",
              "      <td>CS1116</td>\n",
              "      <td>58.750000</td>\n",
              "      <td>76.666667</td>\n",
              "      <td>59.000000</td>\n",
              "      <td>66.600000</td>\n",
              "      <td>0.000000</td>\n",
              "      <td>4</td>\n",
              "      <td>3</td>\n",
              "      <td>1</td>\n",
              "      <td>5</td>\n",
              "      <td>0</td>\n",
              "      <td>87</td>\n",
              "      <td>105</td>\n",
              "      <td>59</td>\n",
              "      <td>96</td>\n",
              "      <td>0</td>\n",
              "      <td>41</td>\n",
              "      <td>45</td>\n",
              "      <td>59</td>\n",
              "      <td>40</td>\n",
              "      <td>0</td>\n",
              "      <td>10.601690</td>\n",
              "      <td>17.400511</td>\n",
              "      <td>0.000000</td>\n",
              "      <td>11.285389</td>\n",
              "      <td>0.000000</td>\n",
              "      <td>21.203380</td>\n",
              "      <td>30.138569</td>\n",
              "      <td>0.000000</td>\n",
              "      <td>25.234896</td>\n",
              "      <td>0.000000</td>\n",
              "      <td>235</td>\n",
              "      <td>230</td>\n",
              "      <td>59</td>\n",
              "      <td>333</td>\n",
              "      <td>0</td>\n",
              "      <td>449.583333</td>\n",
              "      <td>908.333333</td>\n",
              "      <td>0.000000</td>\n",
              "      <td>636.800000</td>\n",
              "      <td>0.000000</td>\n",
              "      <td>1</td>\n",
              "      <td>1</td>\n",
              "      <td>0</td>\n",
              "      <td>0</td>\n",
              "      <td>1</td>\n",
              "      <td>1</td>\n",
              "      <td>0</td>\n",
              "      <td>1</td>\n",
              "      <td>0</td>\n",
              "      <td>0</td>\n",
              "      <td>0</td>\n",
              "      <td>1</td>\n",
              "      <td>1</td>\n",
              "      <td>0</td>\n",
              "      <td>1</td>\n",
              "      <td>0</td>\n",
              "      <td>0</td>\n",
              "      <td>0</td>\n",
              "      <td>0</td>\n",
              "      <td>0</td>\n",
              "      <td>0</td>\n",
              "      <td>3</td>\n",
              "      <td>1</td>\n",
              "      <td>0</td>\n",
              "      <td>1</td>\n",
              "      <td>0</td>\n",
              "      <td>0</td>\n",
              "      <td>0</td>\n",
              "      <td>0</td>\n",
              "      <td>0</td>\n",
              "      <td>0</td>\n",
              "      <td>0</td>\n",
              "      <td>0</td>\n",
              "      <td>0</td>\n",
              "      <td>0</td>\n",
              "      <td>1</td>\n",
              "    </tr>\n",
              "  </tbody>\n",
              "</table>\n",
              "</div>"
            ],
            "text/plain": [
              "  customer_id  ann_txn_amt_ave_2011  ...  cnt_2015_Wednesday  response\n",
              "0      CS1112             70.666667  ...                   1         0\n",
              "1      CS1113             81.333333  ...                   1         0\n",
              "2      CS1114             85.200000  ...                   0         1\n",
              "3      CS1115             87.000000  ...                   0         1\n",
              "4      CS1116             58.750000  ...                   0         1\n",
              "\n",
              "[5 rows x 77 columns]"
            ]
          },
          "metadata": {},
          "execution_count": 3
        }
      ]
    },
    {
      "cell_type": "code",
      "metadata": {
        "id": "TJHkAeAIi35e",
        "colab": {
          "base_uri": "https://localhost:8080/",
          "height": 348
        },
        "outputId": "57190306-bcc3-4abf-9df8-80bec046eaf3"
      },
      "source": [
        "#create monthly features\n",
        "mth_rolling_features = pd.read_excel('mth_rolling_features.xlsx')\n",
        "mth_rolling_features = mth_rolling_features.drop('Unnamed: 0', axis = 1)\n",
        "mth_rolling_features = mth_rolling_features.fillna(0)\n",
        "\n",
        "mth_day_counts = pd.read_excel('mth_day_counts.xlsx')\n",
        "mth_day_counts = mth_day_counts.drop('Unnamed: 0', axis = 1)\n",
        "\n",
        "day_since_last_txn = pd.read_excel('days_since_last_txn.xlsx')\n",
        "day_since_last_txn = day_since_last_txn.drop('Unnamed: 0', axis = 1)\n",
        "\n",
        "mth_features_outputs = pd.merge(mth_rolling_features, mth_day_counts, on = ['CLNT_NO', 'ME_DT']).merge(day_since_last_txn, on = ['CLNT_NO', 'ME_DT']).merge(kaggle.rename(columns={'customer_id': 'CLNT_NO'}), on = 'CLNT_NO')\n",
        "mth_features_outputs.head() "
      ],
      "execution_count": 4,
      "outputs": [
        {
          "output_type": "execute_result",
          "data": {
            "text/html": [
              "<div>\n",
              "<style scoped>\n",
              "    .dataframe tbody tr th:only-of-type {\n",
              "        vertical-align: middle;\n",
              "    }\n",
              "\n",
              "    .dataframe tbody tr th {\n",
              "        vertical-align: top;\n",
              "    }\n",
              "\n",
              "    .dataframe thead th {\n",
              "        text-align: right;\n",
              "    }\n",
              "</style>\n",
              "<table border=\"1\" class=\"dataframe\">\n",
              "  <thead>\n",
              "    <tr style=\"text-align: right;\">\n",
              "      <th></th>\n",
              "      <th>CLNT_NO</th>\n",
              "      <th>ME_DT</th>\n",
              "      <th>mth_txn_amt_sum</th>\n",
              "      <th>mth_txn_cnt</th>\n",
              "      <th>amt_sum_3M</th>\n",
              "      <th>amt_mean_3M</th>\n",
              "      <th>amt_max_3M</th>\n",
              "      <th>txn_cnt_sum_3M</th>\n",
              "      <th>txn_cnt_mean_3M</th>\n",
              "      <th>txn_cnt_max_3M</th>\n",
              "      <th>amt_sum_6M</th>\n",
              "      <th>amt_mean_6M</th>\n",
              "      <th>amt_max_6M</th>\n",
              "      <th>txn_cnt_sum_6M</th>\n",
              "      <th>txn_cnt_mean_6M</th>\n",
              "      <th>txn_cnt_max_6M</th>\n",
              "      <th>amt_sum_12M</th>\n",
              "      <th>amt_mean_12M</th>\n",
              "      <th>amt_max_12M</th>\n",
              "      <th>txn_cnt_sum_12M</th>\n",
              "      <th>txn_cnt_mean_12M</th>\n",
              "      <th>txn_cnt_max_12M</th>\n",
              "      <th>cnt_Friday</th>\n",
              "      <th>cnt_Monday</th>\n",
              "      <th>cnt_Saturday</th>\n",
              "      <th>cnt_Sunday</th>\n",
              "      <th>cnt_Thursday</th>\n",
              "      <th>cnt_Tuesday</th>\n",
              "      <th>cnt_Wednesday</th>\n",
              "      <th>days_since_last_txn</th>\n",
              "      <th>response</th>\n",
              "    </tr>\n",
              "  </thead>\n",
              "  <tbody>\n",
              "    <tr>\n",
              "      <th>0</th>\n",
              "      <td>CS1112</td>\n",
              "      <td>2011-05-31</td>\n",
              "      <td>0</td>\n",
              "      <td>0</td>\n",
              "      <td>0.0</td>\n",
              "      <td>0.000000</td>\n",
              "      <td>0.0</td>\n",
              "      <td>0.0</td>\n",
              "      <td>0.000000</td>\n",
              "      <td>0.0</td>\n",
              "      <td>0.0</td>\n",
              "      <td>0.0</td>\n",
              "      <td>0.0</td>\n",
              "      <td>0.0</td>\n",
              "      <td>0.0</td>\n",
              "      <td>0.0</td>\n",
              "      <td>0.0</td>\n",
              "      <td>0.0</td>\n",
              "      <td>0.0</td>\n",
              "      <td>0.0</td>\n",
              "      <td>0.0</td>\n",
              "      <td>0.0</td>\n",
              "      <td>0</td>\n",
              "      <td>0</td>\n",
              "      <td>0</td>\n",
              "      <td>0</td>\n",
              "      <td>0</td>\n",
              "      <td>0</td>\n",
              "      <td>0</td>\n",
              "      <td>-5</td>\n",
              "      <td>0</td>\n",
              "    </tr>\n",
              "    <tr>\n",
              "      <th>1</th>\n",
              "      <td>CS1112</td>\n",
              "      <td>2011-06-30</td>\n",
              "      <td>56</td>\n",
              "      <td>1</td>\n",
              "      <td>0.0</td>\n",
              "      <td>0.000000</td>\n",
              "      <td>0.0</td>\n",
              "      <td>0.0</td>\n",
              "      <td>0.000000</td>\n",
              "      <td>0.0</td>\n",
              "      <td>0.0</td>\n",
              "      <td>0.0</td>\n",
              "      <td>0.0</td>\n",
              "      <td>0.0</td>\n",
              "      <td>0.0</td>\n",
              "      <td>0.0</td>\n",
              "      <td>0.0</td>\n",
              "      <td>0.0</td>\n",
              "      <td>0.0</td>\n",
              "      <td>0.0</td>\n",
              "      <td>0.0</td>\n",
              "      <td>0.0</td>\n",
              "      <td>0</td>\n",
              "      <td>0</td>\n",
              "      <td>0</td>\n",
              "      <td>0</td>\n",
              "      <td>0</td>\n",
              "      <td>0</td>\n",
              "      <td>1</td>\n",
              "      <td>15</td>\n",
              "      <td>0</td>\n",
              "    </tr>\n",
              "    <tr>\n",
              "      <th>2</th>\n",
              "      <td>CS1112</td>\n",
              "      <td>2011-07-31</td>\n",
              "      <td>0</td>\n",
              "      <td>0</td>\n",
              "      <td>56.0</td>\n",
              "      <td>18.666667</td>\n",
              "      <td>56.0</td>\n",
              "      <td>1.0</td>\n",
              "      <td>0.333333</td>\n",
              "      <td>1.0</td>\n",
              "      <td>0.0</td>\n",
              "      <td>0.0</td>\n",
              "      <td>0.0</td>\n",
              "      <td>0.0</td>\n",
              "      <td>0.0</td>\n",
              "      <td>0.0</td>\n",
              "      <td>0.0</td>\n",
              "      <td>0.0</td>\n",
              "      <td>0.0</td>\n",
              "      <td>0.0</td>\n",
              "      <td>0.0</td>\n",
              "      <td>0.0</td>\n",
              "      <td>0</td>\n",
              "      <td>0</td>\n",
              "      <td>0</td>\n",
              "      <td>0</td>\n",
              "      <td>0</td>\n",
              "      <td>0</td>\n",
              "      <td>0</td>\n",
              "      <td>46</td>\n",
              "      <td>0</td>\n",
              "    </tr>\n",
              "    <tr>\n",
              "      <th>3</th>\n",
              "      <td>CS1112</td>\n",
              "      <td>2011-08-31</td>\n",
              "      <td>96</td>\n",
              "      <td>1</td>\n",
              "      <td>152.0</td>\n",
              "      <td>50.666667</td>\n",
              "      <td>96.0</td>\n",
              "      <td>2.0</td>\n",
              "      <td>0.666667</td>\n",
              "      <td>1.0</td>\n",
              "      <td>0.0</td>\n",
              "      <td>0.0</td>\n",
              "      <td>0.0</td>\n",
              "      <td>0.0</td>\n",
              "      <td>0.0</td>\n",
              "      <td>0.0</td>\n",
              "      <td>0.0</td>\n",
              "      <td>0.0</td>\n",
              "      <td>0.0</td>\n",
              "      <td>0.0</td>\n",
              "      <td>0.0</td>\n",
              "      <td>0.0</td>\n",
              "      <td>1</td>\n",
              "      <td>0</td>\n",
              "      <td>0</td>\n",
              "      <td>0</td>\n",
              "      <td>0</td>\n",
              "      <td>0</td>\n",
              "      <td>0</td>\n",
              "      <td>12</td>\n",
              "      <td>0</td>\n",
              "    </tr>\n",
              "    <tr>\n",
              "      <th>4</th>\n",
              "      <td>CS1112</td>\n",
              "      <td>2011-09-30</td>\n",
              "      <td>0</td>\n",
              "      <td>0</td>\n",
              "      <td>96.0</td>\n",
              "      <td>32.000000</td>\n",
              "      <td>96.0</td>\n",
              "      <td>1.0</td>\n",
              "      <td>0.333333</td>\n",
              "      <td>1.0</td>\n",
              "      <td>0.0</td>\n",
              "      <td>0.0</td>\n",
              "      <td>0.0</td>\n",
              "      <td>0.0</td>\n",
              "      <td>0.0</td>\n",
              "      <td>0.0</td>\n",
              "      <td>0.0</td>\n",
              "      <td>0.0</td>\n",
              "      <td>0.0</td>\n",
              "      <td>0.0</td>\n",
              "      <td>0.0</td>\n",
              "      <td>0.0</td>\n",
              "      <td>0</td>\n",
              "      <td>0</td>\n",
              "      <td>0</td>\n",
              "      <td>0</td>\n",
              "      <td>0</td>\n",
              "      <td>0</td>\n",
              "      <td>0</td>\n",
              "      <td>42</td>\n",
              "      <td>0</td>\n",
              "    </tr>\n",
              "  </tbody>\n",
              "</table>\n",
              "</div>"
            ],
            "text/plain": [
              "  CLNT_NO      ME_DT  ...  days_since_last_txn  response\n",
              "0  CS1112 2011-05-31  ...                   -5         0\n",
              "1  CS1112 2011-06-30  ...                   15         0\n",
              "2  CS1112 2011-07-31  ...                   46         0\n",
              "3  CS1112 2011-08-31  ...                   12         0\n",
              "4  CS1112 2011-09-30  ...                   42         0\n",
              "\n",
              "[5 rows x 31 columns]"
            ]
          },
          "metadata": {},
          "execution_count": 4
        }
      ]
    },
    {
      "cell_type": "markdown",
      "metadata": {
        "id": "mW2BMe2wF0wl"
      },
      "source": [
        "### 1.2 Steps for each method (10 points)"
      ]
    },
    {
      "cell_type": "markdown",
      "metadata": {
        "id": "1BTrlrp7F2XF"
      },
      "source": [
        "> 1. Separate the inputs X and the output y in two data frames.\n",
        "> 2. Split the data in train and test set. Use a test size value of 2/3 and set the random state\n",
        "equal to 1147 for consistency (i.e. the course code value). Use the following names for\n",
        "consistency.\n",
        "\n",
        "|Annual|Monthly|\n",
        "| ---------------- | ----------- |\n",
        "|X_train_annual  y_train_annual| X_train_monthly  y_train_monthly|\n",
        "|X_test_annual  y_test_annual|X_test_monthly  y_test_monthly|\n",
        "> 3. Pre-process (if necessary for the method).\n",
        "> 4. Fit the training dataset and optimize the hyperparameters of the method.\n",
        "> 5. Plot coeffcient values or feature importance.\n",
        "> 6. Plot probability distribution for test set.\n",
        "> 7. Plot confusion matrix and ROC curves of train/test set. Calculate precision/recall.\n",
        "> 8. Plot decision boundary for top 2 features."
      ]
    },
    {
      "cell_type": "markdown",
      "metadata": {
        "id": "zlHBc0CZPuPS"
      },
      "source": [
        "#### Part 1: Annual Features"
      ]
    },
    {
      "cell_type": "code",
      "metadata": {
        "id": "1iqYdnnGP8tm"
      },
      "source": [
        "#1.Separate the inputs X and the output y in two data frames.\n",
        "#drop customer_id and response for X_annual\n",
        "X_annual = annual_features_outputs.drop(['customer_id', 'response'], axis = 1)\n",
        "y_annual = annual_features_outputs['response']"
      ],
      "execution_count": 5,
      "outputs": []
    },
    {
      "cell_type": "code",
      "metadata": {
        "id": "LTWOj1VaQAfk"
      },
      "source": [
        "#2.Split the data in train and test set.\n",
        "X_train_annual, X_test_annual, y_train_annual, y_test_annual = train_test_split(X_annual, y_annual, test_size=2/3, random_state=1147)"
      ],
      "execution_count": 6,
      "outputs": []
    },
    {
      "cell_type": "code",
      "metadata": {
        "id": "_3D3EanAQLnG"
      },
      "source": [
        "#3.Pre-processing\n",
        "scaler_annual = StandardScaler()\n",
        "X_train_annual = scaler_annual.fit_transform(X_train_annual)\n",
        "X_test_annual = scaler_annual.transform(X_test_annual)"
      ],
      "execution_count": 9,
      "outputs": []
    },
    {
      "cell_type": "markdown",
      "metadata": {
        "id": "beRigK7Z8wGw"
      },
      "source": [
        "\n",
        "\n",
        "*   Logistic Regression with L1 regularization\n",
        "\n"
      ]
    },
    {
      "cell_type": "code",
      "metadata": {
        "colab": {
          "base_uri": "https://localhost:8080/"
        },
        "id": "Nl8wqRC88m0I",
        "outputId": "53c24676-88e1-42d5-f044-adc6b6f6232a"
      },
      "source": [
        "# 4. Fit the training dataset and optimize the hyperparameters of the method\n",
        "lr = LogisticRegression(penalty ='l1', solver = 'liblinear', random_state=1147)\n",
        "\n",
        "# Gridsearch best hyperparameters using mereic 'roc_auc'\n",
        "grid = GridSearchCV(lr, {'C':[0.0025, 0.005, 0.01, 0.05, 0.1, 1, 10, 100]}, scoring='f1', cv=10, n_jobs=-1)\n",
        "grid.fit(X_train_annual, y_train_annual)\n",
        "best_hyper = grid.best_params_\n",
        "print (\"Best f1: {}\".format(grid.best_score_))      \n",
        "print('The best parameter:', best_hyper)\n",
        "\n",
        "# fit model on the training dataset\n",
        "lr = LogisticRegression(C=best_hyper['C'], penalty ='l1', solver = 'liblinear', random_state=1147)\n",
        "\n",
        "lr.fit(X_train_annual, y_train_annual)"
      ],
      "execution_count": 13,
      "outputs": [
        {
          "output_type": "stream",
          "name": "stdout",
          "text": [
            "Best f1: 0.11820284063762328\n",
            "The best parameter: {'C': 10}\n"
          ]
        },
        {
          "output_type": "execute_result",
          "data": {
            "text/plain": [
              "LogisticRegression(C=10, penalty='l1', random_state=1147, solver='liblinear')"
            ]
          },
          "metadata": {},
          "execution_count": 13
        }
      ]
    },
    {
      "cell_type": "code",
      "metadata": {
        "colab": {
          "base_uri": "https://localhost:8080/",
          "height": 411
        },
        "id": "9rt8S50N_ADT",
        "outputId": "2807454d-e426-409a-c593-41620e837892"
      },
      "source": [
        "# 5. Plot coeffcient values or feature importance.\n",
        "coeffcient = lr.coef_\n",
        "\n",
        "plt.figure(figsize=(16,5))\n",
        "plt.bar(range(X_annual.shape[1]), coeffcient[0])\n",
        "plt.title(\"Coefficient values\")\n",
        "plt.xticks(range(X_annual.shape[1]), X_annual.columns, rotation=90,size=7)\n",
        "plt.show()"
      ],
      "execution_count": 14,
      "outputs": [
        {
          "output_type": "display_data",
          "data": {
            "image/png": "[encoded data removed]",
            "text/plain": [
              "<Figure size 1152x360 with 1 Axes>"
            ]
          },
          "metadata": {
            "needs_background": "light"
          }
        }
      ]
    },
    {
      "cell_type": "code",
      "metadata": {
        "id": "ppf0gffJ_1Tn"
      },
      "source": [
        ""
      ],
      "execution_count": null,
      "outputs": []
    },
    {
      "cell_type": "code",
      "metadata": {
        "colab": {
          "base_uri": "https://localhost:8080/"
        },
        "id": "heMO6KLs735y",
        "outputId": "0c153c87-9d50-4499-ea8b-01f1852e6ed0"
      },
      "source": [
        "y_annual.value_counts()"
      ],
      "execution_count": 8,
      "outputs": [
        {
          "output_type": "execute_result",
          "data": {
            "text/plain": [
              "0    6237\n",
              "1     647\n",
              "Name: response, dtype: int64"
            ]
          },
          "metadata": {},
          "execution_count": 8
        }
      ]
    },
    {
      "cell_type": "markdown",
      "metadata": {
        "id": "dE4GNPlEF50O"
      },
      "source": [
        "> 2. Split the data in train and test set. Use a test size value of 2/3 and set the random state\n",
        "equal to 1147 for consistency (i.e. the course code value). Use the following names for\n",
        "consistency.\n",
        "\n",
        "|Annual|Monthly|\n",
        "| ---------------- | ----------- |\n",
        "|X_train_annual  y_train_annual| X_train_monthly  y_train_monthly|\n",
        "|X_test_annual  y_test_annual|X_test_monthly  y_test_monthly|"
      ]
    },
    {
      "cell_type": "markdown",
      "metadata": {
        "id": "Pgk7UYHfIAbe"
      },
      "source": [
        "> 3. Pre-process (if necessary for the method)."
      ]
    },
    {
      "cell_type": "markdown",
      "metadata": {
        "id": "U3GaPmIwIElb"
      },
      "source": [
        "> 4. Fit the training dataset and optimize the hyperparameters of the method."
      ]
    },
    {
      "cell_type": "code",
      "metadata": {
        "id": "jCeg4FU4RBrj"
      },
      "source": [
        ""
      ],
      "execution_count": null,
      "outputs": []
    },
    {
      "cell_type": "code",
      "metadata": {
        "id": "7lsCxs-n1bB8"
      },
      "source": [
        "#drop CLNT_NO, ME_DT and response for X_annual\n",
        "X_mth = mth_features_outputs.drop(['CLNT_NO', 'response', 'ME_DT'], axis = 1)\n",
        "y_mth = mth_features_outputs['response']"
      ],
      "execution_count": null,
      "outputs": []
    },
    {
      "cell_type": "code",
      "metadata": {
        "id": "M-BWadUS3FoS"
      },
      "source": [
        "X_train_monthly, X_test_monthly, y_train_monthly, y_test_monthly = train_test_split(X_mth, y_mth, test_size=2/3, random_state=1147)"
      ],
      "execution_count": null,
      "outputs": []
    },
    {
      "cell_type": "code",
      "metadata": {
        "id": "-kYugKww4x7Z"
      },
      "source": [
        ""
      ],
      "execution_count": null,
      "outputs": []
    },
    {
      "cell_type": "markdown",
      "metadata": {
        "id": "PuVDA68sIFmv"
      },
      "source": [
        "> 5. Plot coeffcient values or feature importance."
      ]
    },
    {
      "cell_type": "markdown",
      "metadata": {
        "id": "JNiojvUBIJZx"
      },
      "source": [
        "> 6. Plot probability distribution for test set."
      ]
    },
    {
      "cell_type": "markdown",
      "metadata": {
        "id": "C0J6SHTgILdw"
      },
      "source": [
        "> 7. Plot confusion matrix and ROC curves of train/test set. Calculate precision/recall."
      ]
    },
    {
      "cell_type": "markdown",
      "metadata": {
        "id": "bE-posxUIOYD"
      },
      "source": [
        "> 8. Plot decision boundary for top 2 features."
      ]
    },
    {
      "cell_type": "markdown",
      "metadata": {
        "id": "v8UrosIlIQdm"
      },
      "source": [
        "### 1.3 Comparison of methods (10 points)"
      ]
    },
    {
      "cell_type": "markdown",
      "metadata": {
        "id": "1mPaAYYyIU2M"
      },
      "source": [
        "> Compare the two feature engineering (annual and monthly) and the three modeling approaches (L1 log-reg, tree, forests) in terms of the outcomes of steps 5-8. Which combination of feature engineering and modeling approach do you select as the best to deploy in a\n",
        "production environment and why? Tabularize your findings in steps 5-8 to summarize the\n",
        "results and support your decision (how to organize information with tables in Markdown)."
      ]
    },
    {
      "cell_type": "code",
      "metadata": {
        "id": "-Z-HpOXfC-bP"
      },
      "source": [
        ""
      ],
      "execution_count": null,
      "outputs": []
    }
  ]
}